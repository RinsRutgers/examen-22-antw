{
 "cells": [
  {
   "cell_type": "code",
   "execution_count": 1,
   "metadata": {},
   "outputs": [],
   "source": [
    "import sys\n",
    "\n",
    "sys.path.insert(0, \"..\")\n",
    "from src.settings import StyleSettings\n",
    "from src.data.data_tools import StyleDataset\n",
    "import numpy as np\n",
    "import seaborn as sns\n"
   ]
  },
  {
   "cell_type": "markdown",
   "metadata": {},
   "source": [
    "# Load the data"
   ]
  },
  {
   "cell_type": "code",
   "execution_count": 2,
   "metadata": {},
   "outputs": [],
   "source": [
    "settings = StyleSettings()\n",
    "traindataset = StyleDataset([settings.trainpath])\n",
    "testdataset = StyleDataset([settings.testpath])\n"
   ]
  },
  {
   "cell_type": "markdown",
   "metadata": {},
   "source": [
    "We have 419 batches in the dataset"
   ]
  },
  {
   "cell_type": "code",
   "execution_count": 3,
   "metadata": {},
   "outputs": [
    {
     "data": {
      "text/plain": [
       "419"
      ]
     },
     "execution_count": 3,
     "metadata": {},
     "output_type": "execute_result"
    }
   ],
   "source": [
    "len(traindataset) // 32\n"
   ]
  },
  {
   "cell_type": "code",
   "execution_count": 4,
   "metadata": {},
   "outputs": [
    {
     "data": {
      "text/plain": [
       "('Lace is an openwork fabric , patterned with open holes in the work , made by machine or by hand.',\n",
       " 'wiki')"
      ]
     },
     "execution_count": 4,
     "metadata": {},
     "output_type": "execute_result"
    }
   ],
   "source": [
    "x, y = traindataset[42]\n",
    "x, y\n"
   ]
  },
  {
   "cell_type": "markdown",
   "metadata": {},
   "source": [
    "Every batch is a `Tuple[str, str]` of a sentence and a label. We can see this is a classification task.\n",
    "The task is, to classify sentences in four categories.\n",
    "Lets build a vocabulary by copy-pasting the code we used before"
   ]
  },
  {
   "cell_type": "code",
   "execution_count": 5,
   "metadata": {},
   "outputs": [
    {
     "name": "stderr",
     "output_type": "stream",
     "text": [
      "2022-07-21 13:33:16.360 | INFO     | src.models.tokenizer:build_vocab:27 - Found 19306 tokens\n"
     ]
    },
    {
     "data": {
      "text/plain": [
       "19308"
      ]
     },
     "execution_count": 5,
     "metadata": {},
     "output_type": "execute_result"
    }
   ],
   "source": [
    "from src.models import tokenizer\n",
    "\n",
    "corpus = []\n",
    "count = []\n",
    "for i in range(len(traindataset)):\n",
    "    x = tokenizer.clean(traindataset[i][0])\n",
    "    corpus.append(x)\n",
    "    \n",
    "v = tokenizer.build_vocab(corpus, max=20000)\n",
    "len(v)\n"
   ]
  },
  {
   "cell_type": "markdown",
   "metadata": {},
   "source": [
    "We need to cast the labels to an integers. You can use this dictionary to do so:"
   ]
  },
  {
   "cell_type": "code",
   "execution_count": 6,
   "metadata": {},
   "outputs": [
    {
     "data": {
      "text/plain": [
       "2"
      ]
     },
     "execution_count": 6,
     "metadata": {},
     "output_type": "execute_result"
    }
   ],
   "source": [
    "d = {\"humor\": 0, \"reuters\": 1, \"wiki\": 2, \"proverbs\": 3}\n",
    "d[y]\n"
   ]
  },
  {
   "cell_type": "code",
   "execution_count": null,
   "metadata": {},
   "outputs": [],
   "source": []
  },
  {
   "cell_type": "markdown",
   "metadata": {},
   "source": [
    "# Question 1\n",
    "Figure out, for every class, what accuracy you should expect if the model would guess blind on the train set"
   ]
  },
  {
   "cell_type": "code",
   "execution_count": 7,
   "metadata": {},
   "outputs": [
    {
     "name": "stdout",
     "output_type": "stream",
     "text": [
      "humor komt 31.414510476474533 % voor in de dataset, blind guess accuracy for this class: 7.853627619118633\n",
      "reuters komt 31.21318320781448 % voor in de dataset, blind guess accuracy for this class: 7.80329580195362\n",
      "wiki komt 31.175900380284844 % voor in de dataset, blind guess accuracy for this class: 7.793975095071211\n",
      "proverbs komt 6.196405935426143 % voor in de dataset, blind guess accuracy for this class: 1.5491014838565358\n"
     ]
    }
   ],
   "source": [
    "count = {\"humor\": 0, \"reuters\": 0, \"wiki\": 0, \"proverbs\": 0}\n",
    "total = len(traindataset)\n",
    "for i in range(len(traindataset)):\n",
    "    x = tokenizer.clean(traindataset[i][1])\n",
    "    count[x] = count[x] + 1\n",
    "\n",
    "for style in d:\n",
    "    print(f'{style} komt {((count[style] / total ) * 100 )} % voor in de dataset, blind guess accuracy for this class: {((count[style] / total ) * 100 )*.25}')"
   ]
  },
  {
   "cell_type": "markdown",
   "metadata": {},
   "source": [
    "Reflect on what you see. What does this mean? What implications does this have? Why is that good/bad?\n",
    "Are there things down the line that could cause a problem?"
   ]
  },
  {
   "cell_type": "markdown",
   "metadata": {},
   "source": [
    "Proverbs komt erg weining voor, daarom heeft het model weinig om daar van te leren. De nuance mist dan gok ik en je model wordt biased. \n",
    "\n",
    "ik dacht dat je de rest van de dataset kon trimmen tot een gelijwaardige verdeling, maar dit kan niet zo makkelijk zoals ik dacht omdat je inderdaad nog shuffled. "
   ]
  },
  {
   "cell_type": "markdown",
   "metadata": {},
   "source": [
    "# Question 2 : Implement a preprocessor\n",
    "\n",
    "We can inherit from `tokenizer.Preprocessor`\n",
    "Only thing we need to adjust is the `cast_label` function.\n",
    " \n",
    "- create a StylePreprocessor class\n",
    "- inherit from Preprocessor\n",
    "- create a new cast_label function for this dataset"
   ]
  },
  {
   "cell_type": "code",
   "execution_count": 8,
   "metadata": {},
   "outputs": [],
   "source": [
    "# TODO ~ about 4 lines of code\n",
    "\n",
    "class StylePreprocessor(tokenizer.Preprocessor):\n",
    "    def cast_label(self, label: str) -> int:\n",
    "        d = {\"humor\":0, \"reuters\": 1, \"wiki\": 2, \"proverbs\": 3}\n",
    "        return d[label]\n"
   ]
  },
  {
   "cell_type": "markdown",
   "metadata": {},
   "source": [
    "To test the preprocessor:"
   ]
  },
  {
   "cell_type": "code",
   "execution_count": 9,
   "metadata": {},
   "outputs": [
    {
     "data": {
      "text/plain": [
       "(tensor([[1347]], dtype=torch.int32), tensor([2]))"
      ]
     },
     "execution_count": 9,
     "metadata": {},
     "output_type": "execute_result"
    }
   ],
   "source": [
    "preprocessor = StylePreprocessor(max=100, vocab=v, clean=tokenizer.clean)\n",
    "preprocessor([(x, y)])\n"
   ]
  },
  {
   "cell_type": "markdown",
   "metadata": {},
   "source": [
    "# Set up the model\n",
    "We can re-use the BaseDatastreamer"
   ]
  },
  {
   "cell_type": "code",
   "execution_count": 10,
   "metadata": {},
   "outputs": [],
   "source": [
    "from src.data import data_tools\n",
    "\n",
    "trainstreamer = data_tools.BaseDatastreamer(\n",
    "    dataset=traindataset, batchsize=32, preprocessor=preprocessor\n",
    ").stream()\n",
    "teststreamer = data_tools.BaseDatastreamer(\n",
    "    dataset=testdataset, batchsize=32, preprocessor=preprocessor\n",
    ").stream()\n"
   ]
  },
  {
   "cell_type": "code",
   "execution_count": 11,
   "metadata": {},
   "outputs": [
    {
     "data": {
      "text/plain": [
       "(torch.Size([32, 32]),\n",
       " tensor([1, 1, 0, 2, 2, 0, 2, 0, 1, 3, 1, 1, 3, 2, 2, 2, 2, 0, 2, 0, 2, 1, 0, 2,\n",
       "         2, 0, 2, 1, 3, 1, 2, 0]))"
      ]
     },
     "execution_count": 11,
     "metadata": {},
     "output_type": "execute_result"
    }
   ],
   "source": [
    "x, y = next(trainstreamer)\n",
    "x.shape, y\n"
   ]
  },
  {
   "cell_type": "markdown",
   "metadata": {},
   "source": [
    "## Question 3 : Metrics, loss\n",
    "Select proper metrics and a loss function.\n",
    "\n",
    "Bonus: implement an additional metric function that is relevant for this case."
   ]
  },
  {
   "cell_type": "markdown",
   "metadata": {},
   "source": [
    "Accuracy is een handige metric als je data goed evenredig versprijd is. Dat is hiet niet het geval. Voor ongebalanceerde datasets wordt F1score aangeraden. Bron:   https://towardsdatascience.com/the-f1-score-bec2bbc38aa6"
   ]
  },
  {
   "cell_type": "code",
   "execution_count": 12,
   "metadata": {},
   "outputs": [
    {
     "name": "stdout",
     "output_type": "stream",
     "text": [
      "[Accuracy, F1Score]\n"
     ]
    }
   ],
   "source": [
    "from src.models import metrics\n",
    "import torch\n",
    "# TODO ~ 2 lines of code\n",
    "\n",
    "metrics = [metrics.Accuracy(), metrics.F1Score()]\n",
    "\n",
    "loss_fn = torch.nn.CrossEntropyLoss()"
   ]
  },
  {
   "cell_type": "markdown",
   "metadata": {},
   "source": [
    "## Question 4 : Basemodel\n",
    "Create a base model. It does not need to be naive; you could re-use the\n",
    "NLP models we used for the IMDB.\n",
    "\n",
    "I suggest to start with a hidden size of about 128.\n",
    "Use a config dictionary, or a gin file, both are fine.\n",
    "\n",
    "Bonus points if you create a Trax model in src.models, and even more if you add a trax training loop."
   ]
  },
  {
   "cell_type": "code",
   "execution_count": 13,
   "metadata": {},
   "outputs": [
    {
     "name": "stdout",
     "output_type": "stream",
     "text": [
      "NLPmodel(\n",
      "  (emb): Embedding(19308, 128)\n",
      "  (rnn): GRU(128, 128, num_layers=3, batch_first=True, dropout=0.1)\n",
      "  (linear): Linear(in_features=128, out_features=4, bias=True)\n",
      ")\n"
     ]
    }
   ],
   "source": [
    "log_dir = settings.log_dir\n",
    "# TODO between 2 and 8 lines of code, depending on your setup\n",
    "# Assuming you load your model in one line of code from src.models.rnn\n",
    "from src.models import rnn\n",
    "\n",
    "config = {\n",
    "    \"vocab\": len(v),\n",
    "    \"input_size\": 32,\n",
    "    \"hidden_size\": 128,\n",
    "    \"num_layers\": 3,\n",
    "    \"dropout\": 0.1,\n",
    "    \"output_size\": 4,\n",
    "}\n",
    "\n",
    "model = rnn.NLPmodel(config)\n",
    "print(model)"
   ]
  },
  {
   "cell_type": "markdown",
   "metadata": {},
   "source": [
    "Set up the trainloop.\n",
    "\n",
    "- Give the lenght of the traindataset, how many batches of 32 can you get out of it?\n",
    "- If you take a short amount of train_steps (eg 25) for every epoch, how many epochs do you need to cover the complete dataset?\n",
    "- What amount of epochs do you need to run the loop with trainsteps=25 to cover the complete traindataset once? \n",
    "- answer the questions above, and pick a reasonable epoch lenght\n",
    "\n",
    "Start with a default learning_rate of 1e-3 and an Adam optimizer."
   ]
  },
  {
   "cell_type": "code",
   "execution_count": 14,
   "metadata": {},
   "outputs": [
    {
     "name": "stdout",
     "output_type": "stream",
     "text": [
      "419.09375 batches in traindataset\n",
      "16.76375 epochs\n"
     ]
    }
   ],
   "source": [
    "print(f\"{len(traindataset) / 32} batches in traindataset\")\n",
    "print(f\"{(len(traindataset) / 32)/25} epochs\")"
   ]
  },
  {
   "cell_type": "markdown",
   "metadata": {},
   "source": [
    "### Opmerking\n",
    "\n",
    "Hoi Raoul, bij bovenstaande vraag vraag ik mij af of de term epochs wel helemaal juist is, ik lees overal op het internet dat een epoch betekend dat je een keer door de hele dataset gaat. Maar als ik naar de vraag kijk lijkt dat niet helemaal op te gaan.\n"
   ]
  },
  {
   "cell_type": "code",
   "execution_count": 15,
   "metadata": {},
   "outputs": [
    {
     "name": "stderr",
     "output_type": "stream",
     "text": [
      "2022-07-21 13:33:17.570259: I tensorflow/core/util/util.cc:169] oneDNN custom operations are on. You may see slightly different numerical results due to floating-point round-off errors from different computation orders. To turn them off, set the environment variable `TF_ENABLE_ONEDNN_OPTS=0`.\n",
      "2022-07-21 13:33:19.597 | INFO     | src.data.data_tools:dir_add_timestamp:67 - Logging to ../model/basis/20220721-1333\n",
      "100%|██████████| 25/25 [00:02<00:00, 10.56it/s]\n",
      "2022-07-21 13:33:22.446 | INFO     | src.training.train_model:trainloop:164 - Epoch 0 train 1.2987 test 1.2602 metric ['0.3150', '0.1643']\n",
      "100%|██████████| 25/25 [00:01<00:00, 15.29it/s]\n",
      "2022-07-21 13:33:24.574 | INFO     | src.training.train_model:trainloop:164 - Epoch 1 train 1.2573 test 1.2474 metric ['0.4050', '0.2404']\n",
      "100%|██████████| 25/25 [00:01<00:00, 13.83it/s]\n",
      "2022-07-21 13:33:26.877 | INFO     | src.training.train_model:trainloop:164 - Epoch 2 train 1.1804 test 1.0650 metric ['0.5288', '0.3953']\n",
      "100%|██████████| 25/25 [00:01<00:00, 15.90it/s]\n",
      "2022-07-21 13:33:28.927 | INFO     | src.training.train_model:trainloop:164 - Epoch 3 train 1.0302 test 0.8778 metric ['0.5938', '0.4402']\n",
      "100%|██████████| 25/25 [00:01<00:00, 13.55it/s]\n",
      "2022-07-21 13:33:31.269 | INFO     | src.training.train_model:trainloop:164 - Epoch 4 train 0.8971 test 0.7580 metric ['0.7288', '0.5928']\n",
      "100%|██████████| 25/25 [00:02<00:00, 10.65it/s]\n",
      "2022-07-21 13:33:34.108 | INFO     | src.training.train_model:trainloop:164 - Epoch 5 train 0.7534 test 0.6368 metric ['0.7762', '0.6309']\n",
      "100%|██████████| 25/25 [00:01<00:00, 14.21it/s]\n",
      "2022-07-21 13:33:36.358 | INFO     | src.training.train_model:trainloop:164 - Epoch 6 train 0.6200 test 0.6022 metric ['0.7738', '0.6065']\n",
      "100%|██████████| 25/25 [00:01<00:00, 13.87it/s]\n",
      "2022-07-21 13:33:38.693 | INFO     | src.training.train_model:trainloop:164 - Epoch 7 train 0.5871 test 0.5355 metric ['0.8187', '0.6751']\n",
      "100%|██████████| 25/25 [00:01<00:00, 13.58it/s]\n",
      "2022-07-21 13:33:40.981 | INFO     | src.training.train_model:trainloop:164 - Epoch 8 train 0.6016 test 0.4960 metric ['0.8287', '0.6406']\n",
      "100%|██████████| 25/25 [00:01<00:00, 13.52it/s]\n",
      "2022-07-21 13:33:43.318 | INFO     | src.training.train_model:trainloop:164 - Epoch 9 train 0.5043 test 0.4700 metric ['0.8375', '0.7054']\n",
      "100%|██████████| 25/25 [00:02<00:00, 11.64it/s]\n",
      "2022-07-21 13:33:46.017 | INFO     | src.training.train_model:trainloop:164 - Epoch 10 train 0.5486 test 0.4629 metric ['0.8337', '0.6773']\n",
      "100%|██████████| 25/25 [00:01<00:00, 13.45it/s]\n",
      "2022-07-21 13:33:48.308 | INFO     | src.training.train_model:trainloop:164 - Epoch 11 train 0.4767 test 0.4771 metric ['0.8375', '0.7369']\n",
      "100%|██████████| 25/25 [00:02<00:00, 11.59it/s]\n",
      "2022-07-21 13:33:50.920 | INFO     | src.training.train_model:trainloop:164 - Epoch 12 train 0.4812 test 0.4357 metric ['0.8400', '0.7216']\n",
      "100%|██████████| 25/25 [00:01<00:00, 16.41it/s]\n",
      "2022-07-21 13:33:52.919 | INFO     | src.training.train_model:trainloop:164 - Epoch 13 train 0.4747 test 0.4217 metric ['0.8450', '0.7463']\n",
      "100%|██████████| 25/25 [00:02<00:00, 11.40it/s]\n",
      "2022-07-21 13:33:55.640 | INFO     | src.training.train_model:trainloop:164 - Epoch 14 train 0.3993 test 0.3650 metric ['0.8612', '0.7465']\n",
      "100%|██████████| 25/25 [00:01<00:00, 13.65it/s]\n",
      "2022-07-21 13:33:57.945 | INFO     | src.training.train_model:trainloop:164 - Epoch 15 train 0.3594 test 0.3799 metric ['0.8625', '0.7878']\n",
      "100%|██████████| 25/25 [00:01<00:00, 13.01it/s]\n",
      "2022-07-21 13:34:00.495 | INFO     | src.training.train_model:trainloop:164 - Epoch 16 train 0.4559 test 0.3558 metric ['0.8738', '0.7589']\n",
      "100%|██████████| 25/25 [00:02<00:00,  9.94it/s]\n",
      "2022-07-21 13:34:03.518 | INFO     | src.training.train_model:trainloop:164 - Epoch 17 train 0.2674 test 0.3492 metric ['0.8775', '0.7700']\n",
      "100%|██████████| 25/25 [00:02<00:00, 11.65it/s]\n",
      "2022-07-21 13:34:06.120 | INFO     | src.training.train_model:trainloop:164 - Epoch 18 train 0.3167 test 0.4053 metric ['0.8588', '0.7620']\n",
      "100%|██████████| 25/25 [00:01<00:00, 13.88it/s]\n",
      "2022-07-21 13:34:08.364 | INFO     | src.training.train_model:trainloop:164 - Epoch 19 train 0.3684 test 0.3534 metric ['0.8650', '0.7560']\n",
      "100%|██████████| 25/25 [00:01<00:00, 13.31it/s]\n",
      "2022-07-21 13:34:10.793 | INFO     | src.training.train_model:trainloop:164 - Epoch 20 train 0.2996 test 0.3276 metric ['0.8912', '0.8271']\n",
      "100%|██████████| 25/25 [00:01<00:00, 13.10it/s]\n",
      "2022-07-21 13:34:13.131 | INFO     | src.training.train_model:trainloop:164 - Epoch 21 train 0.2835 test 0.3139 metric ['0.8925', '0.8380']\n",
      "100%|██████████| 25/25 [00:01<00:00, 14.48it/s]\n",
      "2022-07-21 13:34:15.379 | INFO     | src.training.train_model:trainloop:164 - Epoch 22 train 0.2929 test 0.3666 metric ['0.8825', '0.7909']\n",
      "100%|██████████| 25/25 [00:01<00:00, 13.34it/s]\n",
      "2022-07-21 13:34:17.737 | INFO     | src.training.train_model:trainloop:164 - Epoch 23 train 0.2821 test 0.3390 metric ['0.8788', '0.7698']\n",
      "100%|██████████| 25/25 [00:01<00:00, 14.76it/s]\n",
      "2022-07-21 13:34:19.930 | INFO     | src.training.train_model:trainloop:164 - Epoch 24 train 0.2966 test 0.3597 metric ['0.8812', '0.8089']\n",
      "100%|██████████| 25/25 [00:01<00:00, 13.14it/s]\n",
      "2022-07-21 13:34:22.332 | INFO     | src.training.train_model:trainloop:164 - Epoch 25 train 0.2684 test 0.3003 metric ['0.8925', '0.8046']\n",
      "100%|██████████| 25/25 [00:01<00:00, 12.89it/s]\n",
      "2022-07-21 13:34:24.885 | INFO     | src.training.train_model:trainloop:164 - Epoch 26 train 0.2553 test 0.3253 metric ['0.8925', '0.8218']\n",
      "100%|██████████| 25/25 [00:02<00:00, 10.99it/s]\n",
      "2022-07-21 13:34:27.658 | INFO     | src.training.train_model:trainloop:164 - Epoch 27 train 0.2512 test 0.3179 metric ['0.8912', '0.8426']\n",
      "100%|██████████| 25/25 [00:01<00:00, 14.27it/s]\n",
      "2022-07-21 13:34:29.856 | INFO     | src.training.train_model:trainloop:164 - Epoch 28 train 0.2699 test 0.2866 metric ['0.9000', '0.8171']\n",
      "100%|██████████| 25/25 [00:01<00:00, 14.56it/s]\n",
      "2022-07-21 13:34:32.039 | INFO     | src.training.train_model:trainloop:164 - Epoch 29 train 0.2288 test 0.3517 metric ['0.8738', '0.7807']\n",
      "100%|██████████| 25/25 [00:01<00:00, 13.55it/s]\n",
      "2022-07-21 13:34:34.492 | INFO     | src.training.train_model:trainloop:164 - Epoch 30 train 0.2764 test 0.2885 metric ['0.8975', '0.8411']\n",
      "100%|██████████| 25/25 [00:01<00:00, 14.46it/s]\n",
      "2022-07-21 13:34:36.756 | INFO     | src.training.train_model:trainloop:164 - Epoch 31 train 0.2767 test 0.2809 metric ['0.9025', '0.8492']\n",
      "100%|██████████| 25/25 [00:01<00:00, 12.77it/s]\n",
      "2022-07-21 13:34:39.218 | INFO     | src.training.train_model:trainloop:164 - Epoch 32 train 0.2267 test 0.3090 metric ['0.8925', '0.8198']\n",
      "100%|██████████| 25/25 [00:01<00:00, 14.77it/s]\n",
      "2022-07-21 13:34:41.401 | INFO     | src.training.train_model:trainloop:164 - Epoch 33 train 0.2168 test 0.2495 metric ['0.9012', '0.8601']\n",
      "100%|██████████| 25/25 [00:01<00:00, 13.43it/s]\n",
      "2022-07-21 13:34:43.713 | INFO     | src.training.train_model:trainloop:164 - Epoch 34 train 0.1575 test 0.3156 metric ['0.8938', '0.8238']\n",
      "100%|██████████| 25/25 [00:01<00:00, 15.94it/s]\n",
      "2022-07-21 13:34:45.719 | INFO     | src.training.train_model:trainloop:164 - Epoch 35 train 0.1713 test 0.2846 metric ['0.9137', '0.8413']\n",
      "100%|██████████| 25/25 [00:02<00:00, 11.63it/s]\n",
      "2022-07-21 13:34:48.495 | INFO     | src.training.train_model:trainloop:164 - Epoch 36 train 0.1458 test 0.3520 metric ['0.8850', '0.7612']\n",
      "100%|██████████| 25/25 [00:02<00:00, 12.44it/s]\n",
      "2022-07-21 13:34:51.004 | INFO     | src.training.train_model:trainloop:164 - Epoch 37 train 0.1744 test 0.3132 metric ['0.8950', '0.8344']\n",
      "100%|██████████| 25/25 [00:01<00:00, 13.94it/s]\n",
      "2022-07-21 13:34:53.246 | INFO     | src.training.train_model:trainloop:164 - Epoch 38 train 0.1596 test 0.3254 metric ['0.9062', '0.8671']\n",
      "100%|██████████| 25/25 [00:01<00:00, 13.14it/s]\n",
      "2022-07-21 13:34:55.642 | INFO     | src.training.train_model:trainloop:164 - Epoch 39 train 0.1511 test 0.2659 metric ['0.9150', '0.8586']\n",
      "100%|██████████| 25/25 [00:02<00:00, 11.89it/s]\n",
      "2022-07-21 13:34:58.245 | INFO     | src.training.train_model:trainloop:164 - Epoch 40 train 0.1499 test 0.3296 metric ['0.8962', '0.8155']\n",
      "100%|██████████| 25/25 [00:01<00:00, 14.47it/s]\n",
      "2022-07-21 13:35:00.441 | INFO     | src.training.train_model:trainloop:164 - Epoch 41 train 0.1669 test 0.2581 metric ['0.9075', '0.8608']\n",
      "100%|██████████| 25/25 [00:02<00:00, 12.38it/s]\n",
      "2022-07-21 13:35:02.905 | INFO     | src.training.train_model:trainloop:164 - Epoch 42 train 0.1835 test 0.3103 metric ['0.8925', '0.8501']\n",
      "100%|██████████| 25/25 [00:01<00:00, 13.02it/s]\n",
      "2022-07-21 13:35:05.460 | INFO     | src.training.train_model:trainloop:164 - Epoch 43 train 0.1493 test 0.2919 metric ['0.9062', '0.8342']\n",
      "100%|██████████| 25/25 [00:02<00:00, 11.04it/s]\n",
      "2022-07-21 13:35:08.243 | INFO     | src.training.train_model:trainloop:164 - Epoch 44 train 0.1975 test 0.2658 metric ['0.9075', '0.8265']\n",
      "100%|██████████| 25/25 [00:01<00:00, 14.71it/s]\n",
      "2022-07-21 13:35:10.394 | INFO     | src.training.train_model:trainloop:164 - Epoch 45 train 0.1649 test 0.2739 metric ['0.9100', '0.8293']\n",
      "100%|██████████| 25/25 [00:02<00:00, 11.58it/s]\n",
      "2022-07-21 13:35:12.988 | INFO     | src.training.train_model:trainloop:164 - Epoch 46 train 0.1540 test 0.2478 metric ['0.9100', '0.8507']\n",
      "100%|██████████| 25/25 [00:01<00:00, 15.52it/s]\n",
      "2022-07-21 13:35:15.023 | INFO     | src.training.train_model:trainloop:164 - Epoch 47 train 0.1538 test 0.2875 metric ['0.9113', '0.8806']\n",
      "100%|██████████| 25/25 [00:01<00:00, 15.08it/s]\n",
      "2022-07-21 13:35:17.436 | INFO     | src.training.train_model:trainloop:164 - Epoch 48 train 0.1444 test 0.2999 metric ['0.8950', '0.8684']\n",
      "100%|██████████| 25/25 [00:01<00:00, 13.17it/s]\n",
      "2022-07-21 13:35:19.803 | INFO     | src.training.train_model:trainloop:164 - Epoch 49 train 0.1389 test 0.2917 metric ['0.9100', '0.8177']\n",
      "100%|██████████| 25/25 [00:01<00:00, 13.69it/s]\n",
      "2022-07-21 13:35:22.063 | INFO     | src.training.train_model:trainloop:164 - Epoch 50 train 0.1555 test 0.2488 metric ['0.9213', '0.8786']\n",
      "100%|██████████| 25/25 [00:01<00:00, 13.40it/s]\n",
      "2022-07-21 13:35:24.520 | INFO     | src.training.train_model:trainloop:164 - Epoch 51 train 0.0816 test 0.2653 metric ['0.9050', '0.8639']\n",
      "100%|██████████| 25/25 [00:01<00:00, 17.96it/s]\n",
      "2022-07-21 13:35:26.382 | INFO     | src.training.train_model:trainloop:164 - Epoch 52 train 0.0567 test 0.3161 metric ['0.9087', '0.8254']\n",
      "100%|██████████| 25/25 [00:01<00:00, 13.19it/s]\n",
      "2022-07-21 13:35:28.916 | INFO     | src.training.train_model:trainloop:164 - Epoch 53 train 0.0871 test 0.3937 metric ['0.8888', '0.8315']\n",
      "100%|██████████| 25/25 [00:01<00:00, 14.44it/s]\n",
      "2022-07-21 13:35:31.124 | INFO     | src.training.train_model:trainloop:164 - Epoch 54 train 0.1394 test 0.2917 metric ['0.9163', '0.8647']\n",
      "100%|██████████| 25/25 [00:01<00:00, 14.21it/s]\n",
      "2022-07-21 13:35:33.383 | INFO     | src.training.train_model:trainloop:164 - Epoch 55 train 0.0949 test 0.2905 metric ['0.9087', '0.8742']\n",
      "100%|██████████| 25/25 [00:01<00:00, 12.87it/s]\n",
      "2022-07-21 13:35:35.842 | INFO     | src.training.train_model:trainloop:164 - Epoch 56 train 0.0817 test 0.2987 metric ['0.9163', '0.8509']\n",
      "100%|██████████| 25/25 [00:02<00:00, 11.06it/s]\n",
      "2022-07-21 13:35:38.577 | INFO     | src.training.train_model:trainloop:164 - Epoch 57 train 0.0848 test 0.3926 metric ['0.8788', '0.7983']\n",
      "100%|██████████| 25/25 [00:02<00:00, 12.35it/s]\n",
      "2022-07-21 13:35:41.037 | INFO     | src.training.train_model:trainloop:164 - Epoch 58 train 0.0864 test 0.3049 metric ['0.9163', '0.8623']\n",
      "100%|██████████| 25/25 [00:01<00:00, 14.68it/s]\n",
      "2022-07-21 13:35:43.427 | INFO     | src.training.train_model:trainloop:164 - Epoch 59 train 0.0850 test 0.3307 metric ['0.9113', '0.8607']\n",
      "100%|██████████| 25/25 [00:01<00:00, 16.16it/s]\n",
      "2022-07-21 13:35:45.420 | INFO     | src.training.train_model:trainloop:164 - Epoch 60 train 0.0731 test 0.3507 metric ['0.9050', '0.8287']\n",
      "100%|██████████| 25/25 [00:01<00:00, 12.80it/s]\n",
      "2022-07-21 13:35:47.809 | INFO     | src.training.train_model:trainloop:164 - Epoch 61 train 0.0936 test 0.2975 metric ['0.9213', '0.8752']\n",
      "100%|██████████| 25/25 [00:01<00:00, 12.83it/s]\n",
      "2022-07-21 13:35:50.222 | INFO     | src.training.train_model:trainloop:164 - Epoch 62 train 0.0968 test 0.3448 metric ['0.8925', '0.8231']\n",
      "100%|██████████| 25/25 [00:01<00:00, 13.51it/s]\n",
      "2022-07-21 13:35:52.700 | INFO     | src.training.train_model:trainloop:164 - Epoch 63 train 0.1095 test 0.2455 metric ['0.9275', '0.8578']\n",
      "100%|██████████| 64/64 [02:33<00:00,  2.39s/it]\n"
     ]
    }
   ],
   "source": [
    "from src.training import train_model\n",
    "\n",
    "model = train_model.trainloop(\n",
    "    epochs=64,\n",
    "    model=model,\n",
    "    metrics=metrics,\n",
    "    optimizer=torch.optim.Adam,\n",
    "    learning_rate=1e-3,\n",
    "    loss_fn=loss_fn,\n",
    "    train_dataloader=trainstreamer,\n",
    "    test_dataloader=teststreamer,\n",
    "    log_dir=\"../model/basis\",\n",
    "    train_steps=25,\n",
    "    eval_steps=25,\n",
    ")\n"
   ]
  },
  {
   "cell_type": "markdown",
   "metadata": {},
   "source": [
    "Save an image from the training in tensorboard in the `figures` folder.\n",
    "Explain what you are seeing."
   ]
  },
  {
   "cell_type": "markdown",
   "metadata": {},
   "source": [
    "\n",
    "<img src = \"../figures/Screenshot 2022-07-21 at 15.46.26.png\">\n",
    "\n",
    "\n",
    "Je ziet dat de test data een minder goede loss laat zien, niet gek natuurlijk met een classe waarbij een maar 6 % van de dataset is. "
   ]
  },
  {
   "cell_type": "markdown",
   "metadata": {},
   "source": [
    "# 5 Evaluate the basemodel\n",
    "Create a confusion matrix with the code below"
   ]
  },
  {
   "cell_type": "code",
   "execution_count": 16,
   "metadata": {},
   "outputs": [
    {
     "data": {
      "text/plain": [
       "[Text(0.5, 15.0, 'Predicted'), Text(33.0, 0.5, 'Target')]"
      ]
     },
     "execution_count": 16,
     "metadata": {},
     "output_type": "execute_result"
    },
    {
     "data": {
      "image/png": "[encoded data removed]",
      "text/plain": [
       "<Figure size 432x288 with 2 Axes>"
      ]
     },
     "metadata": {
      "needs_background": "light"
     },
     "output_type": "display_data"
    }
   ],
   "source": [
    "from sklearn.metrics import confusion_matrix\n",
    "\n",
    "y_true = []\n",
    "y_pred = []\n",
    "\n",
    "for _ in range(10):\n",
    "    X, y = next(teststreamer)\n",
    "    yhat = model(X)\n",
    "    yhat = yhat.argmax(dim=1)\n",
    "    y_pred.append(yhat.tolist())\n",
    "    y_true.append(y.tolist())\n",
    "\n",
    "yhat = [x for y in y_pred for x in y]\n",
    "y = [x for y in y_true for x in y]\n",
    "\n",
    "cfm = confusion_matrix(y, yhat)\n",
    "cfm_norm = cfm / np.sum(cfm, axis=1, keepdims=True)\n",
    "plot = sns.heatmap(cfm_norm, annot=cfm_norm, fmt=\".3f\")\n",
    "plot.set(xlabel=\"Predicted\", ylabel=\"Target\")\n"
   ]
  },
  {
   "cell_type": "markdown",
   "metadata": {},
   "source": [
    "Save this in the figures folder.\n",
    "Interpret this. \n",
    "\n",
    "<img src = \"../figures/Screenshot 2022-07-13 at 01.27.58.png\">\n",
    "\n",
    "- What is going on?\n",
    "    in eerste instantie snapte ik het niet zo goed maar na een paar keer refreshen zie je inderdaad dat class 3 veel minder accuraat is.\n",
    "- What is a good metric here?\n",
    "    loss op test set.\n",
    "- how is your answer to Q1 relevant here?\n",
    "    Voordat je gaat trainen, optimaliseren en bouwen moet je er dus voor zorgen dat je data goed op orde is. Als ik vier talen moet leren heeft het ook geen zin als je mij een kwart van het woordenboek geeft :) \n",
    "- Is there something you could do to fix/improve things, after you see these results?\n",
    "    Dit weet ik niet zo goed, mijn aanname was dat je gewoon alle data inkort waar je teveel van hebt, maar dan kun je te weinig data hebben. Afhankelijk van de context kun je dan een trade off maken. loss bekijken van wel en niet inkorten is wellicht een optie. "
   ]
  },
  {
   "cell_type": "markdown",
   "metadata": {},
   "source": [
    "# 6 Tune the model\n",
    "Don't overdo this.\n",
    "More is not better.\n",
    "\n",
    "Bonus points for things like:\n",
    "- Attention layers\n",
    "- Trax architecture including a functioning training loop\n",
    "\n",
    "Keep it small! It's better to present 2 or 3 sane experiments that are structured and thought trough, than 25 random guesses. You can test more, but select 2 or 3 of the best alternatives you researched, with a rationale why this works better.\n",
    "\n",
    "Keep it concise; explain:\n",
    "- what you changed\n",
    "- why you thought that was a good idea  \n",
    "- what the impact was (visualise or numeric)\n",
    "- explain the impact\n",
    "\n",
    "You dont need to get a perfect score; curiousity driven research that fails is fine.\n",
    "The insight into what is happening is more important than the quantity.\n",
    "\n",
    "Keep logs of your settings;\n",
    "either use gin, or save configs, or both :)\n",
    "Store images in the `figures` folder."
   ]
  },
  {
   "cell_type": "code",
   "execution_count": 17,
   "metadata": {},
   "outputs": [
    {
     "data": {
      "text/plain": [
       "831"
      ]
     },
     "execution_count": 17,
     "metadata": {},
     "output_type": "execute_result"
    }
   ],
   "source": [
    "cut_traindataset = traindataset[:831]\n",
    "len(cut_traindataset)"
   ]
  },
  {
   "cell_type": "code",
   "execution_count": 18,
   "metadata": {},
   "outputs": [],
   "source": [
    "trainstreamer = data_tools.BaseDatastreamer(\n",
    "    dataset=cut_traindataset, batchsize=32, preprocessor=preprocessor\n",
    ").stream()\n",
    "teststreamer = data_tools.BaseDatastreamer(\n",
    "    dataset=testdataset, batchsize=32, preprocessor=preprocessor\n",
    ").stream()"
   ]
  },
  {
   "cell_type": "code",
   "execution_count": 19,
   "metadata": {},
   "outputs": [
    {
     "name": "stderr",
     "output_type": "stream",
     "text": [
      "2022-07-21 13:35:53.575 | INFO     | src.data.data_tools:dir_add_timestamp:67 - Logging to ../tune/20220721-1335\n",
      "100%|██████████| 25/25 [00:02<00:00, 10.26it/s]\n",
      "2022-07-21 13:35:56.480 | INFO     | src.training.train_model:trainloop:164 - Epoch 0 train 0.0638 test 0.3563 metric ['0.8988', '0.8203']\n",
      "100%|██████████| 25/25 [00:01<00:00, 14.44it/s]\n",
      "2022-07-21 13:35:58.786 | INFO     | src.training.train_model:trainloop:164 - Epoch 1 train 0.0223 test 0.4034 metric ['0.8925', '0.8347']\n",
      "100%|██████████| 25/25 [00:01<00:00, 13.35it/s]\n",
      "2022-07-21 13:36:01.192 | INFO     | src.training.train_model:trainloop:164 - Epoch 2 train 0.0124 test 0.4035 metric ['0.9050', '0.8735']\n",
      "100%|██████████| 25/25 [00:03<00:00,  8.16it/s]\n",
      "2022-07-21 13:36:04.725 | INFO     | src.training.train_model:trainloop:164 - Epoch 3 train 0.0020 test 0.3996 metric ['0.9187', '0.8497']\n",
      "100%|██████████| 25/25 [00:01<00:00, 14.67it/s]\n",
      "2022-07-21 13:36:06.884 | INFO     | src.training.train_model:trainloop:164 - Epoch 4 train 0.0009 test 0.5030 metric ['0.8962', '0.8309']\n",
      "100%|██████████| 25/25 [00:01<00:00, 13.30it/s]\n",
      "2022-07-21 13:36:09.569 | INFO     | src.training.train_model:trainloop:164 - Epoch 5 train 0.0006 test 0.4328 metric ['0.9150', '0.8743']\n",
      "100%|██████████| 25/25 [00:01<00:00, 15.50it/s]\n",
      "2022-07-21 13:36:11.783 | INFO     | src.training.train_model:trainloop:164 - Epoch 6 train 0.0005 test 0.3836 metric ['0.9250', '0.8757']\n",
      "100%|██████████| 25/25 [00:01<00:00, 14.10it/s]\n",
      "2022-07-21 13:36:14.017 | INFO     | src.training.train_model:trainloop:164 - Epoch 7 train 0.0003 test 0.4416 metric ['0.9137', '0.8472']\n",
      "100%|██████████| 25/25 [00:01<00:00, 13.35it/s]\n",
      "2022-07-21 13:36:16.380 | INFO     | src.training.train_model:trainloop:164 - Epoch 8 train 0.0003 test 0.4622 metric ['0.9050', '0.8509']\n",
      "100%|██████████| 25/25 [00:01<00:00, 12.61it/s]\n",
      "2022-07-21 13:36:18.885 | INFO     | src.training.train_model:trainloop:164 - Epoch 9 train 0.0002 test 0.5282 metric ['0.9038', '0.8378']\n",
      "100%|██████████| 25/25 [00:02<00:00, 11.71it/s]\n",
      "2022-07-21 13:36:21.645 | INFO     | src.training.train_model:trainloop:164 - Epoch 10 train 0.0002 test 0.4384 metric ['0.9187', '0.8679']\n",
      "100%|██████████| 25/25 [00:01<00:00, 14.94it/s]\n",
      "2022-07-21 13:36:23.832 | INFO     | src.training.train_model:trainloop:164 - Epoch 11 train 0.0002 test 0.5203 metric ['0.9087', '0.8240']\n",
      "100%|██████████| 25/25 [00:01<00:00, 14.84it/s]\n",
      "2022-07-21 13:36:25.963 | INFO     | src.training.train_model:trainloop:164 - Epoch 12 train 0.0002 test 0.4951 metric ['0.9175', '0.8661']\n",
      "100%|██████████| 25/25 [00:01<00:00, 14.25it/s]\n",
      "2022-07-21 13:36:28.175 | INFO     | src.training.train_model:trainloop:164 - Epoch 13 train 0.0002 test 0.4795 metric ['0.9163', '0.8633']\n",
      "100%|██████████| 25/25 [00:01<00:00, 12.81it/s]\n",
      "2022-07-21 13:36:30.711 | INFO     | src.training.train_model:trainloop:164 - Epoch 14 train 0.0001 test 0.5441 metric ['0.9087', '0.8538']\n",
      "100%|██████████| 25/25 [00:01<00:00, 14.42it/s]\n",
      "2022-07-21 13:36:32.903 | INFO     | src.training.train_model:trainloop:164 - Epoch 15 train 0.0001 test 0.5135 metric ['0.9150', '0.8654']\n",
      "100%|██████████| 25/25 [00:01<00:00, 13.73it/s]\n",
      "2022-07-21 13:36:35.313 | INFO     | src.training.train_model:trainloop:164 - Epoch 16 train 0.0001 test 0.5748 metric ['0.9075', '0.8336']\n",
      "100%|██████████| 25/25 [00:02<00:00, 12.29it/s]\n",
      "2022-07-21 13:36:37.879 | INFO     | src.training.train_model:trainloop:164 - Epoch 17 train 0.0001 test 0.5433 metric ['0.9125', '0.8539']\n",
      "100%|██████████| 25/25 [00:01<00:00, 13.23it/s]\n",
      "2022-07-21 13:36:40.767 | INFO     | src.training.train_model:trainloop:164 - Epoch 18 train 0.0001 test 0.4728 metric ['0.9225', '0.8770']\n",
      "100%|██████████| 25/25 [00:01<00:00, 14.63it/s]\n",
      "2022-07-21 13:36:42.916 | INFO     | src.training.train_model:trainloop:164 - Epoch 19 train 0.0001 test 0.5390 metric ['0.9163', '0.8261']\n",
      "100%|██████████| 25/25 [00:01<00:00, 16.45it/s]\n",
      "2022-07-21 13:36:44.858 | INFO     | src.training.train_model:trainloop:164 - Epoch 20 train 0.0001 test 0.4937 metric ['0.9125', '0.8483']\n",
      "100%|██████████| 25/25 [00:02<00:00, 12.32it/s]\n",
      "2022-07-21 13:36:47.345 | INFO     | src.training.train_model:trainloop:164 - Epoch 21 train 0.0001 test 0.5086 metric ['0.9175', '0.8635']\n",
      "100%|██████████| 25/25 [00:01<00:00, 14.22it/s]\n",
      "2022-07-21 13:36:49.814 | INFO     | src.training.train_model:trainloop:164 - Epoch 22 train 0.0001 test 0.5177 metric ['0.9200', '0.8611']\n",
      "100%|██████████| 25/25 [00:01<00:00, 12.56it/s]\n",
      "2022-07-21 13:36:52.269 | INFO     | src.training.train_model:trainloop:164 - Epoch 23 train 0.0001 test 0.5035 metric ['0.9213', '0.8913']\n",
      "100%|██████████| 25/25 [00:01<00:00, 15.32it/s]\n",
      "2022-07-21 13:36:54.468 | INFO     | src.training.train_model:trainloop:164 - Epoch 24 train 0.0001 test 0.7035 metric ['0.8950', '0.8358']\n",
      "100%|██████████| 25/25 [00:02<00:00, 10.01it/s]\n",
      "2022-07-21 13:36:57.513 | INFO     | src.training.train_model:trainloop:164 - Epoch 25 train 0.0001 test 0.6080 metric ['0.9025', '0.8391']\n",
      "100%|██████████| 25/25 [00:01<00:00, 14.95it/s]\n",
      "2022-07-21 13:36:59.644 | INFO     | src.training.train_model:trainloop:164 - Epoch 26 train 0.0001 test 0.6157 metric ['0.9050', '0.8264']\n",
      "100%|██████████| 25/25 [00:01<00:00, 13.75it/s]\n",
      "2022-07-21 13:37:02.099 | INFO     | src.training.train_model:trainloop:164 - Epoch 27 train 0.0001 test 0.5507 metric ['0.9125', '0.8725']\n",
      "100%|██████████| 25/25 [00:02<00:00, 11.24it/s]\n",
      "2022-07-21 13:37:04.768 | INFO     | src.training.train_model:trainloop:164 - Epoch 28 train 0.0001 test 0.5055 metric ['0.9287', '0.9151']\n",
      "100%|██████████| 25/25 [00:02<00:00, 11.93it/s]\n",
      "2022-07-21 13:37:07.356 | INFO     | src.training.train_model:trainloop:164 - Epoch 29 train 0.0001 test 0.5115 metric ['0.9237', '0.8446']\n",
      "100%|██████████| 25/25 [00:01<00:00, 13.99it/s]\n",
      "2022-07-21 13:37:09.662 | INFO     | src.training.train_model:trainloop:164 - Epoch 30 train 0.0000 test 0.6229 metric ['0.8975', '0.8300']\n",
      "100%|██████████| 25/25 [00:01<00:00, 13.80it/s]\n",
      "2022-07-21 13:37:12.162 | INFO     | src.training.train_model:trainloop:164 - Epoch 31 train 0.0000 test 0.5199 metric ['0.9213', '0.8900']\n",
      "100%|██████████| 25/25 [00:01<00:00, 15.76it/s]\n",
      "2022-07-21 13:37:14.406 | INFO     | src.training.train_model:trainloop:164 - Epoch 32 train 0.0000 test 0.6361 metric ['0.9163', '0.8681']\n",
      "100%|██████████| 25/25 [00:01<00:00, 13.69it/s]\n",
      "2022-07-21 13:37:17.182 | INFO     | src.training.train_model:trainloop:164 - Epoch 33 train 0.0000 test 0.5384 metric ['0.9175', '0.8717']\n",
      "100%|██████████| 25/25 [00:01<00:00, 13.17it/s]\n",
      "2022-07-21 13:37:20.482 | INFO     | src.training.train_model:trainloop:164 - Epoch 34 train 0.0000 test 0.6281 metric ['0.9125', '0.8755']\n",
      "100%|██████████| 25/25 [00:01<00:00, 12.87it/s]\n",
      "2022-07-21 13:37:23.153 | INFO     | src.training.train_model:trainloop:164 - Epoch 35 train 0.0000 test 0.6064 metric ['0.9075', '0.8551']\n",
      "100%|██████████| 25/25 [00:01<00:00, 14.82it/s]\n",
      "2022-07-21 13:37:25.297 | INFO     | src.training.train_model:trainloop:164 - Epoch 36 train 0.0000 test 0.6452 metric ['0.9075', '0.8520']\n",
      "100%|██████████| 25/25 [00:02<00:00,  9.38it/s]\n",
      "2022-07-21 13:37:28.558 | INFO     | src.training.train_model:trainloop:164 - Epoch 37 train 0.0000 test 0.4930 metric ['0.9325', '0.8858']\n",
      "100%|██████████| 25/25 [00:01<00:00, 14.83it/s]\n",
      "2022-07-21 13:37:30.756 | INFO     | src.training.train_model:trainloop:164 - Epoch 38 train 0.0000 test 0.4733 metric ['0.9287', '0.8730']\n",
      "100%|██████████| 25/25 [00:01<00:00, 13.09it/s]\n",
      "2022-07-21 13:37:33.110 | INFO     | src.training.train_model:trainloop:164 - Epoch 39 train 0.0000 test 0.6888 metric ['0.9012', '0.8369']\n",
      "100%|██████████| 25/25 [00:01<00:00, 12.93it/s]\n",
      "2022-07-21 13:37:35.548 | INFO     | src.training.train_model:trainloop:164 - Epoch 40 train 0.0000 test 0.7052 metric ['0.8988', '0.8293']\n",
      "100%|██████████| 25/25 [00:01<00:00, 13.07it/s]\n",
      "2022-07-21 13:37:37.994 | INFO     | src.training.train_model:trainloop:164 - Epoch 41 train 0.0000 test 0.5644 metric ['0.9225', '0.8695']\n",
      "100%|██████████| 25/25 [00:01<00:00, 13.04it/s]\n",
      "2022-07-21 13:37:40.407 | INFO     | src.training.train_model:trainloop:164 - Epoch 42 train 0.0000 test 0.6439 metric ['0.9113', '0.8164']\n",
      "100%|██████████| 25/25 [00:01<00:00, 14.29it/s]\n",
      "2022-07-21 13:37:43.234 | INFO     | src.training.train_model:trainloop:164 - Epoch 43 train 0.0000 test 0.5816 metric ['0.9225', '0.8566']\n",
      "100%|██████████| 25/25 [00:02<00:00, 12.38it/s]\n",
      "2022-07-21 13:37:45.920 | INFO     | src.training.train_model:trainloop:164 - Epoch 44 train 0.0000 test 0.7052 metric ['0.8975', '0.8485']\n",
      "100%|██████████| 25/25 [00:01<00:00, 13.44it/s]\n",
      "2022-07-21 13:37:48.404 | INFO     | src.training.train_model:trainloop:164 - Epoch 45 train 0.0000 test 0.6094 metric ['0.9113', '0.8668']\n",
      "100%|██████████| 25/25 [00:01<00:00, 12.79it/s]\n",
      "2022-07-21 13:37:50.854 | INFO     | src.training.train_model:trainloop:164 - Epoch 46 train 0.0000 test 0.4840 metric ['0.9275', '0.8862']\n",
      "100%|██████████| 25/25 [00:03<00:00,  8.21it/s]\n",
      "2022-07-21 13:37:54.315 | INFO     | src.training.train_model:trainloop:164 - Epoch 47 train 0.0000 test 0.6722 metric ['0.9100', '0.8349']\n",
      "100%|██████████| 25/25 [00:01<00:00, 13.66it/s]\n",
      "2022-07-21 13:37:56.641 | INFO     | src.training.train_model:trainloop:164 - Epoch 48 train 0.0000 test 0.6231 metric ['0.9050', '0.8420']\n",
      "100%|██████████| 25/25 [00:01<00:00, 12.58it/s]\n",
      "2022-07-21 13:37:59.257 | INFO     | src.training.train_model:trainloop:164 - Epoch 49 train 0.0000 test 0.7018 metric ['0.9100', '0.8508']\n",
      "100%|██████████| 25/25 [00:02<00:00, 11.79it/s]\n",
      "2022-07-21 13:38:02.105 | INFO     | src.training.train_model:trainloop:164 - Epoch 50 train 0.0000 test 0.7462 metric ['0.8950', '0.8316']\n",
      "100%|██████████| 25/25 [00:02<00:00,  9.82it/s]\n",
      "2022-07-21 13:38:05.174 | INFO     | src.training.train_model:trainloop:164 - Epoch 51 train 0.0000 test 0.5047 metric ['0.9325', '0.9081']\n",
      "100%|██████████| 25/25 [00:01<00:00, 12.76it/s]\n",
      "2022-07-21 13:38:07.653 | INFO     | src.training.train_model:trainloop:164 - Epoch 52 train 0.0000 test 0.6895 metric ['0.9100', '0.8291']\n",
      "100%|██████████| 25/25 [00:01<00:00, 12.98it/s]\n",
      "2022-07-21 13:38:10.025 | INFO     | src.training.train_model:trainloop:164 - Epoch 53 train 0.0000 test 0.6234 metric ['0.9113', '0.8585']\n",
      "100%|██████████| 25/25 [00:01<00:00, 13.69it/s]\n",
      "2022-07-21 13:38:12.245 | INFO     | src.training.train_model:trainloop:164 - Epoch 54 train 0.0001 test 0.6944 metric ['0.9087', '0.8571']\n",
      "100%|██████████| 25/25 [00:01<00:00, 12.65it/s]\n",
      "2022-07-21 13:38:14.842 | INFO     | src.training.train_model:trainloop:164 - Epoch 55 train 0.0000 test 0.7058 metric ['0.9012', '0.8298']\n",
      "100%|██████████| 25/25 [00:01<00:00, 13.41it/s]\n",
      "2022-07-21 13:38:17.254 | INFO     | src.training.train_model:trainloop:164 - Epoch 56 train 0.0000 test 0.5749 metric ['0.9225', '0.8828']\n",
      "100%|██████████| 25/25 [00:02<00:00, 10.77it/s]\n",
      "2022-07-21 13:38:20.058 | INFO     | src.training.train_model:trainloop:164 - Epoch 57 train 0.0000 test 0.6418 metric ['0.9075', '0.8479']\n",
      "100%|██████████| 25/25 [00:01<00:00, 12.66it/s]\n",
      "2022-07-21 13:38:22.511 | INFO     | src.training.train_model:trainloop:164 - Epoch 58 train 0.0000 test 0.6800 metric ['0.9038', '0.8400']\n",
      "100%|██████████| 25/25 [00:02<00:00, 11.13it/s]\n",
      "2022-07-21 13:38:25.211 | INFO     | src.training.train_model:trainloop:164 - Epoch 59 train 0.0000 test 0.6633 metric ['0.9012', '0.8280']\n",
      "100%|██████████| 25/25 [00:01<00:00, 13.67it/s]\n",
      "2022-07-21 13:38:27.491 | INFO     | src.training.train_model:trainloop:164 - Epoch 60 train 0.0000 test 0.5693 metric ['0.9263', '0.8954']\n",
      "100%|██████████| 25/25 [00:02<00:00, 11.24it/s]\n",
      "2022-07-21 13:38:30.220 | INFO     | src.training.train_model:trainloop:164 - Epoch 61 train 0.0000 test 0.6453 metric ['0.9187', '0.8643']\n",
      "100%|██████████| 25/25 [00:01<00:00, 12.92it/s]\n",
      "2022-07-21 13:38:32.591 | INFO     | src.training.train_model:trainloop:164 - Epoch 62 train 0.0000 test 0.6927 metric ['0.9075', '0.8598']\n",
      "100%|██████████| 25/25 [00:02<00:00, 10.76it/s]\n",
      "2022-07-21 13:38:35.598 | INFO     | src.training.train_model:trainloop:164 - Epoch 63 train 0.0000 test 0.7295 metric ['0.9062', '0.8318']\n",
      "100%|██████████| 64/64 [02:42<00:00,  2.53s/it]\n"
     ]
    }
   ],
   "source": [
    "model = train_model.trainloop(\n",
    "    epochs=64,\n",
    "    model=model,\n",
    "    metrics=metrics,\n",
    "    optimizer=torch.optim.Adam,\n",
    "    learning_rate=1e-3,\n",
    "    loss_fn=loss_fn,\n",
    "    train_dataloader=trainstreamer,\n",
    "    test_dataloader=teststreamer,\n",
    "    log_dir=log_dir,\n",
    "    train_steps=25,\n",
    "    eval_steps=25,\n",
    ")"
   ]
  }
 ],
 "metadata": {
  "kernelspec": {
   "display_name": "Python 3.9.13 ('exam-22-KwCzH9GQ-py3.9')",
   "language": "python",
   "name": "python3"
  },
  "language_info": {
   "codemirror_mode": {
    "name": "ipython",
    "version": 3
   },
   "file_extension": ".py",
   "mimetype": "text/x-python",
   "name": "python",
   "nbconvert_exporter": "python",
   "pygments_lexer": "ipython3",
   "version": "3.9.13"
  },
  "orig_nbformat": 4,
  "vscode": {
   "interpreter": {
    "hash": "793d4b0ba659e9ff3f4cb7a1b3752627ccc54f1224ce4526b6cf626154c05563"
   }
  }
 },
 "nbformat": 4,
 "nbformat_minor": 2
}

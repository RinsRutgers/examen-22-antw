{
 "cells": [
  {
   "cell_type": "code",
   "execution_count": 1,
   "metadata": {},
   "outputs": [],
   "source": [
    "import sys\n",
    "import pandas as pd\n",
    "sys.path.insert(0, \"..\")\n",
    "from src.settings import StyleSettings\n",
    "from src.data.data_tools import StyleDataset\n",
    "import numpy as np\n",
    "import seaborn as sns\n"
   ]
  },
  {
   "cell_type": "markdown",
   "metadata": {},
   "source": [
    "# Load the data"
   ]
  },
  {
   "cell_type": "code",
   "execution_count": 2,
   "metadata": {},
   "outputs": [],
   "source": [
    "settings = StyleSettings()\n",
    "traindataset = StyleDataset([settings.trainpath])\n",
    "testdataset = StyleDataset([settings.testpath])\n"
   ]
  },
  {
   "cell_type": "markdown",
   "metadata": {},
   "source": [
    "We have 419 batches in the dataset"
   ]
  },
  {
   "cell_type": "code",
   "execution_count": 3,
   "metadata": {},
   "outputs": [
    {
     "data": {
      "text/plain": [
       "419"
      ]
     },
     "execution_count": 3,
     "metadata": {},
     "output_type": "execute_result"
    }
   ],
   "source": [
    "len(traindataset) // 32\n"
   ]
  },
  {
   "cell_type": "code",
   "execution_count": 4,
   "metadata": {},
   "outputs": [
    {
     "data": {
      "text/plain": [
       "('Lace is an openwork fabric , patterned with open holes in the work , made by machine or by hand.',\n",
       " 'wiki')"
      ]
     },
     "execution_count": 4,
     "metadata": {},
     "output_type": "execute_result"
    }
   ],
   "source": [
    "x, y = traindataset[42]\n",
    "x, y\n"
   ]
  },
  {
   "cell_type": "markdown",
   "metadata": {},
   "source": [
    "Every batch is a `Tuple[str, str]` of a sentence and a label. We can see this is a classification task.\n",
    "The task is, to classify sentences in four categories.\n",
    "Lets build a vocabulary by copy-pasting the code we used before"
   ]
  },
  {
   "cell_type": "code",
   "execution_count": 5,
   "metadata": {},
   "outputs": [
    {
     "name": "stderr",
     "output_type": "stream",
     "text": [
      "2022-08-04 12:10:08.758 | INFO     | src.models.tokenizer:build_vocab:27 - Found 19306 tokens\n"
     ]
    },
    {
     "data": {
      "text/plain": [
       "19308"
      ]
     },
     "execution_count": 5,
     "metadata": {},
     "output_type": "execute_result"
    }
   ],
   "source": [
    "from src.models import tokenizer\n",
    "\n",
    "corpus = []\n",
    "count = []\n",
    "for i in range(len(traindataset)):\n",
    "    x = tokenizer.clean(traindataset[i][0])\n",
    "    corpus.append(x)\n",
    "    \n",
    "v = tokenizer.build_vocab(corpus, max=20000)\n",
    "len(v)\n"
   ]
  },
  {
   "cell_type": "markdown",
   "metadata": {},
   "source": [
    "We need to cast the labels to an integers. You can use this dictionary to do so:"
   ]
  },
  {
   "cell_type": "code",
   "execution_count": 6,
   "metadata": {},
   "outputs": [
    {
     "data": {
      "text/plain": [
       "2"
      ]
     },
     "execution_count": 6,
     "metadata": {},
     "output_type": "execute_result"
    }
   ],
   "source": [
    "d = {\"humor\": 0, \"reuters\": 1, \"wiki\": 2, \"proverbs\": 3}\n",
    "d[y]\n"
   ]
  },
  {
   "cell_type": "code",
   "execution_count": null,
   "metadata": {},
   "outputs": [],
   "source": []
  },
  {
   "cell_type": "markdown",
   "metadata": {},
   "source": [
    "# Question 1\n",
    "Figure out, for every class, what accuracy you should expect if the model would guess blind on the train set"
   ]
  },
  {
   "cell_type": "code",
   "execution_count": 7,
   "metadata": {},
   "outputs": [
    {
     "name": "stdout",
     "output_type": "stream",
     "text": [
      "humor komt 31.414510476474533 % voor in de dataset, blind guess accuracy for this class: 7.853627619118633\n",
      "reuters komt 31.21318320781448 % voor in de dataset, blind guess accuracy for this class: 7.80329580195362\n",
      "wiki komt 31.175900380284844 % voor in de dataset, blind guess accuracy for this class: 7.793975095071211\n",
      "proverbs komt 6.196405935426143 % voor in de dataset, blind guess accuracy for this class: 1.5491014838565358\n"
     ]
    }
   ],
   "source": [
    "count = {\"humor\": 0, \"reuters\": 0, \"wiki\": 0, \"proverbs\": 0}\n",
    "total = len(traindataset)\n",
    "for i in range(len(traindataset)):\n",
    "    x = tokenizer.clean(traindataset[i][1])\n",
    "    count[x] = count[x] + 1\n",
    "\n",
    "for style in d:\n",
    "    print(f'{style} komt {((count[style] / total ) * 100 )} % voor in de dataset, blind guess accuracy for this class: {((count[style] / total ) * 100 )*.25}')"
   ]
  },
  {
   "cell_type": "markdown",
   "metadata": {},
   "source": [
    "Reflect on what you see. What does this mean? What implications does this have? Why is that good/bad?\n",
    "Are there things down the line that could cause a problem?"
   ]
  },
  {
   "cell_type": "markdown",
   "metadata": {},
   "source": [
    "Proverbs komt erg weining voor, daarom heeft het model weinig om daar van te leren. De nuance mist dan gok ik en je model wordt biased. \n",
    "\n",
    "ik dacht dat je de rest van de dataset kon trimmen tot een gelijwaardige verdeling, maar dit kan niet zo makkelijk zoals ik dacht omdat je inderdaad nog shuffled. "
   ]
  },
  {
   "cell_type": "markdown",
   "metadata": {},
   "source": [
    "# Question 2 : Implement a preprocessor\n",
    "\n",
    "We can inherit from `tokenizer.Preprocessor`\n",
    "Only thing we need to adjust is the `cast_label` function.\n",
    " \n",
    "- create a StylePreprocessor class\n",
    "- inherit from Preprocessor\n",
    "- create a new cast_label function for this dataset"
   ]
  },
  {
   "cell_type": "code",
   "execution_count": 8,
   "metadata": {},
   "outputs": [],
   "source": [
    "# TODO ~ about 4 lines of code\n",
    "\n",
    "class StylePreprocessor(tokenizer.Preprocessor):\n",
    "    def cast_label(self, label: str) -> int:\n",
    "        d = {\"humor\":0, \"reuters\": 1, \"wiki\": 2, \"proverbs\": 3}\n",
    "        return d[label]\n"
   ]
  },
  {
   "cell_type": "markdown",
   "metadata": {},
   "source": [
    "To test the preprocessor:"
   ]
  },
  {
   "cell_type": "code",
   "execution_count": 9,
   "metadata": {},
   "outputs": [
    {
     "data": {
      "text/plain": [
       "(tensor([[1347]], dtype=torch.int32), tensor([2]))"
      ]
     },
     "execution_count": 9,
     "metadata": {},
     "output_type": "execute_result"
    }
   ],
   "source": [
    "preprocessor = StylePreprocessor(max=100, vocab=v, clean=tokenizer.clean)\n",
    "preprocessor([(x, y)])\n"
   ]
  },
  {
   "cell_type": "markdown",
   "metadata": {},
   "source": [
    "# Set up the model\n",
    "We can re-use the BaseDatastreamer"
   ]
  },
  {
   "cell_type": "code",
   "execution_count": 10,
   "metadata": {},
   "outputs": [],
   "source": [
    "from src.data import data_tools\n",
    "\n",
    "trainstreamer = data_tools.BaseDatastreamer(\n",
    "    dataset=traindataset, batchsize=32, preprocessor=preprocessor\n",
    ").stream()\n",
    "teststreamer = data_tools.BaseDatastreamer(\n",
    "    dataset=testdataset, batchsize=32, preprocessor=preprocessor\n",
    ").stream()\n"
   ]
  },
  {
   "cell_type": "code",
   "execution_count": 11,
   "metadata": {},
   "outputs": [
    {
     "data": {
      "text/plain": [
       "(torch.Size([32, 57]),\n",
       " tensor([0, 2, 1, 1, 1, 0, 1, 1, 1, 1, 1, 2, 0, 0, 1, 2, 0, 0, 3, 0, 2, 1, 0, 1,\n",
       "         0, 1, 1, 2, 1, 0, 0, 1]))"
      ]
     },
     "execution_count": 11,
     "metadata": {},
     "output_type": "execute_result"
    }
   ],
   "source": [
    "x, y = next(trainstreamer)\n",
    "x.shape, y\n"
   ]
  },
  {
   "cell_type": "markdown",
   "metadata": {},
   "source": [
    "## Question 3 : Metrics, loss\n",
    "Select proper metrics and a loss function.\n",
    "\n",
    "Bonus: implement an additional metric function that is relevant for this case."
   ]
  },
  {
   "cell_type": "code",
   "execution_count": 12,
   "metadata": {},
   "outputs": [],
   "source": [
    "from src.models import metrics\n",
    "import torch\n",
    "# TODO ~ 2 lines of code\n",
    "\n",
    "metrics = [metrics.Accuracy(), metrics.F1Score()]\n",
    "\n",
    "loss_fn = torch.nn.CrossEntropyLoss()"
   ]
  },
  {
   "cell_type": "markdown",
   "metadata": {},
   "source": [
    "Accuracy is een handige metric als je data goed evenredig versprijd is. Dat is hiet niet het geval. Voor ongebalanceerde datasets wordt F1score aangeraden. Bron: https://towardsdatascience.com/the-f1-score-bec2bbc38aa6\""
   ]
  },
  {
   "cell_type": "markdown",
   "metadata": {},
   "source": [
    "## Question 4 : Basemodel\n",
    "Create a base model. It does not need to be naive; you could re-use the\n",
    "NLP models we used for the IMDB.\n",
    "\n",
    "I suggest to start with a hidden size of about 128.\n",
    "Use a config dictionary, or a gin file, both are fine.\n",
    "\n",
    "Bonus points if you create a Trax model in src.models, and even more if you add a trax training loop."
   ]
  },
  {
   "cell_type": "code",
   "execution_count": 13,
   "metadata": {},
   "outputs": [
    {
     "name": "stdout",
     "output_type": "stream",
     "text": [
      "NLPmodel(\n",
      "  (emb): Embedding(19308, 128)\n",
      "  (rnn): GRU(128, 128, num_layers=3, batch_first=True, dropout=0.1)\n",
      "  (linear): Linear(in_features=128, out_features=4, bias=True)\n",
      ")\n"
     ]
    }
   ],
   "source": [
    "log_dir = settings.log_dir\n",
    "# TODO between 2 and 8 lines of code, depending on your setup\n",
    "# Assuming you load your model in one line of code from src.models.rnn\n",
    "from src.models import rnn\n",
    "\n",
    "config = {\n",
    "    \"vocab\": len(v),\n",
    "    \"input_size\": 32,\n",
    "    \"hidden_size\": 128,\n",
    "    \"num_layers\": 3,\n",
    "    \"dropout\": 0.1,\n",
    "    \"output_size\": 4,\n",
    "}\n",
    "\n",
    "model = rnn.NLPmodel(config)\n",
    "print(model)"
   ]
  },
  {
   "cell_type": "markdown",
   "metadata": {},
   "source": [
    "Set up the trainloop.\n",
    "\n",
    "- Give the lenght of the traindataset, how many batches of 32 can you get out of it?\n",
    "- If you take a short amount of train_steps (eg 25) for every epoch, how many epochs do you need to cover the complete dataset?\n",
    "- What amount of epochs do you need to run the loop with trainsteps=25 to cover the complete traindataset once? \n",
    "- answer the questions above, and pick a reasonable epoch lenght\n",
    "\n",
    "Start with a default learning_rate of 1e-3 and an Adam optimizer."
   ]
  },
  {
   "cell_type": "code",
   "execution_count": 14,
   "metadata": {},
   "outputs": [
    {
     "name": "stdout",
     "output_type": "stream",
     "text": [
      "419.09375 batches in traindataset\n",
      "16.76375 epochs\n"
     ]
    }
   ],
   "source": [
    "print(f\"{len(traindataset) / 32} batches in traindataset\")\n",
    "print(f\"{(len(traindataset) / 32)/25} epochs\")"
   ]
  },
  {
   "cell_type": "markdown",
   "metadata": {},
   "source": [
    "### Opmerking\n",
    "\n",
    "Hoi Raoul, bij bovenstaande vraag vraag ik mij af of de term epochs wel helemaal juist is, ik lees overal op het internet dat een epoch betekend dat je een keer door de hele dataset gaat. Maar als ik naar de vraag kijk lijkt dat niet helemaal op te gaan.\n"
   ]
  },
  {
   "cell_type": "code",
   "execution_count": 15,
   "metadata": {},
   "outputs": [],
   "source": [
    "# from src.training import train_model\n",
    "\n",
    "# model = train_model.trainloop(\n",
    "#     epochs=64,\n",
    "#     model=model,\n",
    "#     metrics=metrics,\n",
    "#     optimizer=torch.optim.Adam,\n",
    "#     learning_rate=1e-3,\n",
    "#     loss_fn=loss_fn,\n",
    "#     train_dataloader=trainstreamer,\n",
    "#     test_dataloader=teststreamer,\n",
    "#     log_dir=\"../model/basis\",\n",
    "#     train_steps=25,\n",
    "#     eval_steps=25,\n",
    "# )\n"
   ]
  },
  {
   "cell_type": "markdown",
   "metadata": {},
   "source": [
    "Save an image from the training in tensorboard in the `figures` folder.\n",
    "Explain what you are seeing."
   ]
  },
  {
   "cell_type": "markdown",
   "metadata": {},
   "source": [
    "\n",
    "<img src = \"../figures/Screenshot 2022-07-21 at 16.01.07.png\">\n",
    "\n",
    "## Antwoord\n",
    "Je ziet dat het model leert en de loss op de train data flink minder wordt, dit zie je ook terug op de accuracy. Alleen de accuracy op de test data stagneert rond de 0.3, wat overeenkomt met de F1 score, wat aangeeft dat de F1 score hier dus echt een betere metric is. "
   ]
  },
  {
   "cell_type": "markdown",
   "metadata": {},
   "source": [
    "# 5 Evaluate the basemodel\n",
    "Create a confusion matrix with the code below"
   ]
  },
  {
   "cell_type": "code",
   "execution_count": 16,
   "metadata": {},
   "outputs": [
    {
     "data": {
      "text/plain": [
       "[Text(0.5, 15.0, 'Predicted'), Text(33.0, 0.5, 'Target')]"
      ]
     },
     "execution_count": 16,
     "metadata": {},
     "output_type": "execute_result"
    },
    {
     "data": {
      "image/png": "[encoded data removed]",
      "text/plain": [
       "<Figure size 432x288 with 2 Axes>"
      ]
     },
     "metadata": {
      "needs_background": "light"
     },
     "output_type": "display_data"
    }
   ],
   "source": [
    "from sklearn.metrics import confusion_matrix\n",
    "\n",
    "y_true = []\n",
    "y_pred = []\n",
    "\n",
    "for _ in range(100):\n",
    "    X, y = next(teststreamer)\n",
    "    yhat = model(X)\n",
    "    yhat = yhat.argmax(dim=1)\n",
    "    y_pred.append(yhat.tolist())\n",
    "    y_true.append(y.tolist())\n",
    "\n",
    "yhat = [x for y in y_pred for x in y]\n",
    "y = [x for y in y_true for x in y]\n",
    "\n",
    "cfm = confusion_matrix(y, yhat)\n",
    "cfm_norm = cfm / np.sum(cfm, axis=1, keepdims=True)\n",
    "plot = sns.heatmap(cfm_norm, annot=cfm_norm, fmt=\".3f\")\n",
    "plot.set(xlabel=\"Predicted\", ylabel=\"Target\")\n"
   ]
  },
  {
   "cell_type": "markdown",
   "metadata": {},
   "source": [
    "Save this in the figures folder.\n",
    "Interpret this. \n",
    "\n",
    "<img src = \"../figures/matrix_2.png\">\n",
    "\n",
    "- What is going on?\n",
    "    \n",
    "- What is a good metric here?\n",
    "    \n",
    "- how is your answer to Q1 relevant here?\n",
    "    \n",
    "- Is there something you could do to fix/improve things, after you see these results?\n",
    "    "
   ]
  },
  {
   "cell_type": "markdown",
   "metadata": {},
   "source": [
    "Als je de resultaten in losse klasses bekijkt wordt dijdelijk dat het model niet goed scoort bij klasse 3, in bijna 30 proces van de gevallen voorspelt het een andere klasse, vooral 0 en 2. Dit terwijl de andere klasse wel goed scoren. Niet geheel onlogisch want het model heeft in 6% van de tijd maar voorbeelden gezien van klasse 3. \n",
    "\n",
    "Accuracy is hier dus geen goede score omdat de dataset zo onevenredig verdeeld is. Gebruik maken van F1 score is al een goede eerste zet omdat je dan gebruik maakt van de precision en recall van alle classe in een metric. \n",
    "\n",
    "Je kunt als tweede oplossing resamplen, zodat de dataset gebalanceerder is. En dit kan op drie manieren: \n",
    "-   undersamping (van klasse 0-2 afhalen) niet handig denk ik want dan verlies je echt mega veel informatie. \n",
    "-   oversampling (delen van klasse 3 dupliceren), ook onhandig denk ik ivm overfitten. \n",
    "-   creeeren van nieuwe synthetic data. Waarbij ik niet denk dat je de laatste kunt gebruiken bij NLP. Althans, nee.. lijkt me onmogelijk. \n",
    "\n",
    "En je kunt natuurlijk het model aanpassen "
   ]
  },
  {
   "cell_type": "markdown",
   "metadata": {},
   "source": [
    "# 6 Tune the model\n",
    "Don't overdo this.\n",
    "More is not better.\n",
    "\n",
    "Bonus points for things like:\n",
    "- Attention layers\n",
    "- Trax architecture including a functioning training loop\n",
    "\n",
    "Keep it small! It's better to present 2 or 3 sane experiments that are structured and thought trough, than 25 random guesses. You can test more, but select 2 or 3 of the best alternatives you researched, with a rationale why this works better.\n",
    "\n",
    "Keep it concise; explain:\n",
    "- what you changed\n",
    "- why you thought that was a good idea  \n",
    "- what the impact was (visualise or numeric)\n",
    "- explain the impact\n",
    "\n",
    "You dont need to get a perfect score; curiousity driven research that fails is fine.\n",
    "The insight into what is happening is more important than the quantity.\n",
    "\n",
    "Keep logs of your settings;\n",
    "either use gin, or save configs, or both :)\n",
    "Store images in the `figures` folder."
   ]
  },
  {
   "cell_type": "code",
   "execution_count": null,
   "metadata": {},
   "outputs": [],
   "source": []
  },
  {
   "cell_type": "code",
   "execution_count": 17,
   "metadata": {},
   "outputs": [],
   "source": [
    "trainstreamer = data_tools.BaseDatastreamer(\n",
    "    dataset=traindataset, batchsize=32, preprocessor=preprocessor\n",
    ").stream()\n",
    "teststreamer = data_tools.BaseDatastreamer(\n",
    "    dataset=testdataset, batchsize=32, preprocessor=preprocessor\n",
    ").stream()"
   ]
  },
  {
   "cell_type": "code",
   "execution_count": 26,
   "metadata": {},
   "outputs": [
    {
     "name": "stderr",
     "output_type": "stream",
     "text": [
      "2022-08-04 12:52:04.103 | INFO     | src.data.data_tools:dir_add_timestamp:67 - Logging to ../tune/20220804-1252\n"
     ]
    },
    {
     "name": "stdout",
     "output_type": "stream",
     "text": [
      "     56   128  256  512\n",
      "0.1  NaN  NaN  NaN  NaN\n",
      "0.2  NaN  NaN  NaN  NaN\n",
      "0.3  NaN  NaN  NaN  NaN\n",
      "0.4  NaN  NaN  NaN  NaN\n",
      "NLPmodel(\n",
      "  (emb): Embedding(19308, 56)\n",
      "  (rnn): GRU(56, 56, num_layers=3, batch_first=True, dropout=0.1)\n",
      "  (linear): Linear(in_features=56, out_features=4, bias=True)\n",
      ")\n"
     ]
    },
    {
     "name": "stderr",
     "output_type": "stream",
     "text": [
      "100%|██████████| 25/25 [00:02<00:00,  9.65it/s]\n",
      "2022-08-04 12:52:07.271 | INFO     | src.training.train_model:trainloop:164 - Epoch 0 train 1.2926 test 1.2483 metric ['0.4138', '0.2659']\n",
      "100%|██████████| 25/25 [00:01<00:00, 15.10it/s]\n",
      "2022-08-04 12:52:09.368 | INFO     | src.training.train_model:trainloop:164 - Epoch 1 train 1.2424 test 1.2351 metric ['0.3762', '0.2429']\n",
      "100%|██████████| 25/25 [00:01<00:00, 14.53it/s]\n",
      "2022-08-04 12:52:11.543 | INFO     | src.training.train_model:trainloop:164 - Epoch 2 train 1.2260 test 1.2065 metric ['0.4175', '0.2534']\n",
      "100%|██████████| 25/25 [00:02<00:00, 12.12it/s]\n",
      "2022-08-04 12:52:14.134 | INFO     | src.training.train_model:trainloop:164 - Epoch 3 train 1.2434 test 1.1943 metric ['0.4225', '0.2455']\n",
      "100%|██████████| 25/25 [00:01<00:00, 13.06it/s]\n",
      "2022-08-04 12:52:16.725 | INFO     | src.training.train_model:trainloop:164 - Epoch 4 train 1.1614 test 1.2589 metric ['0.3800', '0.2853']\n",
      " 44%|████▍     | 11/25 [00:00<00:00, 16.64it/s]\n",
      "  8%|▊         | 5/64 [00:13<02:36,  2.65s/it]\n"
     ]
    },
    {
     "ename": "KeyboardInterrupt",
     "evalue": "",
     "output_type": "error",
     "traceback": [
      "\u001b[0;31m---------------------------------------------------------------------------\u001b[0m",
      "\u001b[0;31mKeyboardInterrupt\u001b[0m                         Traceback (most recent call last)",
      "\u001b[1;32m/home/rinsrutgers/examen-22-antw/notebooks/02_style_detection.ipynb Cell 41\u001b[0m in \u001b[0;36m<cell line: 8>\u001b[0;34m()\u001b[0m\n\u001b[1;32m     <a href='vscode-notebook-cell://ssh-remote%2B7b22686f73744e616d65223a224d6173746572536572766572227d/home/rinsrutgers/examen-22-antw/notebooks/02_style_detection.ipynb#ch0000040vscode-remote?line=19'>20</a>\u001b[0m model \u001b[39m=\u001b[39m rnn\u001b[39m.\u001b[39mNLPmodel(config)\n\u001b[1;32m     <a href='vscode-notebook-cell://ssh-remote%2B7b22686f73744e616d65223a224d6173746572536572766572227d/home/rinsrutgers/examen-22-antw/notebooks/02_style_detection.ipynb#ch0000040vscode-remote?line=20'>21</a>\u001b[0m \u001b[39mprint\u001b[39m(model)\n\u001b[0;32m---> <a href='vscode-notebook-cell://ssh-remote%2B7b22686f73744e616d65223a224d6173746572536572766572227d/home/rinsrutgers/examen-22-antw/notebooks/02_style_detection.ipynb#ch0000040vscode-remote?line=22'>23</a>\u001b[0m model \u001b[39m=\u001b[39m train_model\u001b[39m.\u001b[39;49mtrainloop(\n\u001b[1;32m     <a href='vscode-notebook-cell://ssh-remote%2B7b22686f73744e616d65223a224d6173746572536572766572227d/home/rinsrutgers/examen-22-antw/notebooks/02_style_detection.ipynb#ch0000040vscode-remote?line=23'>24</a>\u001b[0m     epochs\u001b[39m=\u001b[39;49m\u001b[39m64\u001b[39;49m,\n\u001b[1;32m     <a href='vscode-notebook-cell://ssh-remote%2B7b22686f73744e616d65223a224d6173746572536572766572227d/home/rinsrutgers/examen-22-antw/notebooks/02_style_detection.ipynb#ch0000040vscode-remote?line=24'>25</a>\u001b[0m     model\u001b[39m=\u001b[39;49mmodel,\n\u001b[1;32m     <a href='vscode-notebook-cell://ssh-remote%2B7b22686f73744e616d65223a224d6173746572536572766572227d/home/rinsrutgers/examen-22-antw/notebooks/02_style_detection.ipynb#ch0000040vscode-remote?line=25'>26</a>\u001b[0m     metrics\u001b[39m=\u001b[39;49mmetrics,\n\u001b[1;32m     <a href='vscode-notebook-cell://ssh-remote%2B7b22686f73744e616d65223a224d6173746572536572766572227d/home/rinsrutgers/examen-22-antw/notebooks/02_style_detection.ipynb#ch0000040vscode-remote?line=26'>27</a>\u001b[0m     optimizer\u001b[39m=\u001b[39;49mtorch\u001b[39m.\u001b[39;49moptim\u001b[39m.\u001b[39;49mAdam,\n\u001b[1;32m     <a href='vscode-notebook-cell://ssh-remote%2B7b22686f73744e616d65223a224d6173746572536572766572227d/home/rinsrutgers/examen-22-antw/notebooks/02_style_detection.ipynb#ch0000040vscode-remote?line=27'>28</a>\u001b[0m     learning_rate\u001b[39m=\u001b[39;49m\u001b[39m1e-3\u001b[39;49m,\n\u001b[1;32m     <a href='vscode-notebook-cell://ssh-remote%2B7b22686f73744e616d65223a224d6173746572536572766572227d/home/rinsrutgers/examen-22-antw/notebooks/02_style_detection.ipynb#ch0000040vscode-remote?line=28'>29</a>\u001b[0m     loss_fn\u001b[39m=\u001b[39;49mloss_fn,\n\u001b[1;32m     <a href='vscode-notebook-cell://ssh-remote%2B7b22686f73744e616d65223a224d6173746572536572766572227d/home/rinsrutgers/examen-22-antw/notebooks/02_style_detection.ipynb#ch0000040vscode-remote?line=29'>30</a>\u001b[0m     train_dataloader\u001b[39m=\u001b[39;49mtrainstreamer,\n\u001b[1;32m     <a href='vscode-notebook-cell://ssh-remote%2B7b22686f73744e616d65223a224d6173746572536572766572227d/home/rinsrutgers/examen-22-antw/notebooks/02_style_detection.ipynb#ch0000040vscode-remote?line=30'>31</a>\u001b[0m     test_dataloader\u001b[39m=\u001b[39;49mteststreamer,\n\u001b[1;32m     <a href='vscode-notebook-cell://ssh-remote%2B7b22686f73744e616d65223a224d6173746572536572766572227d/home/rinsrutgers/examen-22-antw/notebooks/02_style_detection.ipynb#ch0000040vscode-remote?line=31'>32</a>\u001b[0m     log_dir\u001b[39m=\u001b[39;49mlog_dir,\n\u001b[1;32m     <a href='vscode-notebook-cell://ssh-remote%2B7b22686f73744e616d65223a224d6173746572536572766572227d/home/rinsrutgers/examen-22-antw/notebooks/02_style_detection.ipynb#ch0000040vscode-remote?line=32'>33</a>\u001b[0m     train_steps\u001b[39m=\u001b[39;49m\u001b[39m25\u001b[39;49m,\n\u001b[1;32m     <a href='vscode-notebook-cell://ssh-remote%2B7b22686f73744e616d65223a224d6173746572536572766572227d/home/rinsrutgers/examen-22-antw/notebooks/02_style_detection.ipynb#ch0000040vscode-remote?line=33'>34</a>\u001b[0m     eval_steps\u001b[39m=\u001b[39;49m\u001b[39m25\u001b[39;49m,\n\u001b[1;32m     <a href='vscode-notebook-cell://ssh-remote%2B7b22686f73744e616d65223a224d6173746572536572766572227d/home/rinsrutgers/examen-22-antw/notebooks/02_style_detection.ipynb#ch0000040vscode-remote?line=34'>35</a>\u001b[0m )\n\u001b[1;32m     <a href='vscode-notebook-cell://ssh-remote%2B7b22686f73744e616d65223a224d6173746572536572766572227d/home/rinsrutgers/examen-22-antw/notebooks/02_style_detection.ipynb#ch0000040vscode-remote?line=35'>36</a>\u001b[0m result\u001b[39m.\u001b[39mat[x,i] \u001b[39m=\u001b[39m  model[\u001b[39m1\u001b[39m]\n",
      "File \u001b[0;32m~/.cache/pypoetry/virtualenvs/exam-22-KwCzH9GQ-py3.9/lib/python3.9/site-packages/gin/config.py:1582\u001b[0m, in \u001b[0;36m_make_gin_wrapper.<locals>.gin_wrapper\u001b[0;34m(*args, **kwargs)\u001b[0m\n\u001b[1;32m   1579\u001b[0m new_kwargs\u001b[39m.\u001b[39mupdate(kwargs)\n\u001b[1;32m   1581\u001b[0m \u001b[39mtry\u001b[39;00m:\n\u001b[0;32m-> 1582\u001b[0m   \u001b[39mreturn\u001b[39;00m fn(\u001b[39m*\u001b[39;49mnew_args, \u001b[39m*\u001b[39;49m\u001b[39m*\u001b[39;49mnew_kwargs)\n\u001b[1;32m   1583\u001b[0m \u001b[39mexcept\u001b[39;00m \u001b[39mException\u001b[39;00m \u001b[39mas\u001b[39;00m e:  \u001b[39m# pylint: disable=broad-except\u001b[39;00m\n\u001b[1;32m   1584\u001b[0m   err_str \u001b[39m=\u001b[39m \u001b[39m'\u001b[39m\u001b[39m'\u001b[39m\n",
      "File \u001b[0;32m~/examen-22-antw/notebooks/../src/training/train_model.py:139\u001b[0m, in \u001b[0;36mtrainloop\u001b[0;34m(epochs, model, optimizer, learning_rate, loss_fn, metrics, train_dataloader, test_dataloader, log_dir, train_steps, eval_steps, patience, factor, tunewriter)\u001b[0m\n\u001b[1;32m    136\u001b[0m     write_gin(log_dir)\n\u001b[1;32m    138\u001b[0m \u001b[39mfor\u001b[39;00m epoch \u001b[39min\u001b[39;00m tqdm(\u001b[39mrange\u001b[39m(epochs)):\n\u001b[0;32m--> 139\u001b[0m     train_loss \u001b[39m=\u001b[39m trainbatches(\n\u001b[1;32m    140\u001b[0m         model, train_dataloader, loss_fn, optimizer_, train_steps\n\u001b[1;32m    141\u001b[0m     )\n\u001b[1;32m    143\u001b[0m     metric_dict, test_loss \u001b[39m=\u001b[39m evalbatches(\n\u001b[1;32m    144\u001b[0m         model, test_dataloader, loss_fn, metrics, eval_steps\n\u001b[1;32m    145\u001b[0m     )\n\u001b[1;32m    147\u001b[0m     scheduler\u001b[39m.\u001b[39mstep(test_loss)\n",
      "File \u001b[0;32m~/examen-22-antw/notebooks/../src/training/train_model.py:42\u001b[0m, in \u001b[0;36mtrainbatches\u001b[0;34m(model, traindatastreamer, loss_fn, optimizer, train_steps)\u001b[0m\n\u001b[1;32m     40\u001b[0m x, y \u001b[39m=\u001b[39m \u001b[39mnext\u001b[39m(\u001b[39miter\u001b[39m(traindatastreamer))\n\u001b[1;32m     41\u001b[0m optimizer\u001b[39m.\u001b[39mzero_grad()\n\u001b[0;32m---> 42\u001b[0m yhat \u001b[39m=\u001b[39m model(x)\n\u001b[1;32m     43\u001b[0m loss \u001b[39m=\u001b[39m loss_fn(yhat, y)\n\u001b[1;32m     44\u001b[0m loss\u001b[39m.\u001b[39mbackward()\n",
      "File \u001b[0;32m~/.cache/pypoetry/virtualenvs/exam-22-KwCzH9GQ-py3.9/lib/python3.9/site-packages/torch/nn/modules/module.py:1110\u001b[0m, in \u001b[0;36mModule._call_impl\u001b[0;34m(self, *input, **kwargs)\u001b[0m\n\u001b[1;32m   1106\u001b[0m \u001b[39m# If we don't have any hooks, we want to skip the rest of the logic in\u001b[39;00m\n\u001b[1;32m   1107\u001b[0m \u001b[39m# this function, and just call forward.\u001b[39;00m\n\u001b[1;32m   1108\u001b[0m \u001b[39mif\u001b[39;00m \u001b[39mnot\u001b[39;00m (\u001b[39mself\u001b[39m\u001b[39m.\u001b[39m_backward_hooks \u001b[39mor\u001b[39;00m \u001b[39mself\u001b[39m\u001b[39m.\u001b[39m_forward_hooks \u001b[39mor\u001b[39;00m \u001b[39mself\u001b[39m\u001b[39m.\u001b[39m_forward_pre_hooks \u001b[39mor\u001b[39;00m _global_backward_hooks\n\u001b[1;32m   1109\u001b[0m         \u001b[39mor\u001b[39;00m _global_forward_hooks \u001b[39mor\u001b[39;00m _global_forward_pre_hooks):\n\u001b[0;32m-> 1110\u001b[0m     \u001b[39mreturn\u001b[39;00m forward_call(\u001b[39m*\u001b[39;49m\u001b[39minput\u001b[39;49m, \u001b[39m*\u001b[39;49m\u001b[39m*\u001b[39;49mkwargs)\n\u001b[1;32m   1111\u001b[0m \u001b[39m# Do not call functions when jit is used\u001b[39;00m\n\u001b[1;32m   1112\u001b[0m full_backward_hooks, non_full_backward_hooks \u001b[39m=\u001b[39m [], []\n",
      "File \u001b[0;32m~/examen-22-antw/notebooks/../src/models/rnn.py:27\u001b[0m, in \u001b[0;36mNLPmodel.forward\u001b[0;34m(self, x)\u001b[0m\n\u001b[1;32m     25\u001b[0m \u001b[39mdef\u001b[39;00m \u001b[39mforward\u001b[39m(\u001b[39mself\u001b[39m, x: Tensor) \u001b[39m-\u001b[39m\u001b[39m>\u001b[39m Tensor:\n\u001b[1;32m     26\u001b[0m     x \u001b[39m=\u001b[39m \u001b[39mself\u001b[39m\u001b[39m.\u001b[39memb(x)\n\u001b[0;32m---> 27\u001b[0m     x, _ \u001b[39m=\u001b[39m \u001b[39mself\u001b[39;49m\u001b[39m.\u001b[39;49mrnn(x)\n\u001b[1;32m     28\u001b[0m     last_step \u001b[39m=\u001b[39m x[:, \u001b[39m-\u001b[39m\u001b[39m1\u001b[39m, :]\n\u001b[1;32m     29\u001b[0m     yhat \u001b[39m=\u001b[39m \u001b[39mself\u001b[39m\u001b[39m.\u001b[39mlinear(last_step)\n",
      "File \u001b[0;32m~/.cache/pypoetry/virtualenvs/exam-22-KwCzH9GQ-py3.9/lib/python3.9/site-packages/torch/nn/modules/module.py:1110\u001b[0m, in \u001b[0;36mModule._call_impl\u001b[0;34m(self, *input, **kwargs)\u001b[0m\n\u001b[1;32m   1106\u001b[0m \u001b[39m# If we don't have any hooks, we want to skip the rest of the logic in\u001b[39;00m\n\u001b[1;32m   1107\u001b[0m \u001b[39m# this function, and just call forward.\u001b[39;00m\n\u001b[1;32m   1108\u001b[0m \u001b[39mif\u001b[39;00m \u001b[39mnot\u001b[39;00m (\u001b[39mself\u001b[39m\u001b[39m.\u001b[39m_backward_hooks \u001b[39mor\u001b[39;00m \u001b[39mself\u001b[39m\u001b[39m.\u001b[39m_forward_hooks \u001b[39mor\u001b[39;00m \u001b[39mself\u001b[39m\u001b[39m.\u001b[39m_forward_pre_hooks \u001b[39mor\u001b[39;00m _global_backward_hooks\n\u001b[1;32m   1109\u001b[0m         \u001b[39mor\u001b[39;00m _global_forward_hooks \u001b[39mor\u001b[39;00m _global_forward_pre_hooks):\n\u001b[0;32m-> 1110\u001b[0m     \u001b[39mreturn\u001b[39;00m forward_call(\u001b[39m*\u001b[39;49m\u001b[39minput\u001b[39;49m, \u001b[39m*\u001b[39;49m\u001b[39m*\u001b[39;49mkwargs)\n\u001b[1;32m   1111\u001b[0m \u001b[39m# Do not call functions when jit is used\u001b[39;00m\n\u001b[1;32m   1112\u001b[0m full_backward_hooks, non_full_backward_hooks \u001b[39m=\u001b[39m [], []\n",
      "File \u001b[0;32m~/.cache/pypoetry/virtualenvs/exam-22-KwCzH9GQ-py3.9/lib/python3.9/site-packages/torch/nn/modules/rnn.py:942\u001b[0m, in \u001b[0;36mGRU.forward\u001b[0;34m(self, input, hx)\u001b[0m\n\u001b[1;32m    940\u001b[0m \u001b[39mself\u001b[39m\u001b[39m.\u001b[39mcheck_forward_args(\u001b[39minput\u001b[39m, hx, batch_sizes)\n\u001b[1;32m    941\u001b[0m \u001b[39mif\u001b[39;00m batch_sizes \u001b[39mis\u001b[39;00m \u001b[39mNone\u001b[39;00m:\n\u001b[0;32m--> 942\u001b[0m     result \u001b[39m=\u001b[39m _VF\u001b[39m.\u001b[39;49mgru(\u001b[39minput\u001b[39;49m, hx, \u001b[39mself\u001b[39;49m\u001b[39m.\u001b[39;49m_flat_weights, \u001b[39mself\u001b[39;49m\u001b[39m.\u001b[39;49mbias, \u001b[39mself\u001b[39;49m\u001b[39m.\u001b[39;49mnum_layers,\n\u001b[1;32m    943\u001b[0m                      \u001b[39mself\u001b[39;49m\u001b[39m.\u001b[39;49mdropout, \u001b[39mself\u001b[39;49m\u001b[39m.\u001b[39;49mtraining, \u001b[39mself\u001b[39;49m\u001b[39m.\u001b[39;49mbidirectional, \u001b[39mself\u001b[39;49m\u001b[39m.\u001b[39;49mbatch_first)\n\u001b[1;32m    944\u001b[0m \u001b[39melse\u001b[39;00m:\n\u001b[1;32m    945\u001b[0m     result \u001b[39m=\u001b[39m _VF\u001b[39m.\u001b[39mgru(\u001b[39minput\u001b[39m, batch_sizes, hx, \u001b[39mself\u001b[39m\u001b[39m.\u001b[39m_flat_weights, \u001b[39mself\u001b[39m\u001b[39m.\u001b[39mbias,\n\u001b[1;32m    946\u001b[0m                      \u001b[39mself\u001b[39m\u001b[39m.\u001b[39mnum_layers, \u001b[39mself\u001b[39m\u001b[39m.\u001b[39mdropout, \u001b[39mself\u001b[39m\u001b[39m.\u001b[39mtraining, \u001b[39mself\u001b[39m\u001b[39m.\u001b[39mbidirectional)\n",
      "\u001b[0;31mKeyboardInterrupt\u001b[0m: "
     ]
    }
   ],
   "source": [
    "from src.training import train_model\n",
    "hidden_size_array = (56, 128, 256, 512)\n",
    "dropout_array = (0.1, 0.2, 0.3, 0.4)\n",
    "\n",
    "result = pd.DataFrame(index = dropout_array, columns=hidden_size_array)\n",
    "print(result)\n",
    "\n",
    "for i in hidden_size_array:\n",
    "    for x in dropout_array:\n",
    "\n",
    "        config = {\n",
    "            \"vocab\": len(v),\n",
    "            \"input_size\": 32,\n",
    "            \"hidden_size\": i,\n",
    "            \"num_layers\": 3,\n",
    "            \"dropout\": x,\n",
    "            \"output_size\": 4,\n",
    "        }\n",
    "\n",
    "        model = rnn.NLPmodel(config)\n",
    "        print(model)\n",
    "\n",
    "        model = train_model.trainloop(\n",
    "            epochs=64,\n",
    "            model=model,\n",
    "            metrics=metrics,\n",
    "            optimizer=torch.optim.Adam,\n",
    "            learning_rate=1e-3,\n",
    "            loss_fn=loss_fn,\n",
    "            train_dataloader=trainstreamer,\n",
    "            test_dataloader=teststreamer,\n",
    "            log_dir=log_dir,\n",
    "            train_steps=25,\n",
    "            eval_steps=25,\n",
    "        )\n",
    "        result.at[x,i] =  model[1]\n",
    "        print(result)\n",
    "\n",
    "\n",
    "        # result[][str(x)] = model[1]"
   ]
  },
  {
   "cell_type": "code",
   "execution_count": 25,
   "metadata": {},
   "outputs": [
    {
     "name": "stdout",
     "output_type": "stream",
     "text": [
      "      56.0  128.0 256.0 512.0   0.1     0.2     0.3     0.4  \n",
      "0.1     NaN   NaN   NaN   NaN     NaN     NaN     NaN     NaN\n",
      "0.2     NaN   NaN   NaN   NaN     NaN     NaN     NaN     NaN\n",
      "0.3     NaN   NaN   NaN   NaN     NaN     NaN     NaN     NaN\n",
      "0.4     NaN   NaN   NaN   NaN     NaN     NaN     NaN     NaN\n",
      "56.0    NaN   NaN   NaN   NaN  0.7746  0.8195  0.7847  0.8370\n",
      "128.0   NaN   NaN   NaN   NaN  0.8566  0.8720  0.8326     NaN\n"
     ]
    }
   ],
   "source": [
    "print(result)\n"
   ]
  }
 ],
 "metadata": {
  "kernelspec": {
   "display_name": "Python 3.9.13 ('exam-22-KwCzH9GQ-py3.9')",
   "language": "python",
   "name": "python3"
  },
  "language_info": {
   "codemirror_mode": {
    "name": "ipython",
    "version": 3
   },
   "file_extension": ".py",
   "mimetype": "text/x-python",
   "name": "python",
   "nbconvert_exporter": "python",
   "pygments_lexer": "ipython3",
   "version": "3.9.13"
  },
  "orig_nbformat": 4,
  "vscode": {
   "interpreter": {
    "hash": "793d4b0ba659e9ff3f4cb7a1b3752627ccc54f1224ce4526b6cf626154c05563"
   }
  }
 },
 "nbformat": 4,
 "nbformat_minor": 2
}

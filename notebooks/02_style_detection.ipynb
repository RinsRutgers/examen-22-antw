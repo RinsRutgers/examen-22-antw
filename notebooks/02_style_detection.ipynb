{
 "cells": [
  {
   "cell_type": "code",
   "execution_count": 1,
   "metadata": {},
   "outputs": [],
   "source": [
    "import sys\n",
    "import pandas as pd\n",
    "sys.path.insert(0, \"..\")\n",
    "from src.settings import StyleSettings\n",
    "from src.data.data_tools import StyleDataset\n",
    "import numpy as np\n",
    "import seaborn as sns\n"
   ]
  },
  {
   "cell_type": "markdown",
   "metadata": {},
   "source": [
    "# Load the data"
   ]
  },
  {
   "cell_type": "code",
   "execution_count": 2,
   "metadata": {},
   "outputs": [],
   "source": [
    "settings = StyleSettings()\n",
    "traindataset = StyleDataset([settings.trainpath])\n",
    "testdataset = StyleDataset([settings.testpath])\n"
   ]
  },
  {
   "cell_type": "markdown",
   "metadata": {},
   "source": [
    "We have 419 batches in the dataset"
   ]
  },
  {
   "cell_type": "code",
   "execution_count": 3,
   "metadata": {},
   "outputs": [
    {
     "data": {
      "text/plain": [
       "419"
      ]
     },
     "execution_count": 3,
     "metadata": {},
     "output_type": "execute_result"
    }
   ],
   "source": [
    "len(traindataset) // 32\n"
   ]
  },
  {
   "cell_type": "code",
   "execution_count": 4,
   "metadata": {},
   "outputs": [
    {
     "data": {
      "text/plain": [
       "('Lace is an openwork fabric , patterned with open holes in the work , made by machine or by hand.',\n",
       " 'wiki')"
      ]
     },
     "execution_count": 4,
     "metadata": {},
     "output_type": "execute_result"
    }
   ],
   "source": [
    "x, y = traindataset[42]\n",
    "x, y\n"
   ]
  },
  {
   "cell_type": "markdown",
   "metadata": {},
   "source": [
    "Every batch is a `Tuple[str, str]` of a sentence and a label. We can see this is a classification task.\n",
    "The task is, to classify sentences in four categories.\n",
    "Lets build a vocabulary by copy-pasting the code we used before"
   ]
  },
  {
   "cell_type": "code",
   "execution_count": 5,
   "metadata": {},
   "outputs": [
    {
     "name": "stderr",
     "output_type": "stream",
     "text": [
      "2022-08-12 06:50:13.999 | INFO     | src.models.tokenizer:build_vocab:27 - Found 19306 tokens\n"
     ]
    },
    {
     "data": {
      "text/plain": [
       "19308"
      ]
     },
     "execution_count": 5,
     "metadata": {},
     "output_type": "execute_result"
    }
   ],
   "source": [
    "from src.models import tokenizer\n",
    "\n",
    "corpus = []\n",
    "count = []\n",
    "for i in range(len(traindataset)):\n",
    "    x = tokenizer.clean(traindataset[i][0])\n",
    "    corpus.append(x)\n",
    "    \n",
    "v = tokenizer.build_vocab(corpus, max=20000)\n",
    "len(v)\n"
   ]
  },
  {
   "cell_type": "markdown",
   "metadata": {},
   "source": [
    "We need to cast the labels to an integers. You can use this dictionary to do so:"
   ]
  },
  {
   "cell_type": "code",
   "execution_count": 6,
   "metadata": {},
   "outputs": [
    {
     "data": {
      "text/plain": [
       "2"
      ]
     },
     "execution_count": 6,
     "metadata": {},
     "output_type": "execute_result"
    }
   ],
   "source": [
    "d = {\"humor\": 0, \"reuters\": 1, \"wiki\": 2, \"proverbs\": 3}\n",
    "d[y]\n"
   ]
  },
  {
   "cell_type": "code",
   "execution_count": null,
   "metadata": {},
   "outputs": [],
   "source": []
  },
  {
   "cell_type": "markdown",
   "metadata": {},
   "source": [
    "# Question 1\n",
    "Figure out, for every class, what accuracy you should expect if the model would guess blind on the train set"
   ]
  },
  {
   "cell_type": "code",
   "execution_count": 7,
   "metadata": {},
   "outputs": [
    {
     "name": "stdout",
     "output_type": "stream",
     "text": [
      "humor komt 31.414510476474533 % voor in de dataset, blind guess accuracy for this class: 7.853627619118633\n",
      "reuters komt 31.21318320781448 % voor in de dataset, blind guess accuracy for this class: 7.80329580195362\n",
      "wiki komt 31.175900380284844 % voor in de dataset, blind guess accuracy for this class: 7.793975095071211\n",
      "proverbs komt 6.196405935426143 % voor in de dataset, blind guess accuracy for this class: 1.5491014838565358\n"
     ]
    }
   ],
   "source": [
    "count = {\"humor\": 0, \"reuters\": 0, \"wiki\": 0, \"proverbs\": 0}\n",
    "total = len(traindataset)\n",
    "for i in range(len(traindataset)):\n",
    "    x = tokenizer.clean(traindataset[i][1])\n",
    "    count[x] = count[x] + 1\n",
    "\n",
    "for style in d:\n",
    "    print(f'{style} komt {((count[style] / total ) * 100 )} % voor in de dataset, blind guess accuracy for this class: {((count[style] / total ) * 100 )*.25}')"
   ]
  },
  {
   "cell_type": "markdown",
   "metadata": {},
   "source": [
    "Reflect on what you see. What does this mean? What implications does this have? Why is that good/bad?\n",
    "Are there things down the line that could cause a problem?"
   ]
  },
  {
   "cell_type": "markdown",
   "metadata": {},
   "source": [
    "Proverbs komt erg weining voor, daarom heeft het model weinig om daar van te leren. De nuance mist dan gok ik en je model wordt biased. \n",
    "\n",
    "ik dacht dat je de rest van de dataset kon trimmen tot een gelijwaardige verdeling, maar dit kan niet zo makkelijk zoals ik dacht omdat je inderdaad nog shuffled. "
   ]
  },
  {
   "cell_type": "markdown",
   "metadata": {},
   "source": [
    "# Question 2 : Implement a preprocessor\n",
    "\n",
    "We can inherit from `tokenizer.Preprocessor`\n",
    "Only thing we need to adjust is the `cast_label` function.\n",
    " \n",
    "- create a StylePreprocessor class\n",
    "- inherit from Preprocessor\n",
    "- create a new cast_label function for this dataset"
   ]
  },
  {
   "cell_type": "code",
   "execution_count": 8,
   "metadata": {},
   "outputs": [],
   "source": [
    "# TODO ~ about 4 lines of code\n",
    "\n",
    "class StylePreprocessor(tokenizer.Preprocessor):\n",
    "    def cast_label(self, label: str) -> int:\n",
    "        d = {\"humor\":0, \"reuters\": 1, \"wiki\": 2, \"proverbs\": 3}\n",
    "        return d[label]\n"
   ]
  },
  {
   "cell_type": "markdown",
   "metadata": {},
   "source": [
    "To test the preprocessor:"
   ]
  },
  {
   "cell_type": "code",
   "execution_count": 9,
   "metadata": {},
   "outputs": [
    {
     "data": {
      "text/plain": [
       "(tensor([[1347]], dtype=torch.int32), tensor([2]))"
      ]
     },
     "execution_count": 9,
     "metadata": {},
     "output_type": "execute_result"
    }
   ],
   "source": [
    "preprocessor = StylePreprocessor(max=100, vocab=v, clean=tokenizer.clean)\n",
    "preprocessor([(x, y)])\n"
   ]
  },
  {
   "cell_type": "markdown",
   "metadata": {},
   "source": [
    "# Set up the model\n",
    "We can re-use the BaseDatastreamer"
   ]
  },
  {
   "cell_type": "code",
   "execution_count": 10,
   "metadata": {},
   "outputs": [],
   "source": [
    "from src.data import data_tools\n",
    "\n",
    "trainstreamer = data_tools.BaseDatastreamer(\n",
    "    dataset=traindataset, batchsize=32, preprocessor=preprocessor\n",
    ").stream()\n",
    "teststreamer = data_tools.BaseDatastreamer(\n",
    "    dataset=testdataset, batchsize=32, preprocessor=preprocessor\n",
    ").stream()\n"
   ]
  },
  {
   "cell_type": "code",
   "execution_count": 11,
   "metadata": {},
   "outputs": [
    {
     "data": {
      "text/plain": [
       "(torch.Size([32, 30]),\n",
       " tensor([0, 0, 1, 1, 0, 1, 2, 1, 2, 2, 2, 1, 2, 2, 2, 2, 2, 1, 2, 0, 1, 0, 0, 1,\n",
       "         0, 1, 0, 2, 2, 1, 2, 1]))"
      ]
     },
     "execution_count": 11,
     "metadata": {},
     "output_type": "execute_result"
    }
   ],
   "source": [
    "x, y = next(trainstreamer)\n",
    "x.shape, y\n"
   ]
  },
  {
   "cell_type": "markdown",
   "metadata": {},
   "source": [
    "## Question 3 : Metrics, loss\n",
    "Select proper metrics and a loss function.\n",
    "\n",
    "Bonus: implement an additional metric function that is relevant for this case."
   ]
  },
  {
   "cell_type": "code",
   "execution_count": 12,
   "metadata": {},
   "outputs": [],
   "source": [
    "from src.models import metrics\n",
    "import torch\n",
    "# TODO ~ 2 lines of code\n",
    "\n",
    "metrics = [metrics.Accuracy(), metrics.F1Score()]\n",
    "\n",
    "loss_fn = torch.nn.CrossEntropyLoss()"
   ]
  },
  {
   "cell_type": "markdown",
   "metadata": {},
   "source": [
    "Accuracy is een handige metric als je data goed evenredig versprijd is. Dat is hiet niet het geval. Voor ongebalanceerde datasets wordt F1score aangeraden. Bron: https://towardsdatascience.com/the-f1-score-bec2bbc38aa6\""
   ]
  },
  {
   "cell_type": "markdown",
   "metadata": {},
   "source": [
    "## Question 4 : Basemodel\n",
    "Create a base model. It does not need to be naive; you could re-use the\n",
    "NLP models we used for the IMDB.\n",
    "\n",
    "I suggest to start with a hidden size of about 128.\n",
    "Use a config dictionary, or a gin file, both are fine.\n",
    "\n",
    "Bonus points if you create a Trax model in src.models, and even more if you add a trax training loop."
   ]
  },
  {
   "cell_type": "code",
   "execution_count": 13,
   "metadata": {},
   "outputs": [
    {
     "name": "stdout",
     "output_type": "stream",
     "text": [
      "NLPmodel(\n",
      "  (emb): Embedding(19308, 128)\n",
      "  (rnn): GRU(128, 128, num_layers=3, batch_first=True, dropout=0.1)\n",
      "  (linear): Linear(in_features=128, out_features=4, bias=True)\n",
      ")\n"
     ]
    }
   ],
   "source": [
    "log_dir = settings.log_dir\n",
    "# TODO between 2 and 8 lines of code, depending on your setup\n",
    "# Assuming you load your model in one line of code from src.models.rnn\n",
    "from src.models import rnn\n",
    "\n",
    "config = {\n",
    "    \"vocab\": len(v),\n",
    "    \"input_size\": 32,\n",
    "    \"hidden_size\": 128,\n",
    "    \"num_layers\": 3,\n",
    "    \"dropout\": 0.1,\n",
    "    \"output_size\": 4,\n",
    "}\n",
    "\n",
    "model = rnn.NLPmodel(config)\n",
    "print(model)"
   ]
  },
  {
   "cell_type": "markdown",
   "metadata": {},
   "source": [
    "Set up the trainloop.\n",
    "\n",
    "- Give the lenght of the traindataset, how many batches of 32 can you get out of it?\n",
    "- If you take a short amount of train_steps (eg 25) for every epoch, how many epochs do you need to cover the complete dataset?\n",
    "- What amount of epochs do you need to run the loop with trainsteps=25 to cover the complete traindataset once? \n",
    "- answer the questions above, and pick a reasonable epoch lenght\n",
    "\n",
    "Start with a default learning_rate of 1e-3 and an Adam optimizer."
   ]
  },
  {
   "cell_type": "code",
   "execution_count": 14,
   "metadata": {},
   "outputs": [
    {
     "name": "stdout",
     "output_type": "stream",
     "text": [
      "419.09375 batches in traindataset\n",
      "16.76375 epochs\n"
     ]
    }
   ],
   "source": [
    "print(f\"{len(traindataset) / 32} batches in traindataset\")\n",
    "print(f\"{(len(traindataset) / 32)/25} epochs\")"
   ]
  },
  {
   "cell_type": "markdown",
   "metadata": {},
   "source": [
    "### Opmerking\n",
    "\n",
    "Hoi Raoul, bij bovenstaande vraag vraag ik mij af of de term epochs wel helemaal juist is, ik lees overal op het internet dat een epoch betekend dat je een keer door de hele dataset gaat. Maar als ik naar de vraag kijk lijkt dat niet helemaal op te gaan.\n"
   ]
  },
  {
   "cell_type": "code",
   "execution_count": 15,
   "metadata": {},
   "outputs": [],
   "source": [
    "# from src.training import train_model\n",
    "\n",
    "# model = train_model.trainloop(\n",
    "#     epochs=64,\n",
    "#     model=model,\n",
    "#     metrics=metrics,\n",
    "#     optimizer=torch.optim.Adam,\n",
    "#     learning_rate=1e-3,\n",
    "#     loss_fn=loss_fn,\n",
    "#     train_dataloader=trainstreamer,\n",
    "#     test_dataloader=teststreamer,\n",
    "#     log_dir=\"../model/basis\",\n",
    "#     train_steps=25,\n",
    "#     eval_steps=25,\n",
    "# )\n"
   ]
  },
  {
   "cell_type": "markdown",
   "metadata": {},
   "source": [
    "Save an image from the training in tensorboard in the `figures` folder.\n",
    "Explain what you are seeing."
   ]
  },
  {
   "cell_type": "markdown",
   "metadata": {},
   "source": [
    "\n",
    "<img src = \"../figures/Screenshot 2022-07-21 at 16.01.07.png\">\n",
    "\n",
    "## Antwoord\n",
    "Je ziet dat het model leert en de loss op de train data flink minder wordt, dit zie je ook terug op de accuracy. Alleen de accuracy op de test data stagneert rond de 0.3, wat overeenkomt met de F1 score, wat aangeeft dat de F1 score hier dus echt een betere metric is. "
   ]
  },
  {
   "cell_type": "markdown",
   "metadata": {},
   "source": [
    "# 5 Evaluate the basemodel\n",
    "Create a confusion matrix with the code below"
   ]
  },
  {
   "cell_type": "code",
   "execution_count": 16,
   "metadata": {},
   "outputs": [
    {
     "data": {
      "text/plain": [
       "[Text(0.5, 15.0, 'Predicted'), Text(33.0, 0.5, 'Target')]"
      ]
     },
     "execution_count": 16,
     "metadata": {},
     "output_type": "execute_result"
    },
    {
     "data": {
      "image/png": "[encoded data removed]",
      "text/plain": [
       "<Figure size 432x288 with 2 Axes>"
      ]
     },
     "metadata": {
      "needs_background": "light"
     },
     "output_type": "display_data"
    }
   ],
   "source": [
    "from sklearn.metrics import confusion_matrix\n",
    "\n",
    "y_true = []\n",
    "y_pred = []\n",
    "\n",
    "for _ in range(100):\n",
    "    X, y = next(teststreamer)\n",
    "    yhat = model(X)\n",
    "    yhat = yhat.argmax(dim=1)\n",
    "    y_pred.append(yhat.tolist())\n",
    "    y_true.append(y.tolist())\n",
    "\n",
    "yhat = [x for y in y_pred for x in y]\n",
    "y = [x for y in y_true for x in y]\n",
    "\n",
    "cfm = confusion_matrix(y, yhat)\n",
    "cfm_norm = cfm / np.sum(cfm, axis=1, keepdims=True)\n",
    "plot = sns.heatmap(cfm_norm, annot=cfm_norm, fmt=\".3f\")\n",
    "plot.set(xlabel=\"Predicted\", ylabel=\"Target\")\n"
   ]
  },
  {
   "cell_type": "markdown",
   "metadata": {},
   "source": [
    "Save this in the figures folder.\n",
    "Interpret this. \n",
    "\n",
    "<img src = \"../figures/matrix_2.png\">\n",
    "\n",
    "- What is going on?\n",
    "    \n",
    "- What is a good metric here?\n",
    "    \n",
    "- how is your answer to Q1 relevant here?\n",
    "    \n",
    "- Is there something you could do to fix/improve things, after you see these results?\n",
    "    "
   ]
  },
  {
   "cell_type": "markdown",
   "metadata": {},
   "source": [
    "Als je de resultaten in losse klasses bekijkt wordt dijdelijk dat het model niet goed scoort bij klasse 3, in bijna 30 proces van de gevallen voorspelt het een andere klasse, vooral 0 en 2. Dit terwijl de andere klasse wel goed scoren. Niet geheel onlogisch want het model heeft in 6% van de tijd maar voorbeelden gezien van klasse 3. \n",
    "\n",
    "Accuracy is hier dus geen goede score omdat de dataset zo onevenredig verdeeld is. Gebruik maken van F1 score is al een goede eerste zet omdat je dan gebruik maakt van de precision en recall van alle classe in een metric. \n",
    "\n",
    "Je kunt als tweede oplossing resamplen, zodat de dataset gebalanceerder is. En dit kan op drie manieren: \n",
    "-   undersamping (van klasse 0-2 afhalen) niet handig denk ik want dan verlies je echt mega veel informatie. \n",
    "-   oversampling (delen van klasse 3 dupliceren), ook onhandig denk ik ivm overfitten. \n",
    "-   creeeren van nieuwe synthetic data. Waarbij ik niet denk dat je de laatste kunt gebruiken bij NLP. Althans, nee.. lijkt me onmogelijk. \n",
    "\n",
    "En je kunt natuurlijk het model aanpassen "
   ]
  },
  {
   "cell_type": "markdown",
   "metadata": {},
   "source": [
    "# 6 Tune the model\n",
    "Don't overdo this.\n",
    "More is not better.\n",
    "\n",
    "Bonus points for things like:\n",
    "- Attention layers\n",
    "- Trax architecture including a functioning training loop\n",
    "\n",
    "Keep it small! It's better to present 2 or 3 sane experiments that are structured and thought trough, than 25 random guesses. You can test more, but select 2 or 3 of the best alternatives you researched, with a rationale why this works better.\n",
    "\n",
    "Keep it concise; explain:\n",
    "- what you changed\n",
    "- why you thought that was a good idea  \n",
    "- what the impact was (visualise or numeric)\n",
    "- explain the impact\n",
    "\n",
    "You dont need to get a perfect score; curiousity driven research that fails is fine.\n",
    "The insight into what is happening is more important than the quantity.\n",
    "\n",
    "Keep logs of your settings;\n",
    "either use gin, or save configs, or both :)\n",
    "Store images in the `figures` folder."
   ]
  },
  {
   "cell_type": "code",
   "execution_count": null,
   "metadata": {},
   "outputs": [],
   "source": []
  },
  {
   "cell_type": "code",
   "execution_count": 17,
   "metadata": {},
   "outputs": [],
   "source": [
    "trainstreamer = data_tools.BaseDatastreamer(\n",
    "    dataset=traindataset, batchsize=32, preprocessor=preprocessor\n",
    ").stream()\n",
    "teststreamer = data_tools.BaseDatastreamer(\n",
    "    dataset=testdataset, batchsize=32, preprocessor=preprocessor\n",
    ").stream()"
   ]
  },
  {
   "cell_type": "code",
   "execution_count": 18,
   "metadata": {},
   "outputs": [
    {
     "name": "stderr",
     "output_type": "stream",
     "text": [
      "2022-08-12 06:50:17.106239: I tensorflow/core/util/util.cc:169] oneDNN custom operations are on. You may see slightly different numerical results due to floating-point round-off errors from different computation orders. To turn them off, set the environment variable `TF_ENABLE_ONEDNN_OPTS=0`.\n",
      "2022-08-12 06:50:18.862 | INFO     | src.data.data_tools:dir_add_timestamp:67 - Logging to ../tune/20220812-0650\n"
     ]
    },
    {
     "name": "stdout",
     "output_type": "stream",
     "text": [
      "     56   128  256  512\n",
      "0.1  NaN  NaN  NaN  NaN\n",
      "0.2  NaN  NaN  NaN  NaN\n",
      "0.3  NaN  NaN  NaN  NaN\n",
      "0.4  NaN  NaN  NaN  NaN\n",
      "NLPmodel(\n",
      "  (emb): Embedding(19308, 56)\n",
      "  (rnn): GRU(56, 56, num_layers=3, batch_first=True, dropout=0.1)\n",
      "  (linear): Linear(in_features=56, out_features=4, bias=True)\n",
      ")\n"
     ]
    },
    {
     "name": "stderr",
     "output_type": "stream",
     "text": [
      "100%|██████████| 25/25 [00:01<00:00, 14.38it/s]\n",
      "100%|██████████| 25/25 [00:00<00:00, 28.42it/s]\n",
      "100%|██████████| 25/25 [00:00<00:00, 27.32it/s]\n",
      "100%|██████████| 25/25 [00:00<00:00, 26.21it/s]\n",
      "100%|██████████| 25/25 [00:01<00:00, 24.99it/s]\n",
      "100%|██████████| 25/25 [00:01<00:00, 22.05it/s]\n",
      "100%|██████████| 25/25 [00:00<00:00, 28.66it/s]\n",
      "100%|██████████| 25/25 [00:01<00:00, 24.37it/s]\n",
      "100%|██████████| 25/25 [00:00<00:00, 27.85it/s]\n",
      "100%|██████████| 25/25 [00:00<00:00, 28.34it/s]\n",
      "100%|██████████| 25/25 [00:00<00:00, 29.85it/s]\n",
      "100%|██████████| 25/25 [00:00<00:00, 28.09it/s]\n",
      "100%|██████████| 25/25 [00:01<00:00, 24.81it/s]\n",
      "100%|██████████| 25/25 [00:01<00:00, 23.65it/s]\n",
      "100%|██████████| 25/25 [00:00<00:00, 27.92it/s]\n",
      "100%|██████████| 25/25 [00:01<00:00, 23.78it/s]\n",
      "100%|██████████| 25/25 [00:01<00:00, 20.40it/s]\n",
      "100%|██████████| 25/25 [00:00<00:00, 31.37it/s]\n",
      "100%|██████████| 25/25 [00:00<00:00, 30.66it/s]\n",
      "100%|██████████| 25/25 [00:00<00:00, 25.11it/s]\n",
      "100%|██████████| 25/25 [00:00<00:00, 29.73it/s]\n",
      "100%|██████████| 25/25 [00:01<00:00, 21.53it/s]\n",
      "100%|██████████| 25/25 [00:01<00:00, 24.35it/s]\n",
      "100%|██████████| 25/25 [00:00<00:00, 25.78it/s]\n",
      "100%|██████████| 25/25 [00:00<00:00, 26.10it/s]\n",
      "100%|██████████| 25/25 [00:00<00:00, 30.94it/s]\n",
      "100%|██████████| 25/25 [00:01<00:00, 23.25it/s]\n",
      "100%|██████████| 25/25 [00:00<00:00, 25.46it/s]\n",
      "100%|██████████| 25/25 [00:00<00:00, 26.30it/s]\n",
      "100%|██████████| 25/25 [00:01<00:00, 23.24it/s]\n",
      "100%|██████████| 25/25 [00:00<00:00, 29.82it/s]\n",
      "100%|██████████| 25/25 [00:00<00:00, 28.57it/s]\n",
      "100%|██████████| 25/25 [00:01<00:00, 24.62it/s]\n",
      "100%|██████████| 25/25 [00:00<00:00, 26.33it/s]\n",
      "100%|██████████| 25/25 [00:00<00:00, 29.73it/s]\n",
      "100%|██████████| 25/25 [00:01<00:00, 24.59it/s]\n",
      "100%|██████████| 25/25 [00:01<00:00, 23.14it/s]\n",
      "100%|██████████| 25/25 [00:01<00:00, 24.38it/s]\n",
      "100%|██████████| 25/25 [00:01<00:00, 21.97it/s]\n",
      "100%|██████████| 25/25 [00:00<00:00, 26.49it/s]\n",
      "100%|██████████| 25/25 [00:00<00:00, 25.25it/s]\n",
      "100%|██████████| 25/25 [00:00<00:00, 26.17it/s]\n",
      "100%|██████████| 25/25 [00:01<00:00, 22.57it/s]\n",
      "100%|██████████| 25/25 [00:00<00:00, 27.44it/s]\n",
      "100%|██████████| 25/25 [00:00<00:00, 25.71it/s]\n",
      "100%|██████████| 25/25 [00:01<00:00, 24.90it/s]\n",
      "100%|██████████| 25/25 [00:01<00:00, 24.88it/s]\n",
      "100%|██████████| 25/25 [00:01<00:00, 23.73it/s]\n",
      "100%|██████████| 25/25 [00:01<00:00, 24.17it/s]\n",
      "100%|██████████| 25/25 [00:00<00:00, 29.25it/s]\n",
      "100%|██████████| 25/25 [00:00<00:00, 26.59it/s]\n",
      "100%|██████████| 25/25 [00:00<00:00, 27.55it/s]\n",
      "100%|██████████| 25/25 [00:01<00:00, 24.76it/s]\n",
      "100%|██████████| 25/25 [00:00<00:00, 29.74it/s]\n",
      "100%|██████████| 25/25 [00:00<00:00, 27.51it/s]\n",
      "100%|██████████| 25/25 [00:01<00:00, 22.41it/s]\n",
      "100%|██████████| 25/25 [00:01<00:00, 24.29it/s]\n",
      "100%|██████████| 25/25 [00:00<00:00, 26.17it/s]\n",
      "100%|██████████| 25/25 [00:01<00:00, 23.34it/s]\n",
      "100%|██████████| 25/25 [00:00<00:00, 27.43it/s]\n",
      "100%|██████████| 25/25 [00:00<00:00, 26.99it/s]\n",
      "100%|██████████| 25/25 [00:00<00:00, 25.03it/s]\n",
      "100%|██████████| 25/25 [00:01<00:00, 24.66it/s]\n",
      "100%|██████████| 25/25 [00:00<00:00, 26.76it/s]\n",
      "100%|██████████| 64/64 [01:25<00:00,  1.34s/it]\n",
      "2022-08-12 06:51:44.364 | INFO     | src.data.data_tools:dir_add_timestamp:67 - Logging to ../tune/20220812-0651\n"
     ]
    },
    {
     "name": "stdout",
     "output_type": "stream",
     "text": [
      "        56   128  256  512\n",
      "0.1  0.8167  NaN  NaN  NaN\n",
      "0.2     NaN  NaN  NaN  NaN\n",
      "0.3     NaN  NaN  NaN  NaN\n",
      "0.4     NaN  NaN  NaN  NaN\n",
      "NLPmodel(\n",
      "  (emb): Embedding(19308, 56)\n",
      "  (rnn): GRU(56, 56, num_layers=3, batch_first=True, dropout=0.2)\n",
      "  (linear): Linear(in_features=56, out_features=4, bias=True)\n",
      ")\n"
     ]
    },
    {
     "name": "stderr",
     "output_type": "stream",
     "text": [
      "100%|██████████| 25/25 [00:01<00:00, 12.64it/s]\n",
      "100%|██████████| 25/25 [00:01<00:00, 24.44it/s]\n",
      "100%|██████████| 25/25 [00:00<00:00, 27.51it/s]\n",
      "100%|██████████| 25/25 [00:01<00:00, 23.77it/s]\n",
      "100%|██████████| 25/25 [00:00<00:00, 26.35it/s]\n",
      "100%|██████████| 25/25 [00:00<00:00, 26.52it/s]\n",
      "100%|██████████| 25/25 [00:00<00:00, 28.82it/s]\n",
      "100%|██████████| 25/25 [00:00<00:00, 27.98it/s]\n",
      "100%|██████████| 25/25 [00:00<00:00, 26.14it/s]\n",
      "100%|██████████| 25/25 [00:01<00:00, 23.35it/s]\n",
      "100%|██████████| 25/25 [00:00<00:00, 27.02it/s]\n",
      "100%|██████████| 25/25 [00:00<00:00, 26.07it/s]\n",
      "100%|██████████| 25/25 [00:01<00:00, 21.75it/s]\n",
      "100%|██████████| 25/25 [00:00<00:00, 29.51it/s]\n",
      "100%|██████████| 25/25 [00:00<00:00, 26.69it/s]\n",
      "100%|██████████| 25/25 [00:00<00:00, 28.42it/s]\n",
      "100%|██████████| 25/25 [00:00<00:00, 29.18it/s]\n",
      "100%|██████████| 25/25 [00:01<00:00, 23.65it/s]\n",
      "100%|██████████| 25/25 [00:00<00:00, 27.71it/s]\n",
      "100%|██████████| 25/25 [00:01<00:00, 18.57it/s]\n",
      "100%|██████████| 25/25 [00:00<00:00, 27.79it/s]\n",
      "100%|██████████| 25/25 [00:01<00:00, 23.48it/s]\n",
      "100%|██████████| 25/25 [00:00<00:00, 30.20it/s]\n",
      "100%|██████████| 25/25 [00:01<00:00, 24.87it/s]\n",
      "100%|██████████| 25/25 [00:00<00:00, 25.28it/s]\n",
      "100%|██████████| 25/25 [00:00<00:00, 26.18it/s]\n",
      "100%|██████████| 25/25 [00:00<00:00, 32.26it/s]\n",
      "100%|██████████| 25/25 [00:00<00:00, 26.47it/s]\n",
      "100%|██████████| 25/25 [00:01<00:00, 22.06it/s]\n",
      "100%|██████████| 25/25 [00:01<00:00, 22.58it/s]\n",
      "100%|██████████| 25/25 [00:00<00:00, 31.63it/s]\n",
      "100%|██████████| 25/25 [00:00<00:00, 31.14it/s]\n",
      "100%|██████████| 25/25 [00:01<00:00, 23.76it/s]\n",
      "100%|██████████| 25/25 [00:01<00:00, 21.93it/s]\n",
      "100%|██████████| 25/25 [00:01<00:00, 23.52it/s]\n",
      "100%|██████████| 25/25 [00:01<00:00, 24.68it/s]\n",
      "100%|██████████| 25/25 [00:00<00:00, 26.11it/s]\n",
      "100%|██████████| 25/25 [00:00<00:00, 26.58it/s]\n",
      "100%|██████████| 25/25 [00:00<00:00, 28.26it/s]\n",
      "100%|██████████| 25/25 [00:01<00:00, 22.64it/s]\n",
      "100%|██████████| 25/25 [00:00<00:00, 25.04it/s]\n",
      "100%|██████████| 25/25 [00:00<00:00, 29.11it/s]\n",
      "100%|██████████| 25/25 [00:00<00:00, 26.36it/s]\n",
      "100%|██████████| 25/25 [00:01<00:00, 21.89it/s]\n",
      "100%|██████████| 25/25 [00:00<00:00, 25.10it/s]\n",
      "100%|██████████| 25/25 [00:00<00:00, 28.26it/s]\n",
      "100%|██████████| 25/25 [00:00<00:00, 29.48it/s]\n",
      "100%|██████████| 25/25 [00:00<00:00, 25.20it/s]\n",
      "100%|██████████| 25/25 [00:00<00:00, 26.89it/s]\n",
      "100%|██████████| 25/25 [00:00<00:00, 31.83it/s]\n",
      "100%|██████████| 25/25 [00:00<00:00, 26.79it/s]\n",
      "100%|██████████| 25/25 [00:00<00:00, 28.18it/s]\n",
      "100%|██████████| 25/25 [00:00<00:00, 26.65it/s]\n",
      "100%|██████████| 25/25 [00:00<00:00, 28.54it/s]\n",
      "100%|██████████| 25/25 [00:00<00:00, 26.75it/s]\n",
      "100%|██████████| 25/25 [00:00<00:00, 29.67it/s]\n",
      "100%|██████████| 25/25 [00:00<00:00, 26.35it/s]\n",
      "100%|██████████| 25/25 [00:01<00:00, 23.58it/s]\n",
      "100%|██████████| 25/25 [00:00<00:00, 27.03it/s]\n",
      "100%|██████████| 25/25 [00:00<00:00, 30.11it/s]\n",
      "100%|██████████| 25/25 [00:00<00:00, 27.50it/s]\n",
      "100%|██████████| 25/25 [00:00<00:00, 26.28it/s]\n",
      "100%|██████████| 25/25 [00:00<00:00, 25.23it/s]\n",
      "100%|██████████| 25/25 [00:01<00:00, 24.33it/s]\n",
      "100%|██████████| 64/64 [01:24<00:00,  1.32s/it]\n",
      "2022-08-12 06:53:08.706 | INFO     | src.data.data_tools:dir_add_timestamp:67 - Logging to ../tune/20220812-0653\n"
     ]
    },
    {
     "name": "stdout",
     "output_type": "stream",
     "text": [
      "        56   128  256  512\n",
      "0.1  0.8167  NaN  NaN  NaN\n",
      "0.2  0.7824  NaN  NaN  NaN\n",
      "0.3     NaN  NaN  NaN  NaN\n",
      "0.4     NaN  NaN  NaN  NaN\n",
      "NLPmodel(\n",
      "  (emb): Embedding(19308, 56)\n",
      "  (rnn): GRU(56, 56, num_layers=3, batch_first=True, dropout=0.3)\n",
      "  (linear): Linear(in_features=56, out_features=4, bias=True)\n",
      ")\n"
     ]
    },
    {
     "name": "stderr",
     "output_type": "stream",
     "text": [
      "100%|██████████| 25/25 [00:01<00:00, 14.10it/s]\n",
      "100%|██████████| 25/25 [00:00<00:00, 26.08it/s]\n",
      "100%|██████████| 25/25 [00:00<00:00, 29.87it/s]\n",
      "100%|██████████| 25/25 [00:00<00:00, 27.55it/s]\n",
      "100%|██████████| 25/25 [00:01<00:00, 23.38it/s]\n",
      "100%|██████████| 25/25 [00:01<00:00, 24.48it/s]\n",
      "100%|██████████| 25/25 [00:00<00:00, 26.20it/s]\n",
      "100%|██████████| 25/25 [00:01<00:00, 24.43it/s]\n",
      "100%|██████████| 25/25 [00:00<00:00, 26.69it/s]\n",
      "100%|██████████| 25/25 [00:00<00:00, 29.52it/s]\n",
      "100%|██████████| 25/25 [00:00<00:00, 29.38it/s]\n",
      "100%|██████████| 25/25 [00:00<00:00, 25.29it/s]\n",
      "100%|██████████| 25/25 [00:01<00:00, 24.27it/s]\n",
      "100%|██████████| 25/25 [00:00<00:00, 30.40it/s]\n",
      "100%|██████████| 25/25 [00:00<00:00, 25.09it/s]\n",
      "100%|██████████| 25/25 [00:01<00:00, 20.37it/s]\n",
      "100%|██████████| 25/25 [00:00<00:00, 27.49it/s]\n",
      "100%|██████████| 25/25 [00:00<00:00, 28.78it/s]\n",
      "100%|██████████| 25/25 [00:00<00:00, 26.44it/s]\n",
      "100%|██████████| 25/25 [00:01<00:00, 18.25it/s]\n",
      "100%|██████████| 25/25 [00:00<00:00, 29.20it/s]\n",
      "100%|██████████| 25/25 [00:00<00:00, 27.20it/s]\n",
      "100%|██████████| 25/25 [00:00<00:00, 27.41it/s]\n",
      "100%|██████████| 25/25 [00:01<00:00, 24.86it/s]\n",
      "100%|██████████| 25/25 [00:00<00:00, 30.61it/s]\n",
      "100%|██████████| 25/25 [00:00<00:00, 29.29it/s]\n",
      "100%|██████████| 25/25 [00:01<00:00, 22.04it/s]\n",
      "100%|██████████| 25/25 [00:00<00:00, 25.82it/s]\n",
      "100%|██████████| 25/25 [00:01<00:00, 24.48it/s]\n",
      "100%|██████████| 25/25 [00:00<00:00, 26.68it/s]\n",
      "100%|██████████| 25/25 [00:00<00:00, 25.47it/s]\n",
      "100%|██████████| 25/25 [00:01<00:00, 23.29it/s]\n",
      "100%|██████████| 25/25 [00:01<00:00, 23.67it/s]\n",
      "100%|██████████| 25/25 [00:00<00:00, 27.59it/s]\n",
      "100%|██████████| 25/25 [00:00<00:00, 27.89it/s]\n",
      "100%|██████████| 25/25 [00:00<00:00, 26.89it/s]\n",
      "100%|██████████| 25/25 [00:01<00:00, 24.75it/s]\n",
      "100%|██████████| 25/25 [00:00<00:00, 26.73it/s]\n",
      "100%|██████████| 25/25 [00:00<00:00, 25.51it/s]\n",
      "100%|██████████| 25/25 [00:01<00:00, 19.49it/s]\n",
      "100%|██████████| 25/25 [00:01<00:00, 24.40it/s]\n",
      "100%|██████████| 25/25 [00:00<00:00, 26.16it/s]\n",
      "100%|██████████| 25/25 [00:00<00:00, 28.00it/s]\n",
      "100%|██████████| 25/25 [00:01<00:00, 23.02it/s]\n",
      "100%|██████████| 25/25 [00:00<00:00, 29.19it/s]\n",
      "100%|██████████| 25/25 [00:01<00:00, 23.20it/s]\n",
      "100%|██████████| 25/25 [00:01<00:00, 24.60it/s]\n",
      "100%|██████████| 25/25 [00:01<00:00, 20.30it/s]\n",
      "100%|██████████| 25/25 [00:00<00:00, 29.36it/s]\n",
      "100%|██████████| 25/25 [00:00<00:00, 25.32it/s]\n",
      "100%|██████████| 25/25 [00:01<00:00, 24.36it/s]\n",
      "100%|██████████| 25/25 [00:00<00:00, 25.59it/s]\n",
      "100%|██████████| 25/25 [00:00<00:00, 28.95it/s]\n",
      "100%|██████████| 25/25 [00:01<00:00, 24.79it/s]\n",
      "100%|██████████| 25/25 [00:00<00:00, 25.72it/s]\n",
      "100%|██████████| 25/25 [00:00<00:00, 27.05it/s]\n",
      "100%|██████████| 25/25 [00:00<00:00, 28.45it/s]\n",
      "100%|██████████| 25/25 [00:00<00:00, 30.13it/s]\n",
      "100%|██████████| 25/25 [00:00<00:00, 25.13it/s]\n",
      "100%|██████████| 25/25 [00:01<00:00, 24.46it/s]\n",
      "100%|██████████| 25/25 [00:00<00:00, 29.98it/s]\n",
      "100%|██████████| 25/25 [00:00<00:00, 27.17it/s]\n",
      "100%|██████████| 25/25 [00:01<00:00, 24.15it/s]\n",
      "100%|██████████| 25/25 [00:00<00:00, 28.16it/s]\n",
      "100%|██████████| 64/64 [01:25<00:00,  1.33s/it]\n",
      "2022-08-12 06:54:33.740 | INFO     | src.data.data_tools:dir_add_timestamp:67 - Logging to ../tune/20220812-0654\n"
     ]
    },
    {
     "name": "stdout",
     "output_type": "stream",
     "text": [
      "        56   128  256  512\n",
      "0.1  0.8167  NaN  NaN  NaN\n",
      "0.2  0.7824  NaN  NaN  NaN\n",
      "0.3  0.7974  NaN  NaN  NaN\n",
      "0.4     NaN  NaN  NaN  NaN\n",
      "NLPmodel(\n",
      "  (emb): Embedding(19308, 56)\n",
      "  (rnn): GRU(56, 56, num_layers=3, batch_first=True, dropout=0.4)\n",
      "  (linear): Linear(in_features=56, out_features=4, bias=True)\n",
      ")\n"
     ]
    },
    {
     "name": "stderr",
     "output_type": "stream",
     "text": [
      "100%|██████████| 25/25 [00:01<00:00, 13.14it/s]\n",
      "100%|██████████| 25/25 [00:01<00:00, 24.51it/s]\n",
      "100%|██████████| 25/25 [00:00<00:00, 25.15it/s]\n",
      "100%|██████████| 25/25 [00:01<00:00, 24.72it/s]\n",
      "100%|██████████| 25/25 [00:01<00:00, 24.59it/s]\n",
      "100%|██████████| 25/25 [00:01<00:00, 24.80it/s]\n",
      "100%|██████████| 25/25 [00:00<00:00, 25.44it/s]\n",
      "100%|██████████| 25/25 [00:00<00:00, 27.06it/s]\n",
      "100%|██████████| 25/25 [00:00<00:00, 26.07it/s]\n",
      "100%|██████████| 25/25 [00:01<00:00, 23.83it/s]\n",
      "100%|██████████| 25/25 [00:00<00:00, 28.27it/s]\n",
      "100%|██████████| 25/25 [00:00<00:00, 25.13it/s]\n",
      "100%|██████████| 25/25 [00:01<00:00, 21.09it/s]\n",
      "100%|██████████| 25/25 [00:00<00:00, 30.31it/s]\n",
      "100%|██████████| 25/25 [00:00<00:00, 28.18it/s]\n",
      "100%|██████████| 25/25 [00:01<00:00, 23.10it/s]\n",
      "100%|██████████| 25/25 [00:00<00:00, 27.57it/s]\n",
      "100%|██████████| 25/25 [00:01<00:00, 21.90it/s]\n",
      "100%|██████████| 25/25 [00:00<00:00, 31.86it/s]\n",
      "100%|██████████| 25/25 [00:00<00:00, 25.54it/s]\n",
      "100%|██████████| 25/25 [00:01<00:00, 24.66it/s]\n",
      "100%|██████████| 25/25 [00:00<00:00, 27.21it/s]\n",
      "100%|██████████| 25/25 [00:00<00:00, 27.46it/s]\n",
      "100%|██████████| 25/25 [00:01<00:00, 23.99it/s]\n",
      "100%|██████████| 25/25 [00:00<00:00, 25.18it/s]\n",
      "100%|██████████| 25/25 [00:01<00:00, 24.64it/s]\n",
      "100%|██████████| 25/25 [00:00<00:00, 27.39it/s]\n",
      "100%|██████████| 25/25 [00:00<00:00, 25.88it/s]\n",
      "100%|██████████| 25/25 [00:01<00:00, 21.65it/s]\n",
      "100%|██████████| 25/25 [00:01<00:00, 20.54it/s]\n",
      "100%|██████████| 25/25 [00:00<00:00, 25.61it/s]\n",
      "100%|██████████| 25/25 [00:00<00:00, 25.26it/s]\n",
      "100%|██████████| 25/25 [00:00<00:00, 29.50it/s]\n",
      "100%|██████████| 25/25 [00:00<00:00, 26.87it/s]\n",
      "100%|██████████| 25/25 [00:01<00:00, 22.21it/s]\n",
      "100%|██████████| 25/25 [00:00<00:00, 25.27it/s]\n",
      "100%|██████████| 25/25 [00:00<00:00, 28.09it/s]\n",
      "100%|██████████| 25/25 [00:00<00:00, 25.50it/s]\n",
      "100%|██████████| 25/25 [00:01<00:00, 24.08it/s]\n",
      "100%|██████████| 25/25 [00:00<00:00, 26.22it/s]\n",
      "100%|██████████| 25/25 [00:00<00:00, 29.21it/s]\n",
      "100%|██████████| 25/25 [00:01<00:00, 24.87it/s]\n",
      "100%|██████████| 25/25 [00:00<00:00, 27.71it/s]\n",
      "100%|██████████| 25/25 [00:01<00:00, 23.87it/s]\n",
      "100%|██████████| 25/25 [00:01<00:00, 23.63it/s]\n",
      "100%|██████████| 25/25 [00:00<00:00, 29.27it/s]\n",
      "100%|██████████| 25/25 [00:00<00:00, 29.99it/s]\n",
      "100%|██████████| 25/25 [00:01<00:00, 24.27it/s]\n",
      "100%|██████████| 25/25 [00:01<00:00, 20.20it/s]\n",
      "100%|██████████| 25/25 [00:00<00:00, 31.18it/s]\n",
      "100%|██████████| 25/25 [00:00<00:00, 27.82it/s]\n",
      "100%|██████████| 25/25 [00:01<00:00, 23.79it/s]\n",
      "100%|██████████| 25/25 [00:00<00:00, 26.07it/s]\n",
      "100%|██████████| 25/25 [00:00<00:00, 28.16it/s]\n",
      "100%|██████████| 25/25 [00:00<00:00, 26.17it/s]\n",
      "100%|██████████| 25/25 [00:00<00:00, 30.74it/s]\n",
      "100%|██████████| 25/25 [00:00<00:00, 27.88it/s]\n",
      "100%|██████████| 25/25 [00:00<00:00, 26.85it/s]\n",
      "100%|██████████| 25/25 [00:01<00:00, 24.41it/s]\n",
      "100%|██████████| 25/25 [00:00<00:00, 30.29it/s]\n",
      "100%|██████████| 25/25 [00:01<00:00, 24.70it/s]\n",
      "100%|██████████| 25/25 [00:00<00:00, 29.21it/s]\n",
      "100%|██████████| 25/25 [00:00<00:00, 29.94it/s]\n",
      "100%|██████████| 25/25 [00:00<00:00, 27.85it/s]\n",
      "100%|██████████| 64/64 [01:24<00:00,  1.33s/it]\n",
      "2022-08-12 06:55:58.708 | INFO     | src.data.data_tools:dir_add_timestamp:67 - Logging to ../tune/20220812-0655\n"
     ]
    },
    {
     "name": "stdout",
     "output_type": "stream",
     "text": [
      "        56   128  256  512\n",
      "0.1  0.8167  NaN  NaN  NaN\n",
      "0.2  0.7824  NaN  NaN  NaN\n",
      "0.3  0.7974  NaN  NaN  NaN\n",
      "0.4  0.7982  NaN  NaN  NaN\n",
      "NLPmodel(\n",
      "  (emb): Embedding(19308, 128)\n",
      "  (rnn): GRU(128, 128, num_layers=3, batch_first=True, dropout=0.1)\n",
      "  (linear): Linear(in_features=128, out_features=4, bias=True)\n",
      ")\n"
     ]
    },
    {
     "name": "stderr",
     "output_type": "stream",
     "text": [
      "100%|██████████| 25/25 [00:02<00:00, 11.75it/s]\n",
      "100%|██████████| 25/25 [00:01<00:00, 16.13it/s]\n",
      "100%|██████████| 25/25 [00:01<00:00, 19.52it/s]\n",
      "100%|██████████| 25/25 [00:01<00:00, 19.07it/s]\n",
      "100%|██████████| 25/25 [00:01<00:00, 14.93it/s]\n",
      "100%|██████████| 25/25 [00:01<00:00, 18.36it/s]\n",
      "100%|██████████| 25/25 [00:01<00:00, 16.73it/s]\n",
      "100%|██████████| 25/25 [00:01<00:00, 14.40it/s]\n",
      "100%|██████████| 25/25 [00:01<00:00, 19.36it/s]\n",
      "100%|██████████| 25/25 [00:01<00:00, 15.51it/s]\n",
      "100%|██████████| 25/25 [00:01<00:00, 19.62it/s]\n",
      "100%|██████████| 25/25 [00:01<00:00, 16.26it/s]\n",
      "100%|██████████| 25/25 [00:01<00:00, 20.72it/s]\n",
      "100%|██████████| 25/25 [00:01<00:00, 16.99it/s]\n",
      "100%|██████████| 25/25 [00:01<00:00, 17.11it/s]\n",
      "100%|██████████| 25/25 [00:01<00:00, 15.38it/s]\n",
      "100%|██████████| 25/25 [00:01<00:00, 20.59it/s]\n",
      "100%|██████████| 25/25 [00:01<00:00, 18.78it/s]\n",
      "100%|██████████| 25/25 [00:01<00:00, 16.47it/s]\n",
      "100%|██████████| 25/25 [00:01<00:00, 14.36it/s]\n",
      "100%|██████████| 25/25 [00:01<00:00, 16.79it/s]\n",
      "100%|██████████| 25/25 [00:01<00:00, 18.62it/s]\n",
      "100%|██████████| 25/25 [00:01<00:00, 15.42it/s]\n",
      "100%|██████████| 25/25 [00:01<00:00, 19.37it/s]\n",
      "100%|██████████| 25/25 [00:01<00:00, 19.21it/s]\n",
      "100%|██████████| 25/25 [00:01<00:00, 17.58it/s]\n",
      "100%|██████████| 25/25 [00:01<00:00, 16.35it/s]\n",
      "100%|██████████| 25/25 [00:01<00:00, 18.95it/s]\n",
      "100%|██████████| 25/25 [00:01<00:00, 17.41it/s]\n",
      "100%|██████████| 25/25 [00:01<00:00, 18.34it/s]\n",
      "100%|██████████| 25/25 [00:01<00:00, 17.98it/s]\n",
      "100%|██████████| 25/25 [00:01<00:00, 15.86it/s]\n",
      "100%|██████████| 25/25 [00:01<00:00, 15.25it/s]\n",
      "100%|██████████| 25/25 [00:01<00:00, 19.84it/s]\n",
      "100%|██████████| 25/25 [00:01<00:00, 18.05it/s]\n",
      "100%|██████████| 25/25 [00:01<00:00, 16.23it/s]\n",
      "100%|██████████| 25/25 [00:01<00:00, 15.71it/s]\n",
      "100%|██████████| 25/25 [00:01<00:00, 16.81it/s]\n",
      "100%|██████████| 25/25 [00:01<00:00, 18.44it/s]\n",
      "100%|██████████| 25/25 [00:01<00:00, 20.18it/s]\n",
      "100%|██████████| 25/25 [00:01<00:00, 20.99it/s]\n",
      "100%|██████████| 25/25 [00:01<00:00, 17.26it/s]\n",
      "100%|██████████| 25/25 [00:01<00:00, 17.45it/s]\n",
      "100%|██████████| 25/25 [00:01<00:00, 20.32it/s]\n",
      "100%|██████████| 25/25 [00:01<00:00, 19.32it/s]\n",
      "100%|██████████| 25/25 [00:01<00:00, 18.77it/s]\n",
      "100%|██████████| 25/25 [00:01<00:00, 20.12it/s]\n",
      "100%|██████████| 25/25 [00:01<00:00, 17.89it/s]\n",
      "100%|██████████| 25/25 [00:01<00:00, 16.88it/s]\n",
      "100%|██████████| 25/25 [00:01<00:00, 18.31it/s]\n",
      "100%|██████████| 25/25 [00:01<00:00, 19.06it/s]\n",
      "100%|██████████| 25/25 [00:01<00:00, 19.61it/s]\n",
      "100%|██████████| 25/25 [00:01<00:00, 17.99it/s]\n",
      "100%|██████████| 25/25 [00:01<00:00, 18.34it/s]\n",
      "100%|██████████| 25/25 [00:01<00:00, 16.28it/s]\n",
      "100%|██████████| 25/25 [00:01<00:00, 19.27it/s]\n",
      "100%|██████████| 25/25 [00:01<00:00, 17.06it/s]\n",
      "100%|██████████| 25/25 [00:01<00:00, 13.83it/s]\n",
      "100%|██████████| 25/25 [00:01<00:00, 16.85it/s]\n",
      "100%|██████████| 25/25 [00:01<00:00, 16.88it/s]\n",
      "100%|██████████| 25/25 [00:01<00:00, 17.30it/s]\n",
      "100%|██████████| 25/25 [00:01<00:00, 18.48it/s]\n",
      "100%|██████████| 25/25 [00:01<00:00, 15.84it/s]\n",
      "100%|██████████| 25/25 [00:01<00:00, 16.20it/s]\n",
      "100%|██████████| 64/64 [02:00<00:00,  1.89s/it]\n",
      "2022-08-12 06:57:59.496 | INFO     | src.data.data_tools:dir_add_timestamp:67 - Logging to ../tune/20220812-0657\n"
     ]
    },
    {
     "name": "stdout",
     "output_type": "stream",
     "text": [
      "        56      128  256  512\n",
      "0.1  0.8167  0.8585  NaN  NaN\n",
      "0.2  0.7824     NaN  NaN  NaN\n",
      "0.3  0.7974     NaN  NaN  NaN\n",
      "0.4  0.7982     NaN  NaN  NaN\n",
      "NLPmodel(\n",
      "  (emb): Embedding(19308, 128)\n",
      "  (rnn): GRU(128, 128, num_layers=3, batch_first=True, dropout=0.2)\n",
      "  (linear): Linear(in_features=128, out_features=4, bias=True)\n",
      ")\n"
     ]
    },
    {
     "name": "stderr",
     "output_type": "stream",
     "text": [
      "100%|██████████| 25/25 [00:02<00:00, 11.24it/s]\n",
      "100%|██████████| 25/25 [00:01<00:00, 16.75it/s]\n",
      "100%|██████████| 25/25 [00:01<00:00, 17.97it/s]\n",
      "100%|██████████| 25/25 [00:01<00:00, 18.08it/s]\n",
      "100%|██████████| 25/25 [00:01<00:00, 14.21it/s]\n",
      "100%|██████████| 25/25 [00:01<00:00, 17.94it/s]\n",
      "100%|██████████| 25/25 [00:01<00:00, 17.95it/s]\n",
      "100%|██████████| 25/25 [00:01<00:00, 15.85it/s]\n",
      "100%|██████████| 25/25 [00:01<00:00, 16.63it/s]\n",
      "100%|██████████| 25/25 [00:01<00:00, 16.47it/s]\n",
      "100%|██████████| 25/25 [00:01<00:00, 16.53it/s]\n",
      "100%|██████████| 25/25 [00:01<00:00, 15.90it/s]\n",
      "100%|██████████| 25/25 [00:01<00:00, 18.06it/s]\n",
      "100%|██████████| 25/25 [00:01<00:00, 18.46it/s]\n",
      "100%|██████████| 25/25 [00:01<00:00, 18.98it/s]\n",
      "100%|██████████| 25/25 [00:01<00:00, 16.94it/s]\n",
      "100%|██████████| 25/25 [00:01<00:00, 19.53it/s]\n",
      "100%|██████████| 25/25 [00:01<00:00, 13.76it/s]\n",
      "100%|██████████| 25/25 [00:01<00:00, 20.11it/s]\n",
      "100%|██████████| 25/25 [00:01<00:00, 20.73it/s]\n",
      "100%|██████████| 25/25 [00:01<00:00, 17.01it/s]\n",
      "100%|██████████| 25/25 [00:01<00:00, 16.70it/s]\n",
      "100%|██████████| 25/25 [00:01<00:00, 14.19it/s]\n",
      "100%|██████████| 25/25 [00:01<00:00, 14.68it/s]\n",
      "100%|██████████| 25/25 [00:01<00:00, 16.74it/s]\n",
      "100%|██████████| 25/25 [00:01<00:00, 21.23it/s]\n",
      "100%|██████████| 25/25 [00:01<00:00, 18.64it/s]\n",
      "100%|██████████| 25/25 [00:01<00:00, 17.53it/s]\n",
      "100%|██████████| 25/25 [00:01<00:00, 15.11it/s]\n",
      "100%|██████████| 25/25 [00:01<00:00, 20.18it/s]\n",
      "100%|██████████| 25/25 [00:01<00:00, 15.85it/s]\n",
      "100%|██████████| 25/25 [00:01<00:00, 18.89it/s]\n",
      "100%|██████████| 25/25 [00:01<00:00, 15.12it/s]\n",
      "100%|██████████| 25/25 [00:01<00:00, 17.37it/s]\n",
      "100%|██████████| 25/25 [00:01<00:00, 14.10it/s]\n",
      "100%|██████████| 25/25 [00:01<00:00, 17.53it/s]\n",
      "100%|██████████| 25/25 [00:01<00:00, 17.07it/s]\n",
      "100%|██████████| 25/25 [00:01<00:00, 20.76it/s]\n",
      "100%|██████████| 25/25 [00:01<00:00, 16.67it/s]\n",
      "100%|██████████| 25/25 [00:01<00:00, 15.32it/s]\n",
      "100%|██████████| 25/25 [00:01<00:00, 16.90it/s]\n",
      "100%|██████████| 25/25 [00:01<00:00, 17.91it/s]\n",
      "100%|██████████| 25/25 [00:01<00:00, 14.81it/s]\n",
      "100%|██████████| 25/25 [00:01<00:00, 15.78it/s]\n",
      "100%|██████████| 25/25 [00:01<00:00, 18.62it/s]\n",
      "100%|██████████| 25/25 [00:01<00:00, 14.65it/s]\n",
      "100%|██████████| 25/25 [00:01<00:00, 14.40it/s]\n",
      "100%|██████████| 25/25 [00:01<00:00, 16.35it/s]\n",
      "100%|██████████| 25/25 [00:01<00:00, 18.38it/s]\n",
      "100%|██████████| 25/25 [00:01<00:00, 19.41it/s]\n",
      "100%|██████████| 25/25 [00:01<00:00, 16.96it/s]\n",
      "100%|██████████| 25/25 [00:01<00:00, 18.28it/s]\n",
      "100%|██████████| 25/25 [00:01<00:00, 18.48it/s]\n",
      "100%|██████████| 25/25 [00:01<00:00, 20.22it/s]\n",
      "100%|██████████| 25/25 [00:01<00:00, 18.20it/s]\n",
      " 36%|███▌      | 9/25 [00:00<00:01, 12.82it/s]]\n",
      " 86%|████████▌ | 55/64 [01:46<00:17,  1.94s/it]\n"
     ]
    },
    {
     "ename": "KeyboardInterrupt",
     "evalue": "",
     "output_type": "error",
     "traceback": [
      "\u001b[0;31m---------------------------------------------------------------------------\u001b[0m",
      "\u001b[0;31mKeyboardInterrupt\u001b[0m                         Traceback (most recent call last)",
      "\u001b[1;32m/home/rinsrutgers/examen-22-antw/notebooks/02_style_detection.ipynb Cell 41\u001b[0m in \u001b[0;36m<cell line: 8>\u001b[0;34m()\u001b[0m\n\u001b[1;32m     <a href='vscode-notebook-cell://ssh-remote%2B7b22686f73744e616d65223a224d6173746572536572766572227d/home/rinsrutgers/examen-22-antw/notebooks/02_style_detection.ipynb#ch0000040vscode-remote?line=19'>20</a>\u001b[0m model \u001b[39m=\u001b[39m rnn\u001b[39m.\u001b[39mNLPmodel(config)\n\u001b[1;32m     <a href='vscode-notebook-cell://ssh-remote%2B7b22686f73744e616d65223a224d6173746572536572766572227d/home/rinsrutgers/examen-22-antw/notebooks/02_style_detection.ipynb#ch0000040vscode-remote?line=20'>21</a>\u001b[0m \u001b[39mprint\u001b[39m(model)\n\u001b[0;32m---> <a href='vscode-notebook-cell://ssh-remote%2B7b22686f73744e616d65223a224d6173746572536572766572227d/home/rinsrutgers/examen-22-antw/notebooks/02_style_detection.ipynb#ch0000040vscode-remote?line=22'>23</a>\u001b[0m model \u001b[39m=\u001b[39m train_model\u001b[39m.\u001b[39;49mtrainloop(\n\u001b[1;32m     <a href='vscode-notebook-cell://ssh-remote%2B7b22686f73744e616d65223a224d6173746572536572766572227d/home/rinsrutgers/examen-22-antw/notebooks/02_style_detection.ipynb#ch0000040vscode-remote?line=23'>24</a>\u001b[0m     epochs\u001b[39m=\u001b[39;49m\u001b[39m64\u001b[39;49m,\n\u001b[1;32m     <a href='vscode-notebook-cell://ssh-remote%2B7b22686f73744e616d65223a224d6173746572536572766572227d/home/rinsrutgers/examen-22-antw/notebooks/02_style_detection.ipynb#ch0000040vscode-remote?line=24'>25</a>\u001b[0m     model\u001b[39m=\u001b[39;49mmodel,\n\u001b[1;32m     <a href='vscode-notebook-cell://ssh-remote%2B7b22686f73744e616d65223a224d6173746572536572766572227d/home/rinsrutgers/examen-22-antw/notebooks/02_style_detection.ipynb#ch0000040vscode-remote?line=25'>26</a>\u001b[0m     metrics\u001b[39m=\u001b[39;49mmetrics,\n\u001b[1;32m     <a href='vscode-notebook-cell://ssh-remote%2B7b22686f73744e616d65223a224d6173746572536572766572227d/home/rinsrutgers/examen-22-antw/notebooks/02_style_detection.ipynb#ch0000040vscode-remote?line=26'>27</a>\u001b[0m     optimizer\u001b[39m=\u001b[39;49mtorch\u001b[39m.\u001b[39;49moptim\u001b[39m.\u001b[39;49mAdam,\n\u001b[1;32m     <a href='vscode-notebook-cell://ssh-remote%2B7b22686f73744e616d65223a224d6173746572536572766572227d/home/rinsrutgers/examen-22-antw/notebooks/02_style_detection.ipynb#ch0000040vscode-remote?line=27'>28</a>\u001b[0m     learning_rate\u001b[39m=\u001b[39;49m\u001b[39m1e-3\u001b[39;49m,\n\u001b[1;32m     <a href='vscode-notebook-cell://ssh-remote%2B7b22686f73744e616d65223a224d6173746572536572766572227d/home/rinsrutgers/examen-22-antw/notebooks/02_style_detection.ipynb#ch0000040vscode-remote?line=28'>29</a>\u001b[0m     loss_fn\u001b[39m=\u001b[39;49mloss_fn,\n\u001b[1;32m     <a href='vscode-notebook-cell://ssh-remote%2B7b22686f73744e616d65223a224d6173746572536572766572227d/home/rinsrutgers/examen-22-antw/notebooks/02_style_detection.ipynb#ch0000040vscode-remote?line=29'>30</a>\u001b[0m     train_dataloader\u001b[39m=\u001b[39;49mtrainstreamer,\n\u001b[1;32m     <a href='vscode-notebook-cell://ssh-remote%2B7b22686f73744e616d65223a224d6173746572536572766572227d/home/rinsrutgers/examen-22-antw/notebooks/02_style_detection.ipynb#ch0000040vscode-remote?line=30'>31</a>\u001b[0m     test_dataloader\u001b[39m=\u001b[39;49mteststreamer,\n\u001b[1;32m     <a href='vscode-notebook-cell://ssh-remote%2B7b22686f73744e616d65223a224d6173746572536572766572227d/home/rinsrutgers/examen-22-antw/notebooks/02_style_detection.ipynb#ch0000040vscode-remote?line=31'>32</a>\u001b[0m     log_dir\u001b[39m=\u001b[39;49mlog_dir,\n\u001b[1;32m     <a href='vscode-notebook-cell://ssh-remote%2B7b22686f73744e616d65223a224d6173746572536572766572227d/home/rinsrutgers/examen-22-antw/notebooks/02_style_detection.ipynb#ch0000040vscode-remote?line=32'>33</a>\u001b[0m     train_steps\u001b[39m=\u001b[39;49m\u001b[39m25\u001b[39;49m,\n\u001b[1;32m     <a href='vscode-notebook-cell://ssh-remote%2B7b22686f73744e616d65223a224d6173746572536572766572227d/home/rinsrutgers/examen-22-antw/notebooks/02_style_detection.ipynb#ch0000040vscode-remote?line=33'>34</a>\u001b[0m     eval_steps\u001b[39m=\u001b[39;49m\u001b[39m25\u001b[39;49m,\n\u001b[1;32m     <a href='vscode-notebook-cell://ssh-remote%2B7b22686f73744e616d65223a224d6173746572536572766572227d/home/rinsrutgers/examen-22-antw/notebooks/02_style_detection.ipynb#ch0000040vscode-remote?line=34'>35</a>\u001b[0m )\n\u001b[1;32m     <a href='vscode-notebook-cell://ssh-remote%2B7b22686f73744e616d65223a224d6173746572536572766572227d/home/rinsrutgers/examen-22-antw/notebooks/02_style_detection.ipynb#ch0000040vscode-remote?line=35'>36</a>\u001b[0m result\u001b[39m.\u001b[39mat[x,i] \u001b[39m=\u001b[39m  model[\u001b[39m1\u001b[39m]\n\u001b[1;32m     <a href='vscode-notebook-cell://ssh-remote%2B7b22686f73744e616d65223a224d6173746572536572766572227d/home/rinsrutgers/examen-22-antw/notebooks/02_style_detection.ipynb#ch0000040vscode-remote?line=36'>37</a>\u001b[0m \u001b[39mprint\u001b[39m(result)\n",
      "File \u001b[0;32m~/.cache/pypoetry/virtualenvs/exam-22-KwCzH9GQ-py3.9/lib/python3.9/site-packages/gin/config.py:1582\u001b[0m, in \u001b[0;36m_make_gin_wrapper.<locals>.gin_wrapper\u001b[0;34m(*args, **kwargs)\u001b[0m\n\u001b[1;32m   1579\u001b[0m new_kwargs\u001b[39m.\u001b[39mupdate(kwargs)\n\u001b[1;32m   1581\u001b[0m \u001b[39mtry\u001b[39;00m:\n\u001b[0;32m-> 1582\u001b[0m   \u001b[39mreturn\u001b[39;00m fn(\u001b[39m*\u001b[39;49mnew_args, \u001b[39m*\u001b[39;49m\u001b[39m*\u001b[39;49mnew_kwargs)\n\u001b[1;32m   1583\u001b[0m \u001b[39mexcept\u001b[39;00m \u001b[39mException\u001b[39;00m \u001b[39mas\u001b[39;00m e:  \u001b[39m# pylint: disable=broad-except\u001b[39;00m\n\u001b[1;32m   1584\u001b[0m   err_str \u001b[39m=\u001b[39m \u001b[39m'\u001b[39m\u001b[39m'\u001b[39m\n",
      "File \u001b[0;32m~/examen-22-antw/notebooks/../src/training/train_model.py:139\u001b[0m, in \u001b[0;36mtrainloop\u001b[0;34m(epochs, model, optimizer, learning_rate, loss_fn, metrics, train_dataloader, test_dataloader, log_dir, train_steps, eval_steps, patience, factor, tunewriter)\u001b[0m\n\u001b[1;32m    136\u001b[0m     write_gin(log_dir)\n\u001b[1;32m    138\u001b[0m \u001b[39mfor\u001b[39;00m epoch \u001b[39min\u001b[39;00m tqdm(\u001b[39mrange\u001b[39m(epochs)):\n\u001b[0;32m--> 139\u001b[0m     train_loss \u001b[39m=\u001b[39m trainbatches(\n\u001b[1;32m    140\u001b[0m         model, train_dataloader, loss_fn, optimizer_, train_steps\n\u001b[1;32m    141\u001b[0m     )\n\u001b[1;32m    143\u001b[0m     metric_dict, test_loss \u001b[39m=\u001b[39m evalbatches(\n\u001b[1;32m    144\u001b[0m         model, test_dataloader, loss_fn, metrics, eval_steps\n\u001b[1;32m    145\u001b[0m     )\n\u001b[1;32m    147\u001b[0m     scheduler\u001b[39m.\u001b[39mstep(test_loss)\n",
      "File \u001b[0;32m~/examen-22-antw/notebooks/../src/training/train_model.py:44\u001b[0m, in \u001b[0;36mtrainbatches\u001b[0;34m(model, traindatastreamer, loss_fn, optimizer, train_steps)\u001b[0m\n\u001b[1;32m     42\u001b[0m yhat \u001b[39m=\u001b[39m model(x)\n\u001b[1;32m     43\u001b[0m loss \u001b[39m=\u001b[39m loss_fn(yhat, y)\n\u001b[0;32m---> 44\u001b[0m loss\u001b[39m.\u001b[39;49mbackward()\n\u001b[1;32m     45\u001b[0m optimizer\u001b[39m.\u001b[39mstep()\n\u001b[1;32m     46\u001b[0m train_loss \u001b[39m+\u001b[39m\u001b[39m=\u001b[39m loss\u001b[39m.\u001b[39mdetach()\u001b[39m.\u001b[39mnumpy()\n",
      "File \u001b[0;32m~/.cache/pypoetry/virtualenvs/exam-22-KwCzH9GQ-py3.9/lib/python3.9/site-packages/torch/_tensor.py:363\u001b[0m, in \u001b[0;36mTensor.backward\u001b[0;34m(self, gradient, retain_graph, create_graph, inputs)\u001b[0m\n\u001b[1;32m    354\u001b[0m \u001b[39mif\u001b[39;00m has_torch_function_unary(\u001b[39mself\u001b[39m):\n\u001b[1;32m    355\u001b[0m     \u001b[39mreturn\u001b[39;00m handle_torch_function(\n\u001b[1;32m    356\u001b[0m         Tensor\u001b[39m.\u001b[39mbackward,\n\u001b[1;32m    357\u001b[0m         (\u001b[39mself\u001b[39m,),\n\u001b[0;32m   (...)\u001b[0m\n\u001b[1;32m    361\u001b[0m         create_graph\u001b[39m=\u001b[39mcreate_graph,\n\u001b[1;32m    362\u001b[0m         inputs\u001b[39m=\u001b[39minputs)\n\u001b[0;32m--> 363\u001b[0m torch\u001b[39m.\u001b[39;49mautograd\u001b[39m.\u001b[39;49mbackward(\u001b[39mself\u001b[39;49m, gradient, retain_graph, create_graph, inputs\u001b[39m=\u001b[39;49minputs)\n",
      "File \u001b[0;32m~/.cache/pypoetry/virtualenvs/exam-22-KwCzH9GQ-py3.9/lib/python3.9/site-packages/torch/autograd/__init__.py:173\u001b[0m, in \u001b[0;36mbackward\u001b[0;34m(tensors, grad_tensors, retain_graph, create_graph, grad_variables, inputs)\u001b[0m\n\u001b[1;32m    168\u001b[0m     retain_graph \u001b[39m=\u001b[39m create_graph\n\u001b[1;32m    170\u001b[0m \u001b[39m# The reason we repeat same the comment below is that\u001b[39;00m\n\u001b[1;32m    171\u001b[0m \u001b[39m# some Python versions print out the first line of a multi-line function\u001b[39;00m\n\u001b[1;32m    172\u001b[0m \u001b[39m# calls in the traceback and some print out the last line\u001b[39;00m\n\u001b[0;32m--> 173\u001b[0m Variable\u001b[39m.\u001b[39;49m_execution_engine\u001b[39m.\u001b[39;49mrun_backward(  \u001b[39m# Calls into the C++ engine to run the backward pass\u001b[39;49;00m\n\u001b[1;32m    174\u001b[0m     tensors, grad_tensors_, retain_graph, create_graph, inputs,\n\u001b[1;32m    175\u001b[0m     allow_unreachable\u001b[39m=\u001b[39;49m\u001b[39mTrue\u001b[39;49;00m, accumulate_grad\u001b[39m=\u001b[39;49m\u001b[39mTrue\u001b[39;49;00m)\n",
      "\u001b[0;31mKeyboardInterrupt\u001b[0m: "
     ]
    }
   ],
   "source": [
    "from src.training import train_model\n",
    "hidden_size_array = (56, 128, 256)\n",
    "dropout_array = (0.1, 0.2, 0.3)\n",
    "\n",
    "result = pd.DataFrame(index = dropout_array, columns=hidden_size_array)\n",
    "print(result)\n",
    "\n",
    "for i in hidden_size_array:\n",
    "    for x in dropout_array:\n",
    "\n",
    "        config = {\n",
    "            \"vocab\": len(v),\n",
    "            \"input_size\": 32,\n",
    "            \"hidden_size\": i,\n",
    "            \"num_layers\": 3,\n",
    "            \"dropout\": x,\n",
    "            \"output_size\": 4,\n",
    "        }\n",
    "\n",
    "        model = rnn.NLPmodel(config)\n",
    "        print(model)\n",
    "\n",
    "        model = train_model.trainloop(\n",
    "            epochs=64,\n",
    "            model=model,\n",
    "            metrics=metrics,\n",
    "            optimizer=torch.optim.Adam,\n",
    "            learning_rate=1e-3,\n",
    "            loss_fn=loss_fn,\n",
    "            train_dataloader=trainstreamer,\n",
    "            test_dataloader=teststreamer,\n",
    "            log_dir=log_dir,\n",
    "            train_steps=25,\n",
    "            eval_steps=25,\n",
    "        )\n",
    "        result.at[x,i] =  model[1]\n",
    "        print(result)\n",
    "\n",
    "\n",
    "        # result[][str(x)] = model[1]"
   ]
  }
 ],
 "metadata": {
  "kernelspec": {
   "display_name": "Python 3.9.13 ('exam-22-KwCzH9GQ-py3.9')",
   "language": "python",
   "name": "python3"
  },
  "language_info": {
   "codemirror_mode": {
    "name": "ipython",
    "version": 3
   },
   "file_extension": ".py",
   "mimetype": "text/x-python",
   "name": "python",
   "nbconvert_exporter": "python",
   "pygments_lexer": "ipython3",
   "version": "3.9.13"
  },
  "orig_nbformat": 4,
  "vscode": {
   "interpreter": {
    "hash": "793d4b0ba659e9ff3f4cb7a1b3752627ccc54f1224ce4526b6cf626154c05563"
   }
  }
 },
 "nbformat": 4,
 "nbformat_minor": 2
}

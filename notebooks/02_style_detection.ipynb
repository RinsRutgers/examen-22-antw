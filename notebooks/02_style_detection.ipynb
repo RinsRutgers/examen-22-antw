{
 "cells": [
  {
   "cell_type": "code",
   "execution_count": 1,
   "metadata": {},
   "outputs": [],
   "source": [
    "import sys\n",
    "\n",
    "sys.path.insert(0, \"..\")\n",
    "from src.settings import StyleSettings\n",
    "from src.data.data_tools import StyleDataset\n",
    "import numpy as np\n",
    "import seaborn as sns\n"
   ]
  },
  {
   "cell_type": "markdown",
   "metadata": {},
   "source": [
    "# Load the data"
   ]
  },
  {
   "cell_type": "code",
   "execution_count": 2,
   "metadata": {},
   "outputs": [],
   "source": [
    "settings = StyleSettings()\n",
    "traindataset = StyleDataset([settings.trainpath])\n",
    "testdataset = StyleDataset([settings.testpath])\n"
   ]
  },
  {
   "cell_type": "markdown",
   "metadata": {},
   "source": [
    "We have 419 batches in the dataset"
   ]
  },
  {
   "cell_type": "code",
   "execution_count": 3,
   "metadata": {},
   "outputs": [
    {
     "data": {
      "text/plain": [
       "419"
      ]
     },
     "execution_count": 3,
     "metadata": {},
     "output_type": "execute_result"
    }
   ],
   "source": [
    "len(traindataset) // 32\n"
   ]
  },
  {
   "cell_type": "code",
   "execution_count": 4,
   "metadata": {},
   "outputs": [
    {
     "data": {
      "text/plain": [
       "('Lace is an openwork fabric , patterned with open holes in the work , made by machine or by hand.',\n",
       " 'wiki')"
      ]
     },
     "execution_count": 4,
     "metadata": {},
     "output_type": "execute_result"
    }
   ],
   "source": [
    "x, y = traindataset[42]\n",
    "x, y\n"
   ]
  },
  {
   "cell_type": "markdown",
   "metadata": {},
   "source": [
    "Every batch is a `Tuple[str, str]` of a sentence and a label. We can see this is a classification task.\n",
    "The task is, to classify sentences in four categories.\n",
    "Lets build a vocabulary by copy-pasting the code we used before"
   ]
  },
  {
   "cell_type": "code",
   "execution_count": 5,
   "metadata": {},
   "outputs": [
    {
     "name": "stderr",
     "output_type": "stream",
     "text": [
      "2022-07-12 23:45:00.844 | INFO     | src.models.tokenizer:build_vocab:27 - Found 19306 tokens\n"
     ]
    },
    {
     "data": {
      "text/plain": [
       "19308"
      ]
     },
     "execution_count": 5,
     "metadata": {},
     "output_type": "execute_result"
    }
   ],
   "source": [
    "from src.models import tokenizer\n",
    "\n",
    "corpus = []\n",
    "count = []\n",
    "for i in range(len(traindataset)):\n",
    "    x = tokenizer.clean(traindataset[i][0])\n",
    "    corpus.append(x)\n",
    "    \n",
    "v = tokenizer.build_vocab(corpus, max=20000)\n",
    "len(v)\n"
   ]
  },
  {
   "cell_type": "markdown",
   "metadata": {},
   "source": [
    "We need to cast the labels to an integers. You can use this dictionary to do so:"
   ]
  },
  {
   "cell_type": "code",
   "execution_count": 6,
   "metadata": {},
   "outputs": [
    {
     "data": {
      "text/plain": [
       "2"
      ]
     },
     "execution_count": 6,
     "metadata": {},
     "output_type": "execute_result"
    }
   ],
   "source": [
    "d = {\"humor\": 0, \"reuters\": 1, \"wiki\": 2, \"proverbs\": 3}\n",
    "d[y]\n"
   ]
  },
  {
   "cell_type": "code",
   "execution_count": null,
   "metadata": {},
   "outputs": [],
   "source": []
  },
  {
   "cell_type": "markdown",
   "metadata": {},
   "source": [
    "# Question 1\n",
    "Figure out, for every class, what accuracy you should expect if the model would guess blind on the train set"
   ]
  },
  {
   "cell_type": "code",
   "execution_count": 7,
   "metadata": {},
   "outputs": [
    {
     "name": "stdout",
     "output_type": "stream",
     "text": [
      "{'humor': 4213, 'reuters': 4186, 'wiki': 4181, 'proverbs': 831}\n",
      "31.414510476474533\n",
      "31.21318320781448\n",
      "31.175900380284844\n",
      "6.196405935426143\n"
     ]
    }
   ],
   "source": [
    "count = {\"humor\": 0, \"reuters\": 0, \"wiki\": 0, \"proverbs\": 0}\n",
    "total = len(traindataset)\n",
    "for i in range(len(traindataset)):\n",
    "    x = tokenizer.clean(traindataset[i][1])\n",
    "    count[x] = count[x] + 1\n",
    "print(count)\n",
    "\n",
    "calculated_guess = (total * 0.25)\n",
    "print((count[\"humor\"] / total ) * 100)\n",
    "print((count[\"reuters\"] / total ) * 100)\n",
    "print((count[\"wiki\"] / total ) * 100)\n",
    "print((count[\"proverbs\"] / total ) * 100)\n",
    "\n",
    "# nog dry maken en omrekenen naar accuracy tov calculated_guess (25%) maar probleem is duidelijk"
   ]
  },
  {
   "cell_type": "markdown",
   "metadata": {},
   "source": [
    "Reflect on what you see. What does this mean? What implications does this have? Why is that good/bad?\n",
    "Are there things down the line that could cause a problem?"
   ]
  },
  {
   "cell_type": "markdown",
   "metadata": {},
   "source": [
    "Proverbs komt erg weining voor, daarom heeft het model weinig om daar van te leren. De nuance mist dan gok ik en je model wordt biased. ik denk dat je de rest van de dataset kunt trimmen tot een gelijwaardige verdeling. "
   ]
  },
  {
   "cell_type": "markdown",
   "metadata": {},
   "source": [
    "# Question 2 : Implement a preprocessor\n",
    "\n",
    "We can inherit from `tokenizer.Preprocessor`\n",
    "Only thing we need to adjust is the `cast_label` function.\n",
    " \n",
    "- create a StylePreprocessor class\n",
    "- inherit from Preprocessor\n",
    "- create a new cast_label function for this dataset"
   ]
  },
  {
   "cell_type": "code",
   "execution_count": 8,
   "metadata": {},
   "outputs": [],
   "source": [
    "# TODO ~ about 4 lines of code\n",
    "\n",
    "class StylePreprocessor(tokenizer.Preprocessor):\n",
    "    def cast_label(self, label: str) -> int:\n",
    "        d = {\"humor\":0, \"reuters\": 1, \"wiki\": 2, \"proverbs\": 3}\n",
    "        return d[label]\n"
   ]
  },
  {
   "cell_type": "markdown",
   "metadata": {},
   "source": [
    "To test the preprocessor:"
   ]
  },
  {
   "cell_type": "code",
   "execution_count": 9,
   "metadata": {},
   "outputs": [
    {
     "data": {
      "text/plain": [
       "(tensor([[1347]], dtype=torch.int32), tensor([2]))"
      ]
     },
     "execution_count": 9,
     "metadata": {},
     "output_type": "execute_result"
    }
   ],
   "source": [
    "preprocessor = StylePreprocessor(max=100, vocab=v, clean=tokenizer.clean)\n",
    "preprocessor([(x, y)])\n"
   ]
  },
  {
   "cell_type": "markdown",
   "metadata": {},
   "source": [
    "# Set up the model\n",
    "We can re-use the BaseDatastreamer"
   ]
  },
  {
   "cell_type": "code",
   "execution_count": 10,
   "metadata": {},
   "outputs": [],
   "source": [
    "from src.data import data_tools\n",
    "\n",
    "trainstreamer = data_tools.BaseDatastreamer(\n",
    "    dataset=traindataset, batchsize=32, preprocessor=preprocessor\n",
    ").stream()\n",
    "teststreamer = data_tools.BaseDatastreamer(\n",
    "    dataset=testdataset, batchsize=32, preprocessor=preprocessor\n",
    ").stream()\n"
   ]
  },
  {
   "cell_type": "code",
   "execution_count": 11,
   "metadata": {},
   "outputs": [
    {
     "data": {
      "text/plain": [
       "(torch.Size([32, 27]),\n",
       " tensor([2, 0, 1, 1, 2, 0, 1, 3, 0, 2, 0, 1, 2, 2, 1, 0, 2, 0, 0, 2, 1, 0, 1, 2,\n",
       "         1, 2, 1, 1, 0, 1, 1, 0]))"
      ]
     },
     "execution_count": 11,
     "metadata": {},
     "output_type": "execute_result"
    }
   ],
   "source": [
    "x, y = next(trainstreamer)\n",
    "x.shape, y\n"
   ]
  },
  {
   "cell_type": "markdown",
   "metadata": {},
   "source": [
    "## Question 3 : Metrics, loss\n",
    "Select proper metrics and a loss function.\n",
    "\n",
    "Bonus: implement an additional metric function that is relevant for this case."
   ]
  },
  {
   "cell_type": "code",
   "execution_count": 12,
   "metadata": {},
   "outputs": [],
   "source": [
    "from src.models import metrics\n",
    "import torch\n",
    "# TODO ~ 2 lines of code\n",
    "\n",
    "metrics = [metrics.Accuracy(), metrics.F1Score()]\n",
    "\n",
    "loss_fn = torch.nn.CrossEntropyLoss()\n"
   ]
  },
  {
   "cell_type": "markdown",
   "metadata": {},
   "source": [
    "## Question 4 : Basemodel\n",
    "Create a base model. It does not need to be naive; you could re-use the\n",
    "NLP models we used for the IMDB.\n",
    "\n",
    "I suggest to start with a hidden size of about 128.\n",
    "Use a config dictionary, or a gin file, both are fine.\n",
    "\n",
    "Bonus points if you create a Trax model in src.models, and even more if you add a trax training loop."
   ]
  },
  {
   "cell_type": "code",
   "execution_count": 13,
   "metadata": {},
   "outputs": [
    {
     "name": "stdout",
     "output_type": "stream",
     "text": [
      "NLPmodel(\n",
      "  (emb): Embedding(19308, 128)\n",
      "  (rnn): GRU(128, 128, num_layers=3, batch_first=True, dropout=0.1)\n",
      "  (linear): Linear(in_features=128, out_features=4, bias=True)\n",
      ")\n"
     ]
    }
   ],
   "source": [
    "log_dir = settings.log_dir\n",
    "# TODO between 2 and 8 lines of code, depending on your setup\n",
    "# Assuming you load your model in one line of code from src.models.rnn\n",
    "from src.models import rnn\n",
    "\n",
    "config = {\n",
    "    \"vocab\": len(v),\n",
    "    \"input_size\": 32,\n",
    "    \"hidden_size\": 128,\n",
    "    \"num_layers\": 3,\n",
    "    \"dropout\": 0.1,\n",
    "    \"output_size\": 4,\n",
    "}\n",
    "\n",
    "model = rnn.NLPmodel(config)\n",
    "print(model)"
   ]
  },
  {
   "cell_type": "markdown",
   "metadata": {},
   "source": [
    "Set up the trainloop.\n",
    "\n",
    "- Give the lenght of the traindataset, how many batches of 32 can you get out of it?\n",
    "- If you take a short amount of train_steps (eg 25) for every epoch, how many epochs do you need to cover the complete dataset?\n",
    "- What amount of epochs do you need to run the loop with trainsteps=25 to cover the complete traindataset once? \n",
    "- answer the questions above, and pick a reasonable epoch lenght\n",
    "\n",
    "Start with a default learning_rate of 1e-3 and an Adam optimizer."
   ]
  },
  {
   "cell_type": "code",
   "execution_count": 14,
   "metadata": {},
   "outputs": [
    {
     "name": "stdout",
     "output_type": "stream",
     "text": [
      "419.09375 batches\n",
      "16.76375 epochs\n"
     ]
    }
   ],
   "source": [
    "print(f\"{len(traindataset) / 32} batches\")\n",
    "print(f\"{(len(traindataset) / 32)/25} epochs\")\n"
   ]
  },
  {
   "cell_type": "code",
   "execution_count": 15,
   "metadata": {},
   "outputs": [
    {
     "name": "stderr",
     "output_type": "stream",
     "text": [
      "2022-07-12 23:45:02.179855: W tensorflow/stream_executor/platform/default/dso_loader.cc:64] Could not load dynamic library 'libcudart.so.11.0'; dlerror: libcudart.so.11.0: cannot open shared object file: No such file or directory\n",
      "2022-07-12 23:45:02.179890: I tensorflow/stream_executor/cuda/cudart_stub.cc:29] Ignore above cudart dlerror if you do not have a GPU set up on your machine.\n"
     ]
    }
   ],
   "source": [
    "from src.training import train_model\n",
    "\n",
    "# model = train_model.trainloop(\n",
    "#     epochs=64,\n",
    "#     model=model,\n",
    "#     metrics=metrics,\n",
    "#     optimizer=torch.optim.Adam,\n",
    "#     learning_rate=1e-3,\n",
    "#     loss_fn=loss_fn,\n",
    "#     train_dataloader=trainstreamer,\n",
    "#     test_dataloader=teststreamer,\n",
    "#     log_dir=log_dir,\n",
    "#     train_steps=25,\n",
    "#     eval_steps=25,\n",
    "# )\n"
   ]
  },
  {
   "cell_type": "markdown",
   "metadata": {},
   "source": [
    "Save an image from the training in tensorboard in the `figures` folder.\n",
    "Explain what you are seeing."
   ]
  },
  {
   "cell_type": "markdown",
   "metadata": {},
   "source": [
    "\n",
    "<img src = \"../figures/Screenshot 2022-07-13 at 01.21.37.png\">\n",
    "\n",
    "\n",
    "Je ziet dat de test data een minder goede loss laat zien, niet gek natuurlijk met een classe waarbij een maar 6 % van de dataset is. "
   ]
  },
  {
   "cell_type": "markdown",
   "metadata": {},
   "source": [
    "# 5 Evaluate the basemodel\n",
    "Create a confusion matrix with the code below"
   ]
  },
  {
   "cell_type": "code",
   "execution_count": 20,
   "metadata": {},
   "outputs": [
    {
     "data": {
      "text/plain": [
       "[Text(0.5, 15.0, 'Predicted'), Text(33.0, 0.5, 'Target')]"
      ]
     },
     "execution_count": 20,
     "metadata": {},
     "output_type": "execute_result"
    },
    {
     "data": {
      "image/png": "[encoded data removed]",
      "text/plain": [
       "<Figure size 432x288 with 2 Axes>"
      ]
     },
     "metadata": {
      "needs_background": "light"
     },
     "output_type": "display_data"
    }
   ],
   "source": [
    "from sklearn.metrics import confusion_matrix\n",
    "\n",
    "y_true = []\n",
    "y_pred = []\n",
    "\n",
    "for _ in range(10):\n",
    "    X, y = next(teststreamer)\n",
    "    yhat = model(X)\n",
    "    yhat = yhat.argmax(dim=1)\n",
    "    y_pred.append(yhat.tolist())\n",
    "    y_true.append(y.tolist())\n",
    "\n",
    "yhat = [x for y in y_pred for x in y]\n",
    "y = [x for y in y_true for x in y]\n",
    "\n",
    "cfm = confusion_matrix(y, yhat)\n",
    "cfm_norm = cfm / np.sum(cfm, axis=1, keepdims=True)\n",
    "plot = sns.heatmap(cfm_norm, annot=cfm_norm, fmt=\".3f\")\n",
    "plot.set(xlabel=\"Predicted\", ylabel=\"Target\")\n"
   ]
  },
  {
   "cell_type": "markdown",
   "metadata": {},
   "source": [
    "Save this in the figures folder.\n",
    "Interpret this. \n",
    "\n",
    "<img src = \"../figures/Screenshot 2022-07-13 at 01.27.58.png\">\n",
    "\n",
    "- What is going on?\n",
    "    in eerste instantie snapte ik het niet zo goed maar na een paar keer refreshen zie je inderdaad dat class 3 veel minder accuraat is.\n",
    "- What is a good metric here?\n",
    "    loss op test set.\n",
    "- how is your answer to Q1 relevant here?\n",
    "    Voordat je gaat trainen, optimaliseren en bouwen moet je er dus voor zorgen dat je data goed op orde is. Als ik vier talen moet leren heeft het ook geen zin als je mij een kwart van het woordenboek geeft :) \n",
    "- Is there something you could do to fix/improve things, after you see these results?\n",
    "    Dit weet ik niet zo goed, mijn aanname was dat je gewoon alle data inkort waar je teveel van hebt, maar dan kun je te weinig data hebben. Afhankelijk van de context kun je dan een trade off maken. loss bekijken van wel en niet inkorten is wellicht een optie. "
   ]
  },
  {
   "cell_type": "markdown",
   "metadata": {},
   "source": [
    "# 6 Tune the model\n",
    "Don't overdo this.\n",
    "More is not better.\n",
    "\n",
    "Bonus points for things like:\n",
    "- Attention layers\n",
    "- Trax architecture including a functioning training loop\n",
    "\n",
    "Keep it small! It's better to present 2 or 3 sane experiments that are structured and thought trough, than 25 random guesses. You can test more, but select 2 or 3 of the best alternatives you researched, with a rationale why this works better.\n",
    "\n",
    "Keep it concise; explain:\n",
    "- what you changed\n",
    "- why you thought that was a good idea  \n",
    "- what the impact was (visualise or numeric)\n",
    "- explain the impact\n",
    "\n",
    "You dont need to get a perfect score; curiousity driven research that fails is fine.\n",
    "The insight into what is happening is more important than the quantity.\n",
    "\n",
    "Keep logs of your settings;\n",
    "either use gin, or save configs, or both :)\n",
    "Store images in the `figures` folder."
   ]
  },
  {
   "cell_type": "code",
   "execution_count": 17,
   "metadata": {},
   "outputs": [
    {
     "data": {
      "text/plain": [
       "831"
      ]
     },
     "execution_count": 17,
     "metadata": {},
     "output_type": "execute_result"
    }
   ],
   "source": [
    "cut_traindataset = traindataset[:831]\n",
    "len(cut_traindataset)"
   ]
  },
  {
   "cell_type": "code",
   "execution_count": 18,
   "metadata": {},
   "outputs": [],
   "source": [
    "trainstreamer = data_tools.BaseDatastreamer(\n",
    "    dataset=cut_traindataset, batchsize=32, preprocessor=preprocessor\n",
    ").stream()\n",
    "teststreamer = data_tools.BaseDatastreamer(\n",
    "    dataset=testdataset, batchsize=32, preprocessor=preprocessor\n",
    ").stream()"
   ]
  },
  {
   "cell_type": "code",
   "execution_count": 19,
   "metadata": {},
   "outputs": [
    {
     "name": "stderr",
     "output_type": "stream",
     "text": [
      "2022-07-12 23:45:04.887 | INFO     | src.data.data_tools:dir_add_timestamp:67 - Logging to ../tune/20220712-2345\n",
      "100%|██████████| 25/25 [00:01<00:00, 15.55it/s]\n",
      "2022-07-12 23:45:06.954 | INFO     | src.training.train_model:trainloop:164 - Epoch 0 train 1.2889 test 1.2764 metric ['0.3162', '0.1641']\n",
      "100%|██████████| 25/25 [00:01<00:00, 16.30it/s]\n",
      "2022-07-12 23:45:08.874 | INFO     | src.training.train_model:trainloop:164 - Epoch 1 train 1.2773 test 1.2301 metric ['0.3463', '0.1840']\n",
      "100%|██████████| 25/25 [00:01<00:00, 16.20it/s]\n",
      "2022-07-12 23:45:10.800 | INFO     | src.training.train_model:trainloop:164 - Epoch 2 train 1.2501 test 1.1673 metric ['0.4500', '0.2791']\n",
      "100%|██████████| 25/25 [00:01<00:00, 16.36it/s]\n",
      "2022-07-12 23:45:12.731 | INFO     | src.training.train_model:trainloop:164 - Epoch 3 train 1.0855 test 0.9002 metric ['0.6138', '0.5033']\n",
      "100%|██████████| 25/25 [00:01<00:00, 16.82it/s]\n",
      "2022-07-12 23:45:14.627 | INFO     | src.training.train_model:trainloop:164 - Epoch 4 train 0.8501 test 0.9144 metric ['0.6012', '0.4577']\n",
      "100%|██████████| 25/25 [00:01<00:00, 16.35it/s]\n",
      "2022-07-12 23:45:16.547 | INFO     | src.training.train_model:trainloop:164 - Epoch 5 train 0.6914 test 0.9147 metric ['0.6500', '0.5500']\n",
      "100%|██████████| 25/25 [00:01<00:00, 17.09it/s]\n",
      "2022-07-12 23:45:18.431 | INFO     | src.training.train_model:trainloop:164 - Epoch 6 train 0.4203 test 0.7425 metric ['0.7575', '0.6202']\n",
      "100%|██████████| 25/25 [00:01<00:00, 16.91it/s]\n",
      "2022-07-12 23:45:20.314 | INFO     | src.training.train_model:trainloop:164 - Epoch 7 train 0.2267 test 0.8760 metric ['0.7388', '0.6296']\n",
      "100%|██████████| 25/25 [00:01<00:00, 16.95it/s]\n",
      "2022-07-12 23:45:22.182 | INFO     | src.training.train_model:trainloop:164 - Epoch 8 train 0.1208 test 0.9667 metric ['0.7288', '0.6294']\n",
      "100%|██████████| 25/25 [00:01<00:00, 16.07it/s]\n",
      "2022-07-12 23:45:24.133 | INFO     | src.training.train_model:trainloop:164 - Epoch 9 train 0.1137 test 1.0129 metric ['0.7462', '0.6042']\n",
      "100%|██████████| 25/25 [00:01<00:00, 16.43it/s]\n",
      "2022-07-12 23:45:26.061 | INFO     | src.training.train_model:trainloop:164 - Epoch 10 train 0.0995 test 1.1592 metric ['0.7275', '0.5833']\n",
      "100%|██████████| 25/25 [00:01<00:00, 16.31it/s]\n",
      "2022-07-12 23:45:28.008 | INFO     | src.training.train_model:trainloop:164 - Epoch 11 train 0.0912 test 1.0362 metric ['0.7188', '0.6157']\n",
      "100%|██████████| 25/25 [00:01<00:00, 16.34it/s]\n",
      "2022-07-12 23:45:29.914 | INFO     | src.training.train_model:trainloop:164 - Epoch 12 train 0.0305 test 1.0801 metric ['0.7375', '0.6433']\n",
      "100%|██████████| 25/25 [00:01<00:00, 16.69it/s]\n",
      "2022-07-12 23:45:31.816 | INFO     | src.training.train_model:trainloop:164 - Epoch 13 train 0.0194 test 1.3742 metric ['0.7375', '0.6297']\n",
      "100%|██████████| 25/25 [00:01<00:00, 16.75it/s]\n",
      "2022-07-12 23:45:33.748 | INFO     | src.training.train_model:trainloop:164 - Epoch 14 train 0.0159 test 1.4062 metric ['0.7137', '0.6248']\n",
      "100%|██████████| 25/25 [00:01<00:00, 15.80it/s]\n",
      "2022-07-12 23:45:35.767 | INFO     | src.training.train_model:trainloop:164 - Epoch 15 train 0.0115 test 1.2832 metric ['0.7375', '0.6414']\n",
      "100%|██████████| 25/25 [00:01<00:00, 16.98it/s]\n",
      "2022-07-12 23:45:37.738 | INFO     | src.training.train_model:trainloop:164 - Epoch 16 train 0.0033 test 1.1230 metric ['0.7825', '0.6609']\n",
      "100%|██████████| 25/25 [00:01<00:00, 16.89it/s]\n",
      "2022-07-12 23:45:39.683 | INFO     | src.training.train_model:trainloop:164 - Epoch 17 train 0.0019 test 1.3712 metric ['0.7438', '0.6456']\n",
      "100%|██████████| 25/25 [00:01<00:00, 16.57it/s]\n",
      "2022-07-12 23:45:41.576 | INFO     | src.training.train_model:trainloop:164 - Epoch 18 train 0.0016 test 1.2015 metric ['0.7775', '0.6539']\n",
      "100%|██████████| 25/25 [00:01<00:00, 16.30it/s]\n",
      "2022-07-12 23:45:43.559 | INFO     | src.training.train_model:trainloop:164 - Epoch 19 train 0.0022 test 1.3735 metric ['0.7712', '0.6821']\n",
      "100%|██████████| 25/25 [00:01<00:00, 16.27it/s]\n",
      "2022-07-12 23:45:45.530 | INFO     | src.training.train_model:trainloop:164 - Epoch 20 train 0.0011 test 1.2611 metric ['0.7762', '0.6732']\n",
      "100%|██████████| 25/25 [00:01<00:00, 16.26it/s]\n",
      "2022-07-12 23:45:47.488 | INFO     | src.training.train_model:trainloop:164 - Epoch 21 train 0.0010 test 1.4714 metric ['0.7462', '0.6536']\n",
      "100%|██████████| 25/25 [00:01<00:00, 17.24it/s]\n",
      "2022-07-12 23:45:49.361 | INFO     | src.training.train_model:trainloop:164 - Epoch 22 train 0.0009 test 1.5263 metric ['0.7500', '0.6493']\n",
      "100%|██████████| 25/25 [00:01<00:00, 16.99it/s]\n",
      "2022-07-12 23:45:51.242 | INFO     | src.training.train_model:trainloop:164 - Epoch 23 train 0.0008 test 1.2088 metric ['0.8025', '0.7065']\n",
      "100%|██████████| 25/25 [00:01<00:00, 16.48it/s]\n",
      "2022-07-12 23:45:53.188 | INFO     | src.training.train_model:trainloop:164 - Epoch 24 train 0.0008 test 1.4942 metric ['0.7612', '0.6388']\n",
      "100%|██████████| 25/25 [00:01<00:00, 16.37it/s]\n",
      "2022-07-12 23:45:55.100 | INFO     | src.training.train_model:trainloop:164 - Epoch 25 train 0.0007 test 1.3041 metric ['0.7825', '0.6912']\n",
      "100%|██████████| 25/25 [00:01<00:00, 16.30it/s]\n",
      "2022-07-12 23:45:57.041 | INFO     | src.training.train_model:trainloop:164 - Epoch 26 train 0.0007 test 1.5052 metric ['0.7562', '0.6415']\n",
      "100%|██████████| 25/25 [00:01<00:00, 15.71it/s]\n",
      "2022-07-12 23:45:59.051 | INFO     | src.training.train_model:trainloop:164 - Epoch 27 train 0.0006 test 1.6726 metric ['0.7412', '0.6542']\n",
      "100%|██████████| 25/25 [00:01<00:00, 16.35it/s]\n",
      "2022-07-12 23:46:00.995 | INFO     | src.training.train_model:trainloop:164 - Epoch 28 train 0.0006 test 1.4548 metric ['0.7675', '0.6493']\n",
      "100%|██████████| 25/25 [00:01<00:00, 16.61it/s]\n",
      "2022-07-12 23:46:02.890 | INFO     | src.training.train_model:trainloop:164 - Epoch 29 train 0.0006 test 1.4933 metric ['0.7650', '0.6366']\n",
      "100%|██████████| 25/25 [00:01<00:00, 15.55it/s]\n",
      "2022-07-12 23:46:04.916 | INFO     | src.training.train_model:trainloop:164 - Epoch 30 train 0.0005 test 1.4524 metric ['0.7775', '0.6791']\n",
      "100%|██████████| 25/25 [00:01<00:00, 16.50it/s]\n",
      "2022-07-12 23:46:06.896 | INFO     | src.training.train_model:trainloop:164 - Epoch 31 train 0.0005 test 1.5989 metric ['0.7562', '0.6679']\n",
      "100%|██████████| 25/25 [00:01<00:00, 16.36it/s]\n",
      "2022-07-12 23:46:08.824 | INFO     | src.training.train_model:trainloop:164 - Epoch 32 train 0.0005 test 1.5555 metric ['0.7675', '0.6647']\n",
      "100%|██████████| 25/25 [00:01<00:00, 17.28it/s]\n",
      "2022-07-12 23:46:10.653 | INFO     | src.training.train_model:trainloop:164 - Epoch 33 train 0.0005 test 1.4949 metric ['0.7700', '0.6659']\n",
      "100%|██████████| 25/25 [00:01<00:00, 16.15it/s]\n",
      "2022-07-12 23:46:12.632 | INFO     | src.training.train_model:trainloop:164 - Epoch 34 train 0.0004 test 1.5056 metric ['0.7825', '0.6673']\n",
      "100%|██████████| 25/25 [00:01<00:00, 16.03it/s]\n",
      "2022-07-12 23:46:14.651 | INFO     | src.training.train_model:trainloop:164 - Epoch 35 train 0.0004 test 1.5627 metric ['0.7662', '0.6569']\n",
      "100%|██████████| 25/25 [00:01<00:00, 16.12it/s]\n",
      "2022-07-12 23:46:16.629 | INFO     | src.training.train_model:trainloop:164 - Epoch 36 train 0.0004 test 1.5426 metric ['0.7812', '0.6803']\n",
      "100%|██████████| 25/25 [00:01<00:00, 16.24it/s]\n",
      "2022-07-12 23:46:18.673 | INFO     | src.training.train_model:trainloop:164 - Epoch 37 train 0.0004 test 1.6386 metric ['0.7625', '0.6483']\n",
      "100%|██████████| 25/25 [00:01<00:00, 16.40it/s]\n",
      "2022-07-12 23:46:20.585 | INFO     | src.training.train_model:trainloop:164 - Epoch 38 train 0.0004 test 1.5614 metric ['0.7800', '0.6830']\n",
      "100%|██████████| 25/25 [00:01<00:00, 16.38it/s]\n",
      "2022-07-12 23:46:22.528 | INFO     | src.training.train_model:trainloop:164 - Epoch 39 train 0.0003 test 1.7538 metric ['0.7438', '0.6329']\n",
      "100%|██████████| 25/25 [00:01<00:00, 15.93it/s]\n",
      "2022-07-12 23:46:24.502 | INFO     | src.training.train_model:trainloop:164 - Epoch 40 train 0.0003 test 1.5599 metric ['0.7788', '0.6733']\n",
      "100%|██████████| 25/25 [00:01<00:00, 16.36it/s]\n",
      "2022-07-12 23:46:26.401 | INFO     | src.training.train_model:trainloop:164 - Epoch 41 train 0.0003 test 1.6214 metric ['0.7575', '0.6561']\n",
      "100%|██████████| 25/25 [00:01<00:00, 16.30it/s]\n",
      "2022-07-12 23:46:28.353 | INFO     | src.training.train_model:trainloop:164 - Epoch 42 train 0.0003 test 1.6209 metric ['0.7600', '0.6672']\n",
      "100%|██████████| 25/25 [00:01<00:00, 16.00it/s]\n",
      "2022-07-12 23:46:30.338 | INFO     | src.training.train_model:trainloop:164 - Epoch 43 train 0.0003 test 1.7126 metric ['0.7588', '0.6698']\n",
      "100%|██████████| 25/25 [00:01<00:00, 15.93it/s]\n",
      "2022-07-12 23:46:32.318 | INFO     | src.training.train_model:trainloop:164 - Epoch 44 train 0.0003 test 1.5898 metric ['0.7775', '0.6682']\n",
      "100%|██████████| 25/25 [00:01<00:00, 16.20it/s]\n",
      "2022-07-12 23:46:34.263 | INFO     | src.training.train_model:trainloop:164 - Epoch 45 train 0.0003 test 1.4791 metric ['0.7937', '0.6813']\n",
      "100%|██████████| 25/25 [00:01<00:00, 16.44it/s]\n",
      "2022-07-12 23:46:36.169 | INFO     | src.training.train_model:trainloop:164 - Epoch 46 train 0.0003 test 1.5712 metric ['0.7837', '0.6613']\n",
      "100%|██████████| 25/25 [00:01<00:00, 16.66it/s]\n",
      "2022-07-12 23:46:38.088 | INFO     | src.training.train_model:trainloop:164 - Epoch 47 train 0.0003 test 1.7311 metric ['0.7550', '0.6369']\n",
      "100%|██████████| 25/25 [00:01<00:00, 15.91it/s]\n",
      "2022-07-12 23:46:40.066 | INFO     | src.training.train_model:trainloop:164 - Epoch 48 train 0.0002 test 1.6930 metric ['0.7700', '0.6684']\n",
      "100%|██████████| 25/25 [00:01<00:00, 15.97it/s]\n",
      "2022-07-12 23:46:42.038 | INFO     | src.training.train_model:trainloop:164 - Epoch 49 train 0.0002 test 1.5978 metric ['0.7750', '0.6825']\n",
      "100%|██████████| 25/25 [00:01<00:00, 16.70it/s]\n",
      "2022-07-12 23:46:44.021 | INFO     | src.training.train_model:trainloop:164 - Epoch 50 train 0.0002 test 1.7819 metric ['0.7600', '0.6567']\n",
      "100%|██████████| 25/25 [00:01<00:00, 17.07it/s]\n",
      "2022-07-12 23:46:45.879 | INFO     | src.training.train_model:trainloop:164 - Epoch 51 train 0.0002 test 1.5289 metric ['0.7825', '0.6786']\n",
      "100%|██████████| 25/25 [00:01<00:00, 16.87it/s]\n",
      "2022-07-12 23:46:47.772 | INFO     | src.training.train_model:trainloop:164 - Epoch 52 train 0.0002 test 1.7477 metric ['0.7562', '0.6599']\n",
      "100%|██████████| 25/25 [00:01<00:00, 16.09it/s]\n",
      "2022-07-12 23:46:49.712 | INFO     | src.training.train_model:trainloop:164 - Epoch 53 train 0.0002 test 1.6182 metric ['0.7825', '0.6719']\n",
      "100%|██████████| 25/25 [00:01<00:00, 16.81it/s]\n",
      "2022-07-12 23:46:51.599 | INFO     | src.training.train_model:trainloop:164 - Epoch 54 train 0.0002 test 1.8344 metric ['0.7500', '0.6666']\n",
      "100%|██████████| 25/25 [00:01<00:00, 16.02it/s]\n",
      "2022-07-12 23:46:53.562 | INFO     | src.training.train_model:trainloop:164 - Epoch 55 train 0.0002 test 1.6458 metric ['0.7800', '0.6801']\n",
      "100%|██████████| 25/25 [00:01<00:00, 15.23it/s]\n",
      "2022-07-12 23:46:55.618 | INFO     | src.training.train_model:trainloop:164 - Epoch 56 train 0.0002 test 1.7272 metric ['0.7750', '0.6714']\n",
      "100%|██████████| 25/25 [00:01<00:00, 16.08it/s]\n",
      "2022-07-12 23:46:57.581 | INFO     | src.training.train_model:trainloop:164 - Epoch 57 train 0.0002 test 1.6390 metric ['0.7788', '0.6594']\n",
      "100%|██████████| 25/25 [00:01<00:00, 15.98it/s]\n",
      "2022-07-12 23:46:59.535 | INFO     | src.training.train_model:trainloop:164 - Epoch 58 train 0.0002 test 1.6968 metric ['0.7700', '0.6594']\n",
      "100%|██████████| 25/25 [00:01<00:00, 15.79it/s]\n",
      "2022-07-12 23:47:01.562 | INFO     | src.training.train_model:trainloop:164 - Epoch 59 train 0.0002 test 1.5264 metric ['0.7975', '0.6818']\n",
      "100%|██████████| 25/25 [00:01<00:00, 16.10it/s]\n",
      "2022-07-12 23:47:03.490 | INFO     | src.training.train_model:trainloop:164 - Epoch 60 train 0.0002 test 1.9285 metric ['0.7388', '0.6340']\n",
      "100%|██████████| 25/25 [00:01<00:00, 15.77it/s]\n",
      "2022-07-12 23:47:05.489 | INFO     | src.training.train_model:trainloop:164 - Epoch 61 train 0.0002 test 1.7968 metric ['0.7650', '0.6639']\n",
      "100%|██████████| 25/25 [00:01<00:00, 15.77it/s]\n",
      "2022-07-12 23:47:07.489 | INFO     | src.training.train_model:trainloop:164 - Epoch 62 train 0.0002 test 1.8312 metric ['0.7600', '0.6556']\n",
      "100%|██████████| 25/25 [00:01<00:00, 16.39it/s]\n",
      "2022-07-12 23:47:09.424 | INFO     | src.training.train_model:trainloop:164 - Epoch 63 train 0.0002 test 1.7107 metric ['0.7650', '0.6528']\n",
      "100%|██████████| 64/64 [02:04<00:00,  1.95s/it]\n"
     ]
    }
   ],
   "source": [
    "model = train_model.trainloop(\n",
    "    epochs=64,\n",
    "    model=model,\n",
    "    metrics=metrics,\n",
    "    optimizer=torch.optim.Adam,\n",
    "    learning_rate=1e-3,\n",
    "    loss_fn=loss_fn,\n",
    "    train_dataloader=trainstreamer,\n",
    "    test_dataloader=teststreamer,\n",
    "    log_dir=log_dir,\n",
    "    train_steps=25,\n",
    "    eval_steps=25,\n",
    ")"
   ]
  }
 ],
 "metadata": {
  "kernelspec": {
   "display_name": "Python 3.9.12 ('exam-22-VcqZzmfN-py3.9')",
   "language": "python",
   "name": "python3"
  },
  "language_info": {
   "codemirror_mode": {
    "name": "ipython",
    "version": 3
   },
   "file_extension": ".py",
   "mimetype": "text/x-python",
   "name": "python",
   "nbconvert_exporter": "python",
   "pygments_lexer": "ipython3",
   "version": "3.9.12"
  },
  "orig_nbformat": 4,
  "vscode": {
   "interpreter": {
    "hash": "ca2dc60d6a1cbbbba5e795990195874916e724cd2b314ffd756aaa7f9f317659"
   }
  }
 },
 "nbformat": 4,
 "nbformat_minor": 2
}

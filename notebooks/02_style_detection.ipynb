{
 "cells": [
  {
   "cell_type": "code",
   "execution_count": 1,
   "metadata": {},
   "outputs": [],
   "source": [
    "import sys\n",
    "import pandas as pd\n",
    "sys.path.insert(0, \"..\")\n",
    "from src.settings import StyleSettings\n",
    "from src.data.data_tools import StyleDataset\n",
    "import numpy as np\n",
    "import seaborn as sns\n"
   ]
  },
  {
   "cell_type": "markdown",
   "metadata": {},
   "source": [
    "# Load the data"
   ]
  },
  {
   "cell_type": "code",
   "execution_count": 2,
   "metadata": {},
   "outputs": [],
   "source": [
    "settings = StyleSettings()\n",
    "traindataset = StyleDataset([settings.trainpath])\n",
    "testdataset = StyleDataset([settings.testpath])\n"
   ]
  },
  {
   "cell_type": "markdown",
   "metadata": {},
   "source": [
    "We have 419 batches in the dataset"
   ]
  },
  {
   "cell_type": "code",
   "execution_count": 3,
   "metadata": {},
   "outputs": [
    {
     "data": {
      "text/plain": [
       "419"
      ]
     },
     "execution_count": 3,
     "metadata": {},
     "output_type": "execute_result"
    }
   ],
   "source": [
    "len(traindataset) // 32\n"
   ]
  },
  {
   "cell_type": "code",
   "execution_count": 4,
   "metadata": {},
   "outputs": [
    {
     "data": {
      "text/plain": [
       "('Lace is an openwork fabric , patterned with open holes in the work , made by machine or by hand.',\n",
       " 'wiki')"
      ]
     },
     "execution_count": 4,
     "metadata": {},
     "output_type": "execute_result"
    }
   ],
   "source": [
    "x, y = traindataset[42]\n",
    "x, y\n"
   ]
  },
  {
   "cell_type": "markdown",
   "metadata": {},
   "source": [
    "Every batch is a `Tuple[str, str]` of a sentence and a label. We can see this is a classification task.\n",
    "The task is, to classify sentences in four categories.\n",
    "Lets build a vocabulary by copy-pasting the code we used before"
   ]
  },
  {
   "cell_type": "code",
   "execution_count": 5,
   "metadata": {},
   "outputs": [
    {
     "name": "stderr",
     "output_type": "stream",
     "text": [
      "2022-08-12 07:28:40.196 | INFO     | src.models.tokenizer:build_vocab:27 - Found 19306 tokens\n"
     ]
    },
    {
     "data": {
      "text/plain": [
       "19308"
      ]
     },
     "execution_count": 5,
     "metadata": {},
     "output_type": "execute_result"
    }
   ],
   "source": [
    "from src.models import tokenizer\n",
    "\n",
    "corpus = []\n",
    "count = []\n",
    "for i in range(len(traindataset)):\n",
    "    x = tokenizer.clean(traindataset[i][0])\n",
    "    corpus.append(x)\n",
    "    \n",
    "v = tokenizer.build_vocab(corpus, max=20000)\n",
    "len(v)\n"
   ]
  },
  {
   "cell_type": "markdown",
   "metadata": {},
   "source": [
    "We need to cast the labels to an integers. You can use this dictionary to do so:"
   ]
  },
  {
   "cell_type": "code",
   "execution_count": 6,
   "metadata": {},
   "outputs": [
    {
     "data": {
      "text/plain": [
       "2"
      ]
     },
     "execution_count": 6,
     "metadata": {},
     "output_type": "execute_result"
    }
   ],
   "source": [
    "d = {\"humor\": 0, \"reuters\": 1, \"wiki\": 2, \"proverbs\": 3}\n",
    "d[y]\n"
   ]
  },
  {
   "cell_type": "code",
   "execution_count": null,
   "metadata": {},
   "outputs": [],
   "source": []
  },
  {
   "cell_type": "markdown",
   "metadata": {},
   "source": [
    "# Question 1\n",
    "Figure out, for every class, what accuracy you should expect if the model would guess blind on the train set"
   ]
  },
  {
   "cell_type": "code",
   "execution_count": 7,
   "metadata": {},
   "outputs": [
    {
     "name": "stdout",
     "output_type": "stream",
     "text": [
      "humor komt 31.414510476474533 % voor in de dataset, blind guess accuracy for this class: 7.853627619118633\n",
      "reuters komt 31.21318320781448 % voor in de dataset, blind guess accuracy for this class: 7.80329580195362\n",
      "wiki komt 31.175900380284844 % voor in de dataset, blind guess accuracy for this class: 7.793975095071211\n",
      "proverbs komt 6.196405935426143 % voor in de dataset, blind guess accuracy for this class: 1.5491014838565358\n"
     ]
    }
   ],
   "source": [
    "count = {\"humor\": 0, \"reuters\": 0, \"wiki\": 0, \"proverbs\": 0}\n",
    "total = len(traindataset)\n",
    "for i in range(len(traindataset)):\n",
    "    x = tokenizer.clean(traindataset[i][1])\n",
    "    count[x] = count[x] + 1\n",
    "\n",
    "for style in d:\n",
    "    print(f'{style} komt {((count[style] / total ) * 100 )} % voor in de dataset, blind guess accuracy for this class: {((count[style] / total ) * 100 )*.25}')"
   ]
  },
  {
   "cell_type": "markdown",
   "metadata": {},
   "source": [
    "Reflect on what you see. What does this mean? What implications does this have? Why is that good/bad?\n",
    "Are there things down the line that could cause a problem?"
   ]
  },
  {
   "cell_type": "markdown",
   "metadata": {},
   "source": [
    "Proverbs komt erg weining voor, daarom heeft het model weinig om daar van te leren. De nuance mist dan gok ik en je model wordt biased. \n",
    "\n",
    "ik dacht dat je de rest van de dataset kon trimmen tot een gelijwaardige verdeling, maar dit kan niet zo makkelijk zoals ik dacht omdat je inderdaad nog shuffled. "
   ]
  },
  {
   "cell_type": "markdown",
   "metadata": {},
   "source": [
    "# Question 2 : Implement a preprocessor\n",
    "\n",
    "We can inherit from `tokenizer.Preprocessor`\n",
    "Only thing we need to adjust is the `cast_label` function.\n",
    " \n",
    "- create a StylePreprocessor class\n",
    "- inherit from Preprocessor\n",
    "- create a new cast_label function for this dataset"
   ]
  },
  {
   "cell_type": "code",
   "execution_count": 8,
   "metadata": {},
   "outputs": [],
   "source": [
    "# TODO ~ about 4 lines of code\n",
    "\n",
    "class StylePreprocessor(tokenizer.Preprocessor):\n",
    "    def cast_label(self, label: str) -> int:\n",
    "        d = {\"humor\":0, \"reuters\": 1, \"wiki\": 2, \"proverbs\": 3}\n",
    "        return d[label]\n"
   ]
  },
  {
   "cell_type": "markdown",
   "metadata": {},
   "source": [
    "To test the preprocessor:"
   ]
  },
  {
   "cell_type": "code",
   "execution_count": 9,
   "metadata": {},
   "outputs": [
    {
     "data": {
      "text/plain": [
       "(tensor([[1347]], dtype=torch.int32), tensor([2]))"
      ]
     },
     "execution_count": 9,
     "metadata": {},
     "output_type": "execute_result"
    }
   ],
   "source": [
    "preprocessor = StylePreprocessor(max=100, vocab=v, clean=tokenizer.clean)\n",
    "preprocessor([(x, y)])\n"
   ]
  },
  {
   "cell_type": "markdown",
   "metadata": {},
   "source": [
    "# Set up the model\n",
    "We can re-use the BaseDatastreamer"
   ]
  },
  {
   "cell_type": "code",
   "execution_count": 10,
   "metadata": {},
   "outputs": [],
   "source": [
    "from src.data import data_tools\n",
    "\n",
    "trainstreamer = data_tools.BaseDatastreamer(\n",
    "    dataset=traindataset, batchsize=32, preprocessor=preprocessor\n",
    ").stream()\n",
    "teststreamer = data_tools.BaseDatastreamer(\n",
    "    dataset=testdataset, batchsize=32, preprocessor=preprocessor\n",
    ").stream()\n"
   ]
  },
  {
   "cell_type": "code",
   "execution_count": 11,
   "metadata": {},
   "outputs": [
    {
     "data": {
      "text/plain": [
       "(torch.Size([32, 28]),\n",
       " tensor([2, 3, 2, 0, 0, 2, 3, 2, 1, 2, 1, 0, 1, 2, 2, 0, 0, 1, 0, 1, 2, 2, 1, 1,\n",
       "         2, 2, 2, 2, 2, 3, 1, 1]))"
      ]
     },
     "execution_count": 11,
     "metadata": {},
     "output_type": "execute_result"
    }
   ],
   "source": [
    "x, y = next(trainstreamer)\n",
    "x.shape, y\n"
   ]
  },
  {
   "cell_type": "markdown",
   "metadata": {},
   "source": [
    "## Question 3 : Metrics, loss\n",
    "Select proper metrics and a loss function.\n",
    "\n",
    "Bonus: implement an additional metric function that is relevant for this case."
   ]
  },
  {
   "cell_type": "code",
   "execution_count": 12,
   "metadata": {},
   "outputs": [],
   "source": [
    "from src.models import metrics\n",
    "import torch\n",
    "# TODO ~ 2 lines of code\n",
    "\n",
    "metrics = [metrics.Accuracy(), metrics.F1Score()]\n",
    "\n",
    "loss_fn = torch.nn.CrossEntropyLoss()"
   ]
  },
  {
   "cell_type": "markdown",
   "metadata": {},
   "source": [
    "Accuracy is een handige metric als je data goed evenredig versprijd is. Dat is hiet niet het geval. Voor ongebalanceerde datasets wordt F1score aangeraden. Bron: https://towardsdatascience.com/the-f1-score-bec2bbc38aa6\""
   ]
  },
  {
   "cell_type": "markdown",
   "metadata": {},
   "source": [
    "## Question 4 : Basemodel\n",
    "Create a base model. It does not need to be naive; you could re-use the\n",
    "NLP models we used for the IMDB.\n",
    "\n",
    "I suggest to start with a hidden size of about 128.\n",
    "Use a config dictionary, or a gin file, both are fine.\n",
    "\n",
    "Bonus points if you create a Trax model in src.models, and even more if you add a trax training loop."
   ]
  },
  {
   "cell_type": "code",
   "execution_count": 13,
   "metadata": {},
   "outputs": [
    {
     "name": "stdout",
     "output_type": "stream",
     "text": [
      "NLPmodel(\n",
      "  (emb): Embedding(19308, 128)\n",
      "  (rnn): GRU(128, 128, num_layers=3, batch_first=True, dropout=0.1)\n",
      "  (linear): Linear(in_features=128, out_features=4, bias=True)\n",
      ")\n"
     ]
    }
   ],
   "source": [
    "log_dir = settings.log_dir\n",
    "# TODO between 2 and 8 lines of code, depending on your setup\n",
    "# Assuming you load your model in one line of code from src.models.rnn\n",
    "from src.models import rnn\n",
    "\n",
    "config = {\n",
    "    \"vocab\": len(v),\n",
    "    \"input_size\": 32,\n",
    "    \"hidden_size\": 128,\n",
    "    \"num_layers\": 3,\n",
    "    \"dropout\": 0.1,\n",
    "    \"output_size\": 4,\n",
    "}\n",
    "\n",
    "model = rnn.NLPmodel(config)\n",
    "print(model)"
   ]
  },
  {
   "cell_type": "markdown",
   "metadata": {},
   "source": [
    "Set up the trainloop.\n",
    "\n",
    "- Give the lenght of the traindataset, how many batches of 32 can you get out of it?\n",
    "- If you take a short amount of train_steps (eg 25) for every epoch, how many epochs do you need to cover the complete dataset?\n",
    "- What amount of epochs do you need to run the loop with trainsteps=25 to cover the complete traindataset once? \n",
    "- answer the questions above, and pick a reasonable epoch lenght\n",
    "\n",
    "Start with a default learning_rate of 1e-3 and an Adam optimizer."
   ]
  },
  {
   "cell_type": "code",
   "execution_count": 14,
   "metadata": {},
   "outputs": [
    {
     "name": "stdout",
     "output_type": "stream",
     "text": [
      "419.09375 batches in traindataset\n",
      "16.76375 epochs\n"
     ]
    }
   ],
   "source": [
    "print(f\"{len(traindataset) / 32} batches in traindataset\")\n",
    "print(f\"{(len(traindataset) / 32)/25} epochs\")"
   ]
  },
  {
   "cell_type": "markdown",
   "metadata": {},
   "source": [
    "### Opmerking\n",
    "\n",
    "Hoi Raoul, bij bovenstaande vraag vraag ik mij af of de term epochs wel helemaal juist is, ik lees overal op het internet dat een epoch betekend dat je een keer door de hele dataset gaat. Maar als ik naar de vraag kijk lijkt dat niet helemaal op te gaan.\n"
   ]
  },
  {
   "cell_type": "code",
   "execution_count": 15,
   "metadata": {},
   "outputs": [],
   "source": [
    "# from src.training import train_model\n",
    "\n",
    "# model = train_model.trainloop(\n",
    "#     epochs=64,\n",
    "#     model=model,\n",
    "#     metrics=metrics,\n",
    "#     optimizer=torch.optim.Adam,\n",
    "#     learning_rate=1e-3,\n",
    "#     loss_fn=loss_fn,\n",
    "#     train_dataloader=trainstreamer,\n",
    "#     test_dataloader=teststreamer,\n",
    "#     log_dir=\"../model/basis\",\n",
    "#     train_steps=25,\n",
    "#     eval_steps=25,\n",
    "# )\n"
   ]
  },
  {
   "cell_type": "markdown",
   "metadata": {},
   "source": [
    "Save an image from the training in tensorboard in the `figures` folder.\n",
    "Explain what you are seeing."
   ]
  },
  {
   "cell_type": "markdown",
   "metadata": {},
   "source": [
    "\n",
    "<img src = \"../figures/Screenshot 2022-07-21 at 16.01.07.png\">\n",
    "\n",
    "## Antwoord\n",
    "Je ziet dat het model leert en de loss op de train data flink minder wordt, dit zie je ook terug op de accuracy. Alleen de accuracy op de test data stagneert rond de 0.3, wat overeenkomt met de F1 score, wat aangeeft dat de F1 score hier dus echt een betere metric is. "
   ]
  },
  {
   "cell_type": "markdown",
   "metadata": {},
   "source": [
    "# 5 Evaluate the basemodel\n",
    "Create a confusion matrix with the code below"
   ]
  },
  {
   "cell_type": "code",
   "execution_count": 16,
   "metadata": {},
   "outputs": [
    {
     "data": {
      "text/plain": [
       "[Text(0.5, 15.0, 'Predicted'), Text(33.0, 0.5, 'Target')]"
      ]
     },
     "execution_count": 16,
     "metadata": {},
     "output_type": "execute_result"
    },
    {
     "data": {
      "image/png": "[encoded data removed]",
      "text/plain": [
       "<Figure size 432x288 with 2 Axes>"
      ]
     },
     "metadata": {
      "needs_background": "light"
     },
     "output_type": "display_data"
    }
   ],
   "source": [
    "from sklearn.metrics import confusion_matrix\n",
    "\n",
    "y_true = []\n",
    "y_pred = []\n",
    "\n",
    "for _ in range(100):\n",
    "    X, y = next(teststreamer)\n",
    "    yhat = model(X)\n",
    "    yhat = yhat.argmax(dim=1)\n",
    "    y_pred.append(yhat.tolist())\n",
    "    y_true.append(y.tolist())\n",
    "\n",
    "yhat = [x for y in y_pred for x in y]\n",
    "y = [x for y in y_true for x in y]\n",
    "\n",
    "cfm = confusion_matrix(y, yhat)\n",
    "cfm_norm = cfm / np.sum(cfm, axis=1, keepdims=True)\n",
    "plot = sns.heatmap(cfm_norm, annot=cfm_norm, fmt=\".3f\")\n",
    "plot.set(xlabel=\"Predicted\", ylabel=\"Target\")\n"
   ]
  },
  {
   "cell_type": "markdown",
   "metadata": {},
   "source": [
    "Save this in the figures folder.\n",
    "Interpret this. \n",
    "\n",
    "<img src = \"../figures/matrix_2.png\">\n",
    "\n",
    "- What is going on?\n",
    "    \n",
    "- What is a good metric here?\n",
    "    \n",
    "- how is your answer to Q1 relevant here?\n",
    "    \n",
    "- Is there something you could do to fix/improve things, after you see these results?\n",
    "    "
   ]
  },
  {
   "cell_type": "markdown",
   "metadata": {},
   "source": [
    "Als je de resultaten in losse klasses bekijkt wordt dijdelijk dat het model niet goed scoort bij klasse 3, in bijna 30 proces van de gevallen voorspelt het een andere klasse, vooral 0 en 2. Dit terwijl de andere klasse wel goed scoren. Niet geheel onlogisch want het model heeft in 6% van de tijd maar voorbeelden gezien van klasse 3. \n",
    "\n",
    "Accuracy is hier dus geen goede score omdat de dataset zo onevenredig verdeeld is. Gebruik maken van F1 score is al een goede eerste zet omdat je dan gebruik maakt van de precision en recall van alle classe in een metric. \n",
    "\n",
    "Je kunt als tweede oplossing resamplen, zodat de dataset gebalanceerder is. En dit kan op drie manieren: \n",
    "-   undersamping (van klasse 0-2 afhalen) niet handig denk ik want dan verlies je echt mega veel informatie. \n",
    "-   oversampling (delen van klasse 3 dupliceren), ook onhandig denk ik ivm overfitten. \n",
    "-   creeeren van nieuwe synthetic data. Waarbij ik niet denk dat je de laatste kunt gebruiken bij NLP. Althans, nee.. lijkt me onmogelijk. \n",
    "\n",
    "En je kunt natuurlijk het model aanpassen "
   ]
  },
  {
   "cell_type": "markdown",
   "metadata": {},
   "source": [
    "# 6 Tune the model\n",
    "Don't overdo this.\n",
    "More is not better.\n",
    "\n",
    "Bonus points for things like:\n",
    "- Attention layers\n",
    "- Trax architecture including a functioning training loop\n",
    "\n",
    "Keep it small! It's better to present 2 or 3 sane experiments that are structured and thought trough, than 25 random guesses. You can test more, but select 2 or 3 of the best alternatives you researched, with a rationale why this works better.\n",
    "\n",
    "Keep it concise; explain:\n",
    "- what you changed\n",
    "- why you thought that was a good idea  \n",
    "- what the impact was (visualise or numeric)\n",
    "- explain the impact\n",
    "\n",
    "You dont need to get a perfect score; curiousity driven research that fails is fine.\n",
    "The insight into what is happening is more important than the quantity.\n",
    "\n",
    "Keep logs of your settings;\n",
    "either use gin, or save configs, or both :)\n",
    "Store images in the `figures` folder."
   ]
  },
  {
   "cell_type": "code",
   "execution_count": null,
   "metadata": {},
   "outputs": [],
   "source": []
  },
  {
   "cell_type": "code",
   "execution_count": 17,
   "metadata": {},
   "outputs": [],
   "source": [
    "trainstreamer = data_tools.BaseDatastreamer(\n",
    "    dataset=traindataset, batchsize=32, preprocessor=preprocessor\n",
    ").stream()\n",
    "teststreamer = data_tools.BaseDatastreamer(\n",
    "    dataset=testdataset, batchsize=32, preprocessor=preprocessor\n",
    ").stream()"
   ]
  },
  {
   "cell_type": "code",
   "execution_count": 18,
   "metadata": {},
   "outputs": [
    {
     "name": "stderr",
     "output_type": "stream",
     "text": [
      "2022-08-12 07:28:43.395124: I tensorflow/core/util/util.cc:169] oneDNN custom operations are on. You may see slightly different numerical results due to floating-point round-off errors from different computation orders. To turn them off, set the environment variable `TF_ENABLE_ONEDNN_OPTS=0`.\n",
      "2022-08-12 07:28:45.045 | INFO     | src.data.data_tools:dir_add_timestamp:67 - Logging to ../tune/20220812-0728\n"
     ]
    },
    {
     "name": "stdout",
     "output_type": "stream",
     "text": [
      "     56   128  256\n",
      "0.1  NaN  NaN  NaN\n",
      "0.2  NaN  NaN  NaN\n",
      "0.3  NaN  NaN  NaN\n",
      "NLPmodel(\n",
      "  (emb): Embedding(19308, 56)\n",
      "  (rnn): GRU(56, 56, num_layers=3, batch_first=True, dropout=0.1)\n",
      "  (linear): Linear(in_features=56, out_features=4, bias=True)\n",
      ")\n"
     ]
    },
    {
     "name": "stderr",
     "output_type": "stream",
     "text": [
      "100%|██████████| 25/25 [00:01<00:00, 24.74it/s]\n",
      "100%|██████████| 25/25 [00:01<00:00, 23.65it/s]\n",
      "100%|██████████| 25/25 [00:00<00:00, 25.64it/s]\n",
      "100%|██████████| 25/25 [00:01<00:00, 22.91it/s]\n",
      "100%|██████████| 25/25 [00:01<00:00, 23.87it/s]\n",
      "100%|██████████| 25/25 [00:00<00:00, 26.66it/s]\n",
      "100%|██████████| 25/25 [00:00<00:00, 29.58it/s]\n",
      "100%|██████████| 25/25 [00:00<00:00, 25.05it/s]\n",
      "100%|██████████| 25/25 [00:00<00:00, 27.00it/s]\n",
      "100%|██████████| 25/25 [00:00<00:00, 25.35it/s]\n",
      "100%|██████████| 25/25 [00:01<00:00, 22.34it/s]\n",
      "100%|██████████| 25/25 [00:00<00:00, 26.34it/s]\n",
      "100%|██████████| 25/25 [00:01<00:00, 21.41it/s]\n",
      "100%|██████████| 25/25 [00:01<00:00, 23.01it/s]\n",
      "100%|██████████| 25/25 [00:01<00:00, 23.68it/s]\n",
      "100%|██████████| 25/25 [00:01<00:00, 23.77it/s]\n",
      "100%|██████████| 25/25 [00:00<00:00, 26.01it/s]\n",
      "100%|██████████| 25/25 [00:00<00:00, 25.03it/s]\n",
      "100%|██████████| 25/25 [00:00<00:00, 25.15it/s]\n",
      "100%|██████████| 25/25 [00:01<00:00, 24.56it/s]\n",
      "100%|██████████| 25/25 [00:00<00:00, 25.24it/s]\n",
      "100%|██████████| 25/25 [00:01<00:00, 18.39it/s]\n",
      "100%|██████████| 25/25 [00:01<00:00, 22.88it/s]\n",
      "100%|██████████| 25/25 [00:01<00:00, 24.56it/s]\n",
      "100%|██████████| 25/25 [00:01<00:00, 23.78it/s]\n",
      "100%|██████████| 25/25 [00:00<00:00, 27.75it/s]\n",
      "100%|██████████| 25/25 [00:01<00:00, 23.87it/s]\n",
      "100%|██████████| 25/25 [00:01<00:00, 24.79it/s]\n",
      "100%|██████████| 25/25 [00:01<00:00, 23.43it/s]\n",
      "100%|██████████| 25/25 [00:00<00:00, 26.22it/s]\n",
      "100%|██████████| 25/25 [00:01<00:00, 23.66it/s]\n",
      "100%|██████████| 25/25 [00:00<00:00, 29.72it/s]\n",
      "100%|██████████| 25/25 [00:01<00:00, 24.80it/s]\n",
      "100%|██████████| 25/25 [00:00<00:00, 27.79it/s]\n",
      "100%|██████████| 25/25 [00:01<00:00, 24.68it/s]\n",
      "100%|██████████| 25/25 [00:01<00:00, 24.60it/s]\n",
      "100%|██████████| 25/25 [00:00<00:00, 32.22it/s]\n",
      "100%|██████████| 25/25 [00:00<00:00, 26.93it/s]\n",
      "100%|██████████| 25/25 [00:01<00:00, 23.24it/s]\n",
      "100%|██████████| 25/25 [00:01<00:00, 22.34it/s]\n",
      "100%|██████████| 25/25 [00:00<00:00, 27.17it/s]\n",
      "100%|██████████| 25/25 [00:00<00:00, 26.07it/s]\n",
      "100%|██████████| 25/25 [00:00<00:00, 30.91it/s]\n",
      "100%|██████████| 25/25 [00:00<00:00, 25.01it/s]\n",
      "100%|██████████| 25/25 [00:00<00:00, 26.31it/s]\n",
      "100%|██████████| 25/25 [00:01<00:00, 23.69it/s]\n",
      "100%|██████████| 25/25 [00:01<00:00, 23.86it/s]\n",
      "100%|██████████| 25/25 [00:00<00:00, 27.71it/s]\n",
      "100%|██████████| 25/25 [00:00<00:00, 28.91it/s]\n",
      "100%|██████████| 25/25 [00:00<00:00, 28.65it/s]\n",
      "100%|██████████| 25/25 [00:00<00:00, 29.50it/s]\n",
      "100%|██████████| 25/25 [00:01<00:00, 23.08it/s]\n",
      "100%|██████████| 25/25 [00:01<00:00, 21.98it/s]\n",
      "100%|██████████| 25/25 [00:01<00:00, 22.79it/s]\n",
      "100%|██████████| 25/25 [00:01<00:00, 23.97it/s]\n",
      "100%|██████████| 25/25 [00:00<00:00, 25.97it/s]\n",
      "100%|██████████| 25/25 [00:01<00:00, 24.73it/s]\n",
      "100%|██████████| 25/25 [00:01<00:00, 22.21it/s]\n",
      "100%|██████████| 25/25 [00:00<00:00, 28.73it/s]\n",
      "100%|██████████| 25/25 [00:01<00:00, 24.08it/s]\n",
      "100%|██████████| 25/25 [00:00<00:00, 26.77it/s]\n",
      "100%|██████████| 25/25 [00:01<00:00, 23.74it/s]\n",
      "100%|██████████| 25/25 [00:01<00:00, 24.92it/s]\n",
      "100%|██████████| 25/25 [00:01<00:00, 24.63it/s]\n",
      "100%|██████████| 64/64 [01:26<00:00,  1.35s/it]\n",
      "2022-08-12 07:30:11.367 | INFO     | src.data.data_tools:dir_add_timestamp:67 - Logging to ../tune/20220812-0730\n"
     ]
    },
    {
     "name": "stdout",
     "output_type": "stream",
     "text": [
      "        56   128  256\n",
      "0.1  0.8337  NaN  NaN\n",
      "0.2     NaN  NaN  NaN\n",
      "0.3     NaN  NaN  NaN\n",
      "NLPmodel(\n",
      "  (emb): Embedding(19308, 56)\n",
      "  (rnn): GRU(56, 56, num_layers=3, batch_first=True, dropout=0.2)\n",
      "  (linear): Linear(in_features=56, out_features=4, bias=True)\n",
      ")\n"
     ]
    },
    {
     "name": "stderr",
     "output_type": "stream",
     "text": [
      "100%|██████████| 25/25 [00:00<00:00, 25.01it/s]\n",
      "100%|██████████| 25/25 [00:01<00:00, 24.96it/s]\n",
      "100%|██████████| 25/25 [00:01<00:00, 23.49it/s]\n",
      "100%|██████████| 25/25 [00:00<00:00, 25.12it/s]\n",
      "100%|██████████| 25/25 [00:01<00:00, 22.33it/s]\n",
      "100%|██████████| 25/25 [00:01<00:00, 21.66it/s]\n",
      "100%|██████████| 25/25 [00:00<00:00, 25.55it/s]\n",
      "100%|██████████| 25/25 [00:00<00:00, 29.57it/s]\n",
      "100%|██████████| 25/25 [00:00<00:00, 29.37it/s]\n",
      "100%|██████████| 25/25 [00:00<00:00, 28.47it/s]\n",
      "100%|██████████| 25/25 [00:00<00:00, 25.75it/s]\n",
      "100%|██████████| 25/25 [00:00<00:00, 25.00it/s]\n",
      "100%|██████████| 25/25 [00:01<00:00, 22.94it/s]\n",
      "100%|██████████| 25/25 [00:01<00:00, 24.08it/s]\n",
      "100%|██████████| 25/25 [00:01<00:00, 22.87it/s]\n",
      "100%|██████████| 25/25 [00:00<00:00, 28.01it/s]\n",
      "100%|██████████| 25/25 [00:00<00:00, 26.29it/s]\n",
      "100%|██████████| 25/25 [00:00<00:00, 25.35it/s]\n",
      "100%|██████████| 25/25 [00:01<00:00, 22.64it/s]\n",
      "100%|██████████| 25/25 [00:01<00:00, 24.65it/s]\n",
      "100%|██████████| 25/25 [00:00<00:00, 26.81it/s]\n",
      "100%|██████████| 25/25 [00:00<00:00, 26.67it/s]\n",
      "100%|██████████| 25/25 [00:01<00:00, 23.58it/s]\n",
      "100%|██████████| 25/25 [00:00<00:00, 25.89it/s]\n",
      "100%|██████████| 25/25 [00:01<00:00, 22.38it/s]\n",
      "100%|██████████| 25/25 [00:00<00:00, 26.19it/s]\n",
      "100%|██████████| 25/25 [00:01<00:00, 23.03it/s]\n",
      "100%|██████████| 25/25 [00:00<00:00, 26.70it/s]\n",
      "100%|██████████| 25/25 [00:00<00:00, 26.50it/s]\n",
      "100%|██████████| 25/25 [00:01<00:00, 24.88it/s]\n",
      "100%|██████████| 25/25 [00:00<00:00, 28.26it/s]\n",
      "100%|██████████| 25/25 [00:01<00:00, 24.60it/s]\n",
      "100%|██████████| 25/25 [00:01<00:00, 24.16it/s]\n",
      "100%|██████████| 25/25 [00:00<00:00, 32.03it/s]\n",
      "100%|██████████| 25/25 [00:00<00:00, 26.92it/s]\n",
      "100%|██████████| 25/25 [00:01<00:00, 23.54it/s]\n",
      "100%|██████████| 25/25 [00:01<00:00, 21.97it/s]\n",
      "100%|██████████| 25/25 [00:01<00:00, 22.35it/s]\n",
      "100%|██████████| 25/25 [00:01<00:00, 24.96it/s]\n",
      "100%|██████████| 25/25 [00:00<00:00, 29.78it/s]\n",
      "100%|██████████| 25/25 [00:01<00:00, 22.87it/s]\n",
      "100%|██████████| 25/25 [00:00<00:00, 27.62it/s]\n",
      "100%|██████████| 25/25 [00:00<00:00, 25.72it/s]\n",
      "100%|██████████| 25/25 [00:00<00:00, 26.44it/s]\n",
      "100%|██████████| 25/25 [00:00<00:00, 25.70it/s]\n",
      "100%|██████████| 25/25 [00:00<00:00, 26.60it/s]\n",
      "100%|██████████| 25/25 [00:01<00:00, 23.70it/s]\n",
      "100%|██████████| 25/25 [00:01<00:00, 24.23it/s]\n",
      "100%|██████████| 25/25 [00:01<00:00, 17.76it/s]\n",
      "100%|██████████| 25/25 [00:00<00:00, 29.39it/s]\n",
      "100%|██████████| 25/25 [00:01<00:00, 20.54it/s]\n",
      "100%|██████████| 25/25 [00:01<00:00, 22.61it/s]\n",
      "100%|██████████| 25/25 [00:00<00:00, 27.73it/s]\n",
      "100%|██████████| 25/25 [00:01<00:00, 23.37it/s]\n",
      "100%|██████████| 25/25 [00:01<00:00, 24.28it/s]\n",
      "100%|██████████| 25/25 [00:01<00:00, 23.09it/s]\n",
      "100%|██████████| 25/25 [00:01<00:00, 23.88it/s]\n",
      "100%|██████████| 25/25 [00:01<00:00, 21.68it/s]\n",
      "100%|██████████| 25/25 [00:00<00:00, 27.49it/s]\n",
      "100%|██████████| 25/25 [00:01<00:00, 24.86it/s]\n",
      "100%|██████████| 25/25 [00:00<00:00, 30.20it/s]\n",
      "100%|██████████| 25/25 [00:01<00:00, 21.00it/s]\n",
      "100%|██████████| 25/25 [00:01<00:00, 24.86it/s]\n",
      "100%|██████████| 25/25 [00:00<00:00, 30.09it/s]\n",
      "100%|██████████| 64/64 [01:27<00:00,  1.37s/it]\n",
      "2022-08-12 07:31:39.237 | INFO     | src.data.data_tools:dir_add_timestamp:67 - Logging to ../tune/20220812-0731\n"
     ]
    },
    {
     "name": "stdout",
     "output_type": "stream",
     "text": [
      "        56   128  256\n",
      "0.1  0.8337  NaN  NaN\n",
      "0.2  0.7883  NaN  NaN\n",
      "0.3     NaN  NaN  NaN\n",
      "NLPmodel(\n",
      "  (emb): Embedding(19308, 56)\n",
      "  (rnn): GRU(56, 56, num_layers=3, batch_first=True, dropout=0.3)\n",
      "  (linear): Linear(in_features=56, out_features=4, bias=True)\n",
      ")\n"
     ]
    },
    {
     "name": "stderr",
     "output_type": "stream",
     "text": [
      "100%|██████████| 25/25 [00:01<00:00, 22.92it/s]\n",
      "100%|██████████| 25/25 [00:00<00:00, 25.74it/s]\n",
      "100%|██████████| 25/25 [00:01<00:00, 23.20it/s]\n",
      "100%|██████████| 25/25 [00:00<00:00, 28.75it/s]\n",
      "100%|██████████| 25/25 [00:00<00:00, 26.77it/s]\n",
      "100%|██████████| 25/25 [00:00<00:00, 29.15it/s]\n",
      "100%|██████████| 25/25 [00:01<00:00, 19.62it/s]\n",
      "100%|██████████| 25/25 [00:01<00:00, 24.44it/s]\n",
      "100%|██████████| 25/25 [00:00<00:00, 25.30it/s]\n",
      "100%|██████████| 25/25 [00:00<00:00, 26.88it/s]\n",
      "100%|██████████| 25/25 [00:01<00:00, 24.89it/s]\n",
      "100%|██████████| 25/25 [00:01<00:00, 23.50it/s]\n",
      "100%|██████████| 25/25 [00:01<00:00, 23.13it/s]\n",
      "100%|██████████| 25/25 [00:00<00:00, 28.88it/s]\n",
      "100%|██████████| 25/25 [00:00<00:00, 28.68it/s]\n",
      "100%|██████████| 25/25 [00:00<00:00, 26.59it/s]\n",
      "100%|██████████| 25/25 [00:00<00:00, 25.31it/s]\n",
      "100%|██████████| 25/25 [00:01<00:00, 22.10it/s]\n",
      "100%|██████████| 25/25 [00:01<00:00, 23.05it/s]\n",
      "100%|██████████| 25/25 [00:00<00:00, 26.89it/s]\n",
      "100%|██████████| 25/25 [00:01<00:00, 24.28it/s]\n",
      "100%|██████████| 25/25 [00:00<00:00, 29.39it/s]\n",
      "100%|██████████| 25/25 [00:00<00:00, 27.31it/s]\n",
      "100%|██████████| 25/25 [00:00<00:00, 27.44it/s]\n",
      "100%|██████████| 25/25 [00:01<00:00, 23.71it/s]\n",
      "100%|██████████| 25/25 [00:00<00:00, 28.36it/s]\n",
      "100%|██████████| 25/25 [00:00<00:00, 26.71it/s]\n",
      "100%|██████████| 25/25 [00:00<00:00, 25.88it/s]\n",
      "100%|██████████| 25/25 [00:00<00:00, 25.36it/s]\n",
      "100%|██████████| 25/25 [00:00<00:00, 27.23it/s]\n",
      "100%|██████████| 25/25 [00:00<00:00, 28.48it/s]\n",
      "100%|██████████| 25/25 [00:01<00:00, 23.78it/s]\n",
      "100%|██████████| 25/25 [00:00<00:00, 25.88it/s]\n",
      "100%|██████████| 25/25 [00:01<00:00, 23.92it/s]\n",
      "100%|██████████| 25/25 [00:01<00:00, 23.80it/s]\n",
      "100%|██████████| 25/25 [00:00<00:00, 25.34it/s]\n",
      "100%|██████████| 25/25 [00:00<00:00, 25.64it/s]\n",
      "100%|██████████| 25/25 [00:01<00:00, 23.88it/s]\n",
      "100%|██████████| 25/25 [00:01<00:00, 23.51it/s]\n",
      "100%|██████████| 25/25 [00:01<00:00, 24.99it/s]\n",
      "100%|██████████| 25/25 [00:00<00:00, 26.66it/s]\n",
      "100%|██████████| 25/25 [00:00<00:00, 32.47it/s]\n",
      "100%|██████████| 25/25 [00:01<00:00, 20.64it/s]\n",
      "100%|██████████| 25/25 [00:00<00:00, 27.42it/s]\n",
      "100%|██████████| 25/25 [00:01<00:00, 22.02it/s]\n",
      "100%|██████████| 25/25 [00:00<00:00, 28.86it/s]\n",
      "100%|██████████| 25/25 [00:01<00:00, 23.89it/s]\n",
      "100%|██████████| 25/25 [00:00<00:00, 26.16it/s]\n",
      "100%|██████████| 25/25 [00:01<00:00, 22.82it/s]\n",
      "100%|██████████| 25/25 [00:00<00:00, 25.42it/s]\n",
      "100%|██████████| 25/25 [00:01<00:00, 22.57it/s]\n",
      "100%|██████████| 25/25 [00:01<00:00, 24.41it/s]\n",
      "100%|██████████| 25/25 [00:00<00:00, 26.54it/s]\n",
      "100%|██████████| 25/25 [00:00<00:00, 27.32it/s]\n",
      "100%|██████████| 25/25 [00:01<00:00, 21.72it/s]\n",
      "100%|██████████| 25/25 [00:00<00:00, 25.10it/s]\n",
      "100%|██████████| 25/25 [00:00<00:00, 28.73it/s]\n",
      "100%|██████████| 25/25 [00:00<00:00, 26.93it/s]\n",
      "100%|██████████| 25/25 [00:00<00:00, 26.16it/s]\n",
      "100%|██████████| 25/25 [00:01<00:00, 21.48it/s]\n",
      "100%|██████████| 25/25 [00:00<00:00, 27.36it/s]\n",
      "100%|██████████| 25/25 [00:01<00:00, 19.78it/s]\n",
      "100%|██████████| 25/25 [00:00<00:00, 29.46it/s]\n",
      "100%|██████████| 25/25 [00:01<00:00, 24.24it/s]\n",
      "100%|██████████| 64/64 [01:26<00:00,  1.35s/it]\n",
      "2022-08-12 07:33:05.686 | INFO     | src.data.data_tools:dir_add_timestamp:67 - Logging to ../tune/20220812-0733\n"
     ]
    },
    {
     "name": "stdout",
     "output_type": "stream",
     "text": [
      "        56   128  256\n",
      "0.1  0.8337  NaN  NaN\n",
      "0.2  0.7883  NaN  NaN\n",
      "0.3  0.8208  NaN  NaN\n",
      "NLPmodel(\n",
      "  (emb): Embedding(19308, 128)\n",
      "  (rnn): GRU(128, 128, num_layers=3, batch_first=True, dropout=0.1)\n",
      "  (linear): Linear(in_features=128, out_features=4, bias=True)\n",
      ")\n"
     ]
    },
    {
     "name": "stderr",
     "output_type": "stream",
     "text": [
      "100%|██████████| 25/25 [00:01<00:00, 15.81it/s]\n",
      "100%|██████████| 25/25 [00:01<00:00, 17.37it/s]\n",
      "100%|██████████| 25/25 [00:01<00:00, 17.24it/s]\n",
      "100%|██████████| 25/25 [00:01<00:00, 20.85it/s]\n",
      "100%|██████████| 25/25 [00:01<00:00, 16.54it/s]\n",
      "100%|██████████| 25/25 [00:01<00:00, 17.30it/s]\n",
      "100%|██████████| 25/25 [00:01<00:00, 16.05it/s]\n",
      "100%|██████████| 25/25 [00:01<00:00, 17.45it/s]\n",
      "100%|██████████| 25/25 [00:01<00:00, 16.59it/s]\n",
      "100%|██████████| 25/25 [00:01<00:00, 17.52it/s]\n",
      "100%|██████████| 25/25 [00:01<00:00, 18.15it/s]\n",
      "100%|██████████| 25/25 [00:01<00:00, 19.46it/s]\n",
      "100%|██████████| 25/25 [00:01<00:00, 17.60it/s]\n",
      "100%|██████████| 25/25 [00:01<00:00, 17.28it/s]\n",
      "100%|██████████| 25/25 [00:01<00:00, 20.36it/s]\n",
      "100%|██████████| 25/25 [00:01<00:00, 19.30it/s]\n",
      "100%|██████████| 25/25 [00:01<00:00, 14.99it/s]\n",
      "100%|██████████| 25/25 [00:01<00:00, 16.90it/s]\n",
      "100%|██████████| 25/25 [00:01<00:00, 17.15it/s]\n",
      "100%|██████████| 25/25 [00:01<00:00, 15.94it/s]\n",
      "100%|██████████| 25/25 [00:01<00:00, 17.28it/s]\n",
      "100%|██████████| 25/25 [00:01<00:00, 15.48it/s]\n",
      "100%|██████████| 25/25 [00:01<00:00, 20.86it/s]\n",
      "100%|██████████| 25/25 [00:01<00:00, 21.30it/s]\n",
      "100%|██████████| 25/25 [00:01<00:00, 18.21it/s]\n",
      "100%|██████████| 25/25 [00:01<00:00, 19.48it/s]\n",
      "100%|██████████| 25/25 [00:01<00:00, 20.86it/s]\n",
      "100%|██████████| 25/25 [00:01<00:00, 18.10it/s]\n",
      "100%|██████████| 25/25 [00:01<00:00, 19.55it/s]\n",
      "100%|██████████| 25/25 [00:01<00:00, 17.44it/s]\n",
      "100%|██████████| 25/25 [00:01<00:00, 14.97it/s]\n",
      "100%|██████████| 25/25 [00:01<00:00, 17.52it/s]\n",
      "100%|██████████| 25/25 [00:01<00:00, 17.11it/s]\n",
      "100%|██████████| 25/25 [00:01<00:00, 18.52it/s]\n",
      "100%|██████████| 25/25 [00:01<00:00, 16.83it/s]\n",
      "100%|██████████| 25/25 [00:01<00:00, 19.50it/s]\n",
      "100%|██████████| 25/25 [00:01<00:00, 17.85it/s]\n",
      "100%|██████████| 25/25 [00:01<00:00, 15.37it/s]\n",
      "100%|██████████| 25/25 [00:01<00:00, 16.37it/s]\n",
      "100%|██████████| 25/25 [00:01<00:00, 19.30it/s]\n",
      "100%|██████████| 25/25 [00:01<00:00, 16.35it/s]\n",
      "100%|██████████| 25/25 [00:01<00:00, 14.60it/s]\n",
      "100%|██████████| 25/25 [00:01<00:00, 16.24it/s]\n",
      "100%|██████████| 25/25 [00:01<00:00, 17.12it/s]\n",
      "100%|██████████| 25/25 [00:01<00:00, 17.25it/s]\n",
      "100%|██████████| 25/25 [00:01<00:00, 17.48it/s]\n",
      "100%|██████████| 25/25 [00:01<00:00, 15.20it/s]\n",
      "100%|██████████| 25/25 [00:01<00:00, 16.19it/s]\n",
      "100%|██████████| 25/25 [00:01<00:00, 17.14it/s]\n",
      "100%|██████████| 25/25 [00:01<00:00, 17.28it/s]\n",
      "100%|██████████| 25/25 [00:01<00:00, 17.75it/s]\n",
      "100%|██████████| 25/25 [00:01<00:00, 18.61it/s]\n",
      "100%|██████████| 25/25 [00:01<00:00, 16.60it/s]\n",
      "100%|██████████| 25/25 [00:01<00:00, 16.97it/s]\n",
      "100%|██████████| 25/25 [00:01<00:00, 15.84it/s]\n",
      "100%|██████████| 25/25 [00:01<00:00, 17.42it/s]\n",
      "100%|██████████| 25/25 [00:01<00:00, 14.23it/s]\n",
      "100%|██████████| 25/25 [00:01<00:00, 17.21it/s]\n",
      "100%|██████████| 25/25 [00:01<00:00, 16.92it/s]\n",
      "100%|██████████| 25/25 [00:01<00:00, 19.06it/s]\n",
      "100%|██████████| 25/25 [00:01<00:00, 19.53it/s]\n",
      "100%|██████████| 25/25 [00:01<00:00, 18.72it/s]\n",
      "100%|██████████| 25/25 [00:01<00:00, 16.41it/s]\n",
      "100%|██████████| 25/25 [00:01<00:00, 17.03it/s]\n",
      "100%|██████████| 64/64 [02:00<00:00,  1.88s/it]\n",
      "2022-08-12 07:35:05.730 | INFO     | src.data.data_tools:dir_add_timestamp:67 - Logging to ../tune/20220812-0735\n"
     ]
    },
    {
     "name": "stdout",
     "output_type": "stream",
     "text": [
      "        56      128  256\n",
      "0.1  0.8337  0.7833  NaN\n",
      "0.2  0.7883     NaN  NaN\n",
      "0.3  0.8208     NaN  NaN\n",
      "NLPmodel(\n",
      "  (emb): Embedding(19308, 128)\n",
      "  (rnn): GRU(128, 128, num_layers=3, batch_first=True, dropout=0.2)\n",
      "  (linear): Linear(in_features=128, out_features=4, bias=True)\n",
      ")\n"
     ]
    },
    {
     "name": "stderr",
     "output_type": "stream",
     "text": [
      "100%|██████████| 25/25 [00:01<00:00, 14.93it/s]\n",
      "100%|██████████| 25/25 [00:01<00:00, 15.52it/s]\n",
      "100%|██████████| 25/25 [00:01<00:00, 14.09it/s]\n",
      "100%|██████████| 25/25 [00:01<00:00, 18.14it/s]\n",
      "100%|██████████| 25/25 [00:01<00:00, 17.32it/s]\n",
      "100%|██████████| 25/25 [00:01<00:00, 15.62it/s]\n",
      "100%|██████████| 25/25 [00:01<00:00, 17.90it/s]\n",
      "100%|██████████| 25/25 [00:01<00:00, 17.38it/s]\n",
      "100%|██████████| 25/25 [00:01<00:00, 18.12it/s]\n",
      "100%|██████████| 25/25 [00:01<00:00, 15.69it/s]\n",
      "100%|██████████| 25/25 [00:01<00:00, 17.06it/s]\n",
      "100%|██████████| 25/25 [00:01<00:00, 19.11it/s]\n",
      "100%|██████████| 25/25 [00:01<00:00, 14.87it/s]\n",
      "100%|██████████| 25/25 [00:01<00:00, 17.02it/s]\n",
      "100%|██████████| 25/25 [00:01<00:00, 16.57it/s]\n",
      "100%|██████████| 25/25 [00:01<00:00, 16.74it/s]\n",
      "100%|██████████| 25/25 [00:01<00:00, 21.38it/s]\n",
      "100%|██████████| 25/25 [00:01<00:00, 15.89it/s]\n",
      "100%|██████████| 25/25 [00:01<00:00, 18.81it/s]\n",
      "100%|██████████| 25/25 [00:01<00:00, 17.47it/s]\n",
      "100%|██████████| 25/25 [00:01<00:00, 18.32it/s]\n",
      "100%|██████████| 25/25 [00:01<00:00, 15.69it/s]\n",
      "100%|██████████| 25/25 [00:01<00:00, 14.48it/s]\n",
      "100%|██████████| 25/25 [00:01<00:00, 19.29it/s]\n",
      "100%|██████████| 25/25 [00:01<00:00, 15.78it/s]\n",
      "100%|██████████| 25/25 [00:01<00:00, 15.39it/s]\n",
      "100%|██████████| 25/25 [00:01<00:00, 14.57it/s]\n",
      "100%|██████████| 25/25 [00:01<00:00, 16.82it/s]\n",
      "100%|██████████| 25/25 [00:01<00:00, 16.26it/s]\n",
      "100%|██████████| 25/25 [00:01<00:00, 21.02it/s]\n",
      "100%|██████████| 25/25 [00:01<00:00, 14.37it/s]\n",
      "100%|██████████| 25/25 [00:01<00:00, 17.62it/s]\n",
      "100%|██████████| 25/25 [00:01<00:00, 17.34it/s]\n",
      "100%|██████████| 25/25 [00:01<00:00, 16.81it/s]\n",
      "100%|██████████| 25/25 [00:01<00:00, 17.62it/s]\n",
      "100%|██████████| 25/25 [00:01<00:00, 16.10it/s]\n",
      "100%|██████████| 25/25 [00:01<00:00, 15.59it/s]\n",
      "100%|██████████| 25/25 [00:01<00:00, 18.34it/s]\n",
      "100%|██████████| 25/25 [00:01<00:00, 17.90it/s]\n",
      "100%|██████████| 25/25 [00:01<00:00, 18.39it/s]\n",
      "100%|██████████| 25/25 [00:01<00:00, 18.37it/s]\n",
      "100%|██████████| 25/25 [00:01<00:00, 14.85it/s]\n",
      "100%|██████████| 25/25 [00:01<00:00, 16.10it/s]\n",
      "100%|██████████| 25/25 [00:01<00:00, 17.44it/s]\n",
      "100%|██████████| 25/25 [00:01<00:00, 15.53it/s]\n",
      "100%|██████████| 25/25 [00:01<00:00, 17.22it/s]\n",
      "100%|██████████| 25/25 [00:01<00:00, 17.27it/s]\n",
      "100%|██████████| 25/25 [00:01<00:00, 15.33it/s]\n",
      "100%|██████████| 25/25 [00:01<00:00, 15.13it/s]\n",
      "100%|██████████| 25/25 [00:01<00:00, 17.42it/s]\n",
      "100%|██████████| 25/25 [00:01<00:00, 17.84it/s]\n",
      "100%|██████████| 25/25 [00:01<00:00, 17.81it/s]\n",
      "100%|██████████| 25/25 [00:01<00:00, 18.05it/s]\n",
      "100%|██████████| 25/25 [00:01<00:00, 18.60it/s]\n",
      "100%|██████████| 25/25 [00:01<00:00, 16.59it/s]\n",
      "100%|██████████| 25/25 [00:01<00:00, 18.94it/s]\n",
      "100%|██████████| 25/25 [00:01<00:00, 19.77it/s]\n",
      "100%|██████████| 25/25 [00:01<00:00, 17.95it/s]\n",
      "100%|██████████| 25/25 [00:01<00:00, 14.42it/s]\n",
      "100%|██████████| 25/25 [00:01<00:00, 16.71it/s]\n",
      "100%|██████████| 25/25 [00:01<00:00, 17.16it/s]\n",
      "100%|██████████| 25/25 [00:01<00:00, 16.16it/s]\n",
      "100%|██████████| 25/25 [00:01<00:00, 16.76it/s]\n",
      "100%|██████████| 25/25 [00:01<00:00, 21.37it/s]\n",
      "100%|██████████| 64/64 [02:03<00:00,  1.93s/it]\n",
      "2022-08-12 07:37:09.450 | INFO     | src.data.data_tools:dir_add_timestamp:67 - Logging to ../tune/20220812-0737\n"
     ]
    },
    {
     "name": "stdout",
     "output_type": "stream",
     "text": [
      "        56      128  256\n",
      "0.1  0.8337  0.7833  NaN\n",
      "0.2  0.7883  0.8421  NaN\n",
      "0.3  0.8208     NaN  NaN\n",
      "NLPmodel(\n",
      "  (emb): Embedding(19308, 128)\n",
      "  (rnn): GRU(128, 128, num_layers=3, batch_first=True, dropout=0.3)\n",
      "  (linear): Linear(in_features=128, out_features=4, bias=True)\n",
      ")\n"
     ]
    },
    {
     "name": "stderr",
     "output_type": "stream",
     "text": [
      "100%|██████████| 25/25 [00:01<00:00, 16.04it/s]\n",
      "100%|██████████| 25/25 [00:01<00:00, 15.67it/s]\n",
      "100%|██████████| 25/25 [00:01<00:00, 15.66it/s]\n",
      "100%|██████████| 25/25 [00:01<00:00, 16.37it/s]\n",
      "100%|██████████| 25/25 [00:01<00:00, 19.51it/s]\n",
      "100%|██████████| 25/25 [00:01<00:00, 19.82it/s]\n",
      "100%|██████████| 25/25 [00:01<00:00, 18.32it/s]\n",
      "100%|██████████| 25/25 [00:01<00:00, 18.17it/s]\n",
      "100%|██████████| 25/25 [00:01<00:00, 17.76it/s]\n",
      "100%|██████████| 25/25 [00:01<00:00, 14.44it/s]\n",
      "100%|██████████| 25/25 [00:01<00:00, 20.68it/s]\n",
      "100%|██████████| 25/25 [00:01<00:00, 13.82it/s]\n",
      "100%|██████████| 25/25 [00:01<00:00, 15.69it/s]\n",
      "100%|██████████| 25/25 [00:01<00:00, 17.29it/s]\n",
      "100%|██████████| 25/25 [00:01<00:00, 16.42it/s]\n",
      "100%|██████████| 25/25 [00:01<00:00, 16.23it/s]\n",
      "100%|██████████| 25/25 [00:01<00:00, 17.24it/s]\n",
      "100%|██████████| 25/25 [00:01<00:00, 17.80it/s]\n",
      "100%|██████████| 25/25 [00:01<00:00, 16.50it/s]\n",
      "100%|██████████| 25/25 [00:01<00:00, 15.17it/s]\n",
      "100%|██████████| 25/25 [00:01<00:00, 18.19it/s]\n",
      "100%|██████████| 25/25 [00:01<00:00, 17.44it/s]\n",
      "100%|██████████| 25/25 [00:01<00:00, 14.74it/s]\n",
      "100%|██████████| 25/25 [00:01<00:00, 18.95it/s]\n",
      "100%|██████████| 25/25 [00:01<00:00, 17.92it/s]\n",
      "100%|██████████| 25/25 [00:01<00:00, 16.89it/s]\n",
      "100%|██████████| 25/25 [00:01<00:00, 19.33it/s]\n",
      "100%|██████████| 25/25 [00:01<00:00, 15.39it/s]\n",
      "100%|██████████| 25/25 [00:01<00:00, 19.32it/s]\n",
      "100%|██████████| 25/25 [00:01<00:00, 19.05it/s]\n",
      "100%|██████████| 25/25 [00:01<00:00, 15.48it/s]\n",
      "100%|██████████| 25/25 [00:01<00:00, 17.86it/s]\n",
      "100%|██████████| 25/25 [00:01<00:00, 17.48it/s]\n",
      "100%|██████████| 25/25 [00:01<00:00, 21.04it/s]\n",
      "100%|██████████| 25/25 [00:01<00:00, 18.68it/s]\n",
      "100%|██████████| 25/25 [00:01<00:00, 17.25it/s]\n",
      "100%|██████████| 25/25 [00:01<00:00, 16.55it/s]\n",
      "100%|██████████| 25/25 [00:01<00:00, 18.74it/s]\n",
      "100%|██████████| 25/25 [00:01<00:00, 19.77it/s]\n",
      "100%|██████████| 25/25 [00:01<00:00, 16.65it/s]\n",
      "100%|██████████| 25/25 [00:01<00:00, 16.81it/s]\n",
      "100%|██████████| 25/25 [00:01<00:00, 16.14it/s]\n",
      "100%|██████████| 25/25 [00:01<00:00, 17.02it/s]\n",
      "100%|██████████| 25/25 [00:01<00:00, 17.99it/s]\n",
      "100%|██████████| 25/25 [00:01<00:00, 16.31it/s]\n",
      "100%|██████████| 25/25 [00:01<00:00, 18.65it/s]\n",
      "100%|██████████| 25/25 [00:01<00:00, 17.12it/s]\n",
      "100%|██████████| 25/25 [00:01<00:00, 15.38it/s]\n",
      "100%|██████████| 25/25 [00:01<00:00, 17.25it/s]\n",
      "100%|██████████| 25/25 [00:01<00:00, 18.55it/s]\n",
      "100%|██████████| 25/25 [00:01<00:00, 18.67it/s]\n",
      "100%|██████████| 25/25 [00:01<00:00, 15.93it/s]\n",
      "100%|██████████| 25/25 [00:01<00:00, 15.94it/s]\n",
      "100%|██████████| 25/25 [00:01<00:00, 18.25it/s]\n",
      "100%|██████████| 25/25 [00:01<00:00, 17.21it/s]\n",
      "100%|██████████| 25/25 [00:01<00:00, 18.46it/s]\n",
      "100%|██████████| 25/25 [00:01<00:00, 15.76it/s]\n",
      "100%|██████████| 25/25 [00:01<00:00, 14.30it/s]\n",
      "100%|██████████| 25/25 [00:01<00:00, 17.36it/s]\n",
      "100%|██████████| 25/25 [00:01<00:00, 12.64it/s]\n",
      "100%|██████████| 25/25 [00:01<00:00, 18.68it/s]\n",
      "100%|██████████| 25/25 [00:01<00:00, 17.31it/s]\n",
      "100%|██████████| 25/25 [00:01<00:00, 17.20it/s]\n",
      "100%|██████████| 25/25 [00:01<00:00, 17.83it/s]\n",
      "100%|██████████| 64/64 [02:01<00:00,  1.90s/it]\n",
      "2022-08-12 07:39:10.968 | INFO     | src.data.data_tools:dir_add_timestamp:67 - Logging to ../tune/20220812-0739\n"
     ]
    },
    {
     "name": "stdout",
     "output_type": "stream",
     "text": [
      "        56      128  256\n",
      "0.1  0.8337  0.7833  NaN\n",
      "0.2  0.7883  0.8421  NaN\n",
      "0.3  0.8208  0.8458  NaN\n",
      "NLPmodel(\n",
      "  (emb): Embedding(19308, 256)\n",
      "  (rnn): GRU(256, 256, num_layers=3, batch_first=True, dropout=0.1)\n",
      "  (linear): Linear(in_features=256, out_features=4, bias=True)\n",
      ")\n"
     ]
    },
    {
     "name": "stderr",
     "output_type": "stream",
     "text": [
      "100%|██████████| 25/25 [00:14<00:00,  1.77it/s]\n",
      "100%|██████████| 25/25 [00:13<00:00,  1.81it/s]\n",
      "100%|██████████| 25/25 [00:12<00:00,  2.00it/s]\n",
      "100%|██████████| 25/25 [00:13<00:00,  1.89it/s]\n",
      "100%|██████████| 25/25 [00:13<00:00,  1.90it/s]\n",
      "100%|██████████| 25/25 [00:12<00:00,  1.95it/s]\n",
      "100%|██████████| 25/25 [00:13<00:00,  1.90it/s]\n",
      "100%|██████████| 25/25 [00:14<00:00,  1.76it/s]\n",
      "100%|██████████| 25/25 [00:14<00:00,  1.73it/s]\n",
      "100%|██████████| 25/25 [00:13<00:00,  1.90it/s]\n",
      "100%|██████████| 25/25 [00:12<00:00,  1.94it/s]\n",
      "100%|██████████| 25/25 [00:12<00:00,  2.02it/s]\n",
      "100%|██████████| 25/25 [00:12<00:00,  1.96it/s]\n",
      "100%|██████████| 25/25 [00:13<00:00,  1.83it/s]\n",
      "100%|██████████| 25/25 [00:13<00:00,  1.86it/s]\n",
      "100%|██████████| 25/25 [00:13<00:00,  1.92it/s]\n",
      "100%|██████████| 25/25 [00:13<00:00,  1.82it/s]\n",
      "100%|██████████| 25/25 [00:14<00:00,  1.76it/s]\n",
      "100%|██████████| 25/25 [00:13<00:00,  1.81it/s]\n",
      "100%|██████████| 25/25 [00:12<00:00,  2.01it/s]\n",
      "100%|██████████| 25/25 [00:12<00:00,  2.02it/s]\n",
      "100%|██████████| 25/25 [00:13<00:00,  1.90it/s]\n",
      "100%|██████████| 25/25 [00:16<00:00,  1.54it/s]\n",
      "100%|██████████| 25/25 [00:13<00:00,  1.83it/s]\n",
      "100%|██████████| 25/25 [00:13<00:00,  1.90it/s]\n",
      "100%|██████████| 25/25 [00:14<00:00,  1.76it/s]\n",
      "100%|██████████| 25/25 [00:12<00:00,  1.98it/s]\n",
      "100%|██████████| 25/25 [00:13<00:00,  1.84it/s]\n",
      "100%|██████████| 25/25 [00:13<00:00,  1.92it/s]\n",
      "100%|██████████| 25/25 [00:12<00:00,  1.96it/s]\n",
      "100%|██████████| 25/25 [00:12<00:00,  1.97it/s]\n",
      "100%|██████████| 25/25 [00:13<00:00,  1.87it/s]\n",
      "100%|██████████| 25/25 [00:14<00:00,  1.71it/s]\n",
      "100%|██████████| 25/25 [00:12<00:00,  1.97it/s]\n",
      "100%|██████████| 25/25 [00:12<00:00,  1.97it/s]\n",
      "100%|██████████| 25/25 [00:13<00:00,  1.83it/s]\n",
      "100%|██████████| 25/25 [00:13<00:00,  1.90it/s]\n",
      "100%|██████████| 25/25 [00:11<00:00,  2.10it/s]\n",
      "100%|██████████| 25/25 [00:12<00:00,  2.02it/s]\n",
      "100%|██████████| 25/25 [00:12<00:00,  2.06it/s]\n",
      "100%|██████████| 25/25 [00:12<00:00,  1.95it/s]\n",
      "100%|██████████| 25/25 [00:14<00:00,  1.76it/s]\n",
      "100%|██████████| 25/25 [00:12<00:00,  1.95it/s]\n",
      "100%|██████████| 25/25 [00:13<00:00,  1.90it/s]\n",
      "100%|██████████| 25/25 [00:13<00:00,  1.79it/s]\n",
      "100%|██████████| 25/25 [00:14<00:00,  1.77it/s]\n",
      "100%|██████████| 25/25 [00:13<00:00,  1.82it/s]\n",
      "100%|██████████| 25/25 [00:12<00:00,  1.94it/s]\n",
      "100%|██████████| 25/25 [00:13<00:00,  1.86it/s]\n",
      "100%|██████████| 25/25 [00:13<00:00,  1.92it/s]\n",
      "100%|██████████| 25/25 [00:14<00:00,  1.75it/s]\n",
      "100%|██████████| 25/25 [00:14<00:00,  1.74it/s]\n",
      "100%|██████████| 25/25 [00:13<00:00,  1.90it/s]\n",
      "100%|██████████| 25/25 [00:13<00:00,  1.83it/s]\n",
      "100%|██████████| 25/25 [00:13<00:00,  1.83it/s]\n",
      "100%|██████████| 25/25 [00:14<00:00,  1.75it/s]\n",
      "100%|██████████| 25/25 [00:12<00:00,  1.98it/s]\n",
      "100%|██████████| 25/25 [00:14<00:00,  1.77it/s]\n",
      "100%|██████████| 25/25 [00:13<00:00,  1.80it/s]\n",
      "100%|██████████| 25/25 [00:13<00:00,  1.80it/s]\n",
      "100%|██████████| 25/25 [00:14<00:00,  1.76it/s]\n",
      "100%|██████████| 25/25 [00:13<00:00,  1.79it/s]\n",
      "100%|██████████| 25/25 [00:12<00:00,  1.93it/s]\n",
      "100%|██████████| 25/25 [00:15<00:00,  1.65it/s]\n",
      "100%|██████████| 64/64 [26:42<00:00, 25.04s/it]\n",
      "2022-08-12 08:05:53.272 | INFO     | src.data.data_tools:dir_add_timestamp:67 - Logging to ../tune/20220812-0805\n"
     ]
    },
    {
     "name": "stdout",
     "output_type": "stream",
     "text": [
      "        56      128     256\n",
      "0.1  0.8337  0.7833  0.8350\n",
      "0.2  0.7883  0.8421     NaN\n",
      "0.3  0.8208  0.8458     NaN\n",
      "NLPmodel(\n",
      "  (emb): Embedding(19308, 256)\n",
      "  (rnn): GRU(256, 256, num_layers=3, batch_first=True, dropout=0.2)\n",
      "  (linear): Linear(in_features=256, out_features=4, bias=True)\n",
      ")\n"
     ]
    },
    {
     "name": "stderr",
     "output_type": "stream",
     "text": [
      "100%|██████████| 25/25 [00:13<00:00,  1.84it/s]\n",
      "100%|██████████| 25/25 [00:12<00:00,  2.01it/s]\n",
      "100%|██████████| 25/25 [00:13<00:00,  1.89it/s]\n",
      "100%|██████████| 25/25 [00:12<00:00,  2.00it/s]\n",
      "100%|██████████| 25/25 [00:12<00:00,  2.03it/s]\n",
      "100%|██████████| 25/25 [00:13<00:00,  1.81it/s]\n",
      "100%|██████████| 25/25 [00:14<00:00,  1.71it/s]\n",
      "100%|██████████| 25/25 [00:12<00:00,  2.01it/s]\n",
      "100%|██████████| 25/25 [00:14<00:00,  1.76it/s]\n",
      "100%|██████████| 25/25 [00:13<00:00,  1.91it/s]\n",
      "100%|██████████| 25/25 [00:12<00:00,  2.06it/s]\n",
      "100%|██████████| 25/25 [00:13<00:00,  1.85it/s]\n",
      "100%|██████████| 25/25 [00:13<00:00,  1.86it/s]\n",
      "100%|██████████| 25/25 [00:13<00:00,  1.83it/s]\n",
      "100%|██████████| 25/25 [00:13<00:00,  1.82it/s]\n",
      "100%|██████████| 25/25 [00:12<00:00,  1.97it/s]\n",
      "100%|██████████| 25/25 [00:12<00:00,  2.06it/s]\n",
      "100%|██████████| 25/25 [00:13<00:00,  1.89it/s]\n",
      "100%|██████████| 25/25 [00:14<00:00,  1.78it/s]\n",
      "100%|██████████| 25/25 [00:13<00:00,  1.92it/s]\n",
      "100%|██████████| 25/25 [00:14<00:00,  1.77it/s]\n",
      "100%|██████████| 25/25 [00:14<00:00,  1.78it/s]\n",
      "100%|██████████| 25/25 [00:12<00:00,  2.05it/s]\n",
      "100%|██████████| 25/25 [00:12<00:00,  1.95it/s]\n",
      "100%|██████████| 25/25 [00:13<00:00,  1.90it/s]\n",
      "100%|██████████| 25/25 [00:13<00:00,  1.83it/s]\n",
      "100%|██████████| 25/25 [00:13<00:00,  1.87it/s]\n",
      "100%|██████████| 25/25 [00:14<00:00,  1.78it/s]\n",
      "100%|██████████| 25/25 [00:14<00:00,  1.76it/s]\n",
      "100%|██████████| 25/25 [00:12<00:00,  2.03it/s]\n",
      "100%|██████████| 25/25 [00:12<00:00,  2.03it/s]\n",
      "100%|██████████| 25/25 [00:12<00:00,  1.98it/s]\n",
      "100%|██████████| 25/25 [00:13<00:00,  1.81it/s]\n",
      "100%|██████████| 25/25 [00:14<00:00,  1.72it/s]\n",
      "100%|██████████| 25/25 [00:16<00:00,  1.55it/s]\n",
      "100%|██████████| 25/25 [00:13<00:00,  1.86it/s]\n",
      "100%|██████████| 25/25 [00:12<00:00,  2.02it/s]\n",
      "100%|██████████| 25/25 [00:12<00:00,  1.93it/s]\n",
      "100%|██████████| 25/25 [00:13<00:00,  1.85it/s]\n",
      "100%|██████████| 25/25 [00:13<00:00,  1.91it/s]\n",
      "100%|██████████| 25/25 [00:13<00:00,  1.86it/s]\n",
      "100%|██████████| 25/25 [00:13<00:00,  1.88it/s]\n",
      "100%|██████████| 25/25 [00:13<00:00,  1.79it/s]\n",
      "100%|██████████| 25/25 [00:12<00:00,  2.00it/s]\n",
      "100%|██████████| 25/25 [00:12<00:00,  1.99it/s]\n",
      "100%|██████████| 25/25 [00:13<00:00,  1.81it/s]\n",
      "100%|██████████| 25/25 [00:13<00:00,  1.85it/s]\n",
      "100%|██████████| 25/25 [00:13<00:00,  1.83it/s]\n",
      "100%|██████████| 25/25 [00:14<00:00,  1.77it/s]\n",
      "100%|██████████| 25/25 [00:13<00:00,  1.89it/s]\n",
      "100%|██████████| 25/25 [00:13<00:00,  1.83it/s]\n",
      "100%|██████████| 25/25 [00:14<00:00,  1.75it/s]\n",
      "100%|██████████| 25/25 [00:13<00:00,  1.85it/s]\n",
      "100%|██████████| 25/25 [00:13<00:00,  1.90it/s]\n",
      "100%|██████████| 25/25 [00:13<00:00,  1.86it/s]\n",
      "100%|██████████| 25/25 [00:12<00:00,  1.99it/s]\n",
      "100%|██████████| 25/25 [00:14<00:00,  1.67it/s]\n",
      "100%|██████████| 25/25 [00:13<00:00,  1.82it/s]\n",
      "100%|██████████| 25/25 [00:14<00:00,  1.71it/s]\n",
      "100%|██████████| 25/25 [00:12<00:00,  2.02it/s]\n",
      "100%|██████████| 25/25 [00:13<00:00,  1.87it/s]\n",
      "100%|██████████| 25/25 [00:13<00:00,  1.89it/s]\n",
      "100%|██████████| 25/25 [00:12<00:00,  1.93it/s]\n",
      "100%|██████████| 25/25 [00:14<00:00,  1.78it/s]\n",
      "100%|██████████| 64/64 [26:41<00:00, 25.02s/it]\n",
      "2022-08-12 08:32:34.837 | INFO     | src.data.data_tools:dir_add_timestamp:67 - Logging to ../tune/20220812-0832\n"
     ]
    },
    {
     "name": "stdout",
     "output_type": "stream",
     "text": [
      "        56      128     256\n",
      "0.1  0.8337  0.7833  0.8350\n",
      "0.2  0.7883  0.8421  0.8511\n",
      "0.3  0.8208  0.8458     NaN\n",
      "NLPmodel(\n",
      "  (emb): Embedding(19308, 256)\n",
      "  (rnn): GRU(256, 256, num_layers=3, batch_first=True, dropout=0.3)\n",
      "  (linear): Linear(in_features=256, out_features=4, bias=True)\n",
      ")\n"
     ]
    },
    {
     "name": "stderr",
     "output_type": "stream",
     "text": [
      "100%|██████████| 25/25 [00:12<00:00,  2.01it/s]\n",
      "100%|██████████| 25/25 [00:13<00:00,  1.86it/s]\n",
      "100%|██████████| 25/25 [00:13<00:00,  1.89it/s]\n",
      "100%|██████████| 25/25 [00:12<00:00,  1.95it/s]\n",
      "100%|██████████| 25/25 [00:13<00:00,  1.90it/s]\n",
      "100%|██████████| 25/25 [00:14<00:00,  1.68it/s]\n",
      "100%|██████████| 25/25 [00:12<00:00,  1.99it/s]\n",
      "100%|██████████| 25/25 [00:13<00:00,  1.80it/s]\n",
      "100%|██████████| 25/25 [00:13<00:00,  1.81it/s]\n",
      "100%|██████████| 25/25 [00:13<00:00,  1.86it/s]\n",
      "100%|██████████| 25/25 [00:12<00:00,  1.94it/s]\n",
      "100%|██████████| 25/25 [00:13<00:00,  1.84it/s]\n",
      "100%|██████████| 25/25 [00:13<00:00,  1.79it/s]\n",
      "100%|██████████| 25/25 [00:13<00:00,  1.81it/s]\n",
      "100%|██████████| 25/25 [00:13<00:00,  1.81it/s]\n",
      "100%|██████████| 25/25 [00:13<00:00,  1.87it/s]\n",
      "100%|██████████| 25/25 [00:13<00:00,  1.90it/s]\n",
      "100%|██████████| 25/25 [00:11<00:00,  2.10it/s]\n",
      "100%|██████████| 25/25 [00:13<00:00,  1.80it/s]\n",
      "100%|██████████| 25/25 [00:12<00:00,  1.98it/s]\n",
      "100%|██████████| 25/25 [00:12<00:00,  2.04it/s]\n",
      "100%|██████████| 25/25 [00:13<00:00,  1.90it/s]\n",
      "100%|██████████| 25/25 [00:12<00:00,  1.98it/s]\n",
      "100%|██████████| 25/25 [00:12<00:00,  1.96it/s]\n",
      "100%|██████████| 25/25 [00:13<00:00,  1.91it/s]\n",
      "100%|██████████| 25/25 [00:12<00:00,  1.95it/s]\n",
      "100%|██████████| 25/25 [00:13<00:00,  1.91it/s]\n",
      "100%|██████████| 25/25 [00:14<00:00,  1.77it/s]\n",
      "100%|██████████| 25/25 [00:13<00:00,  1.83it/s]\n",
      "100%|██████████| 25/25 [00:13<00:00,  1.85it/s]\n",
      "100%|██████████| 25/25 [00:12<00:00,  1.99it/s]\n",
      "100%|██████████| 25/25 [00:12<00:00,  1.99it/s]\n",
      "100%|██████████| 25/25 [00:12<00:00,  2.04it/s]\n",
      "100%|██████████| 25/25 [00:14<00:00,  1.78it/s]\n",
      "100%|██████████| 25/25 [00:13<00:00,  1.81it/s]\n",
      "100%|██████████| 25/25 [00:14<00:00,  1.73it/s]\n",
      "100%|██████████| 25/25 [00:12<00:00,  2.02it/s]\n",
      "100%|██████████| 25/25 [00:12<00:00,  1.99it/s]\n",
      "100%|██████████| 25/25 [00:13<00:00,  1.79it/s]\n",
      "100%|██████████| 25/25 [00:15<00:00,  1.58it/s]\n",
      "100%|██████████| 25/25 [00:12<00:00,  1.98it/s]\n",
      "100%|██████████| 25/25 [00:13<00:00,  1.80it/s]\n",
      "100%|██████████| 25/25 [00:13<00:00,  1.82it/s]\n",
      "100%|██████████| 25/25 [00:13<00:00,  1.90it/s]\n",
      "100%|██████████| 25/25 [00:11<00:00,  2.10it/s]\n",
      "100%|██████████| 25/25 [00:13<00:00,  1.90it/s]\n",
      "100%|██████████| 25/25 [00:12<00:00,  1.94it/s]\n",
      "100%|██████████| 25/25 [00:12<00:00,  1.98it/s]\n",
      "100%|██████████| 25/25 [00:14<00:00,  1.73it/s]\n",
      "100%|██████████| 25/25 [00:13<00:00,  1.79it/s]\n",
      "100%|██████████| 25/25 [00:13<00:00,  1.87it/s]\n",
      "100%|██████████| 25/25 [00:14<00:00,  1.78it/s]\n",
      "100%|██████████| 25/25 [00:12<00:00,  1.97it/s]\n",
      "100%|██████████| 25/25 [00:13<00:00,  1.79it/s]\n",
      "100%|██████████| 25/25 [00:13<00:00,  1.79it/s]\n",
      "100%|██████████| 25/25 [00:13<00:00,  1.82it/s]\n",
      "100%|██████████| 25/25 [00:12<00:00,  2.04it/s]\n",
      "100%|██████████| 25/25 [00:14<00:00,  1.72it/s]\n",
      "100%|██████████| 25/25 [00:12<00:00,  2.00it/s]\n",
      "100%|██████████| 25/25 [00:12<00:00,  1.97it/s]\n",
      "100%|██████████| 25/25 [00:13<00:00,  1.82it/s]\n",
      "100%|██████████| 25/25 [00:12<00:00,  1.95it/s]\n",
      "100%|██████████| 25/25 [00:14<00:00,  1.76it/s]\n",
      "100%|██████████| 25/25 [00:13<00:00,  1.84it/s]\n",
      "100%|██████████| 64/64 [26:35<00:00, 24.93s/it]"
     ]
    },
    {
     "name": "stdout",
     "output_type": "stream",
     "text": [
      "        56      128     256\n",
      "0.1  0.8337  0.7833  0.8350\n",
      "0.2  0.7883  0.8421  0.8511\n",
      "0.3  0.8208  0.8458  0.8517\n"
     ]
    },
    {
     "name": "stderr",
     "output_type": "stream",
     "text": [
      "\n"
     ]
    }
   ],
   "source": [
    "from src.training import train_model\n",
    "hidden_size_array = (56, 128, 256)\n",
    "dropout_array = (0.1, 0.2, 0.3)\n",
    "\n",
    "result = pd.DataFrame(index = dropout_array, columns=hidden_size_array)\n",
    "print(result)\n",
    "\n",
    "for i in hidden_size_array:\n",
    "    for x in dropout_array:\n",
    "\n",
    "        config = {\n",
    "            \"vocab\": len(v),\n",
    "            \"input_size\": 32,\n",
    "            \"hidden_size\": i,\n",
    "            \"num_layers\": 3,\n",
    "            \"dropout\": x,\n",
    "            \"output_size\": 4,\n",
    "        }\n",
    "\n",
    "        model = rnn.NLPmodel(config)\n",
    "        print(model)\n",
    "\n",
    "        model = train_model.trainloop(\n",
    "            epochs=64,\n",
    "            model=model,\n",
    "            metrics=metrics,\n",
    "            optimizer=torch.optim.Adam,\n",
    "            learning_rate=1e-3,\n",
    "            loss_fn=loss_fn,\n",
    "            train_dataloader=trainstreamer,\n",
    "            test_dataloader=teststreamer,\n",
    "            log_dir=log_dir,\n",
    "            train_steps=25,\n",
    "            eval_steps=25,\n",
    "        )\n",
    "        result.at[x,i] =  model[1]\n",
    "        print(result)"
   ]
  },
  {
   "cell_type": "code",
   "execution_count": 34,
   "metadata": {},
   "outputs": [
    {
     "data": {
      "text/plain": [
       "<AxesSubplot:>"
      ]
     },
     "execution_count": 34,
     "metadata": {},
     "output_type": "execute_result"
    },
    {
     "data": {
      "image/png": "[encoded data removed]",
      "text/plain": [
       "<Figure size 432x288 with 2 Axes>"
      ]
     },
     "metadata": {
      "needs_background": "light"
     },
     "output_type": "display_data"
    }
   ],
   "source": [
    "result = result.astype(float)\n",
    "sns.heatmap(result, annot=True)"
   ]
  }
 ],
 "metadata": {
  "kernelspec": {
   "display_name": "Python 3.9.13 ('exam-22-KwCzH9GQ-py3.9')",
   "language": "python",
   "name": "python3"
  },
  "language_info": {
   "codemirror_mode": {
    "name": "ipython",
    "version": 3
   },
   "file_extension": ".py",
   "mimetype": "text/x-python",
   "name": "python",
   "nbconvert_exporter": "python",
   "pygments_lexer": "ipython3",
   "version": "3.9.13"
  },
  "orig_nbformat": 4,
  "vscode": {
   "interpreter": {
    "hash": "793d4b0ba659e9ff3f4cb7a1b3752627ccc54f1224ce4526b6cf626154c05563"
   }
  }
 },
 "nbformat": 4,
 "nbformat_minor": 2
}
